{
 "cells": [
  {
   "cell_type": "code",
   "execution_count": 1,
   "id": "8ef7e183-9908-49e4-ad9c-0aff5759c0bf",
   "metadata": {},
   "outputs": [],
   "source": [
    "import serial\n",
    "import numpy as np\n",
    "import threading"
   ]
  },
  {
   "cell_type": "code",
   "execution_count": 2,
   "id": "bfa92abc-b31d-416b-892d-08e4d5112e48",
   "metadata": {},
   "outputs": [],
   "source": [
    "test = serial.Serial(\"COM3\",115200)"
   ]
  },
  {
   "cell_type": "code",
   "execution_count": 3,
   "id": "a5472804-a411-46bf-b99a-6bd44764efd9",
   "metadata": {},
   "outputs": [
    {
     "name": "stdout",
     "output_type": "stream",
     "text": [
      "[97]\n",
      "[b'X', b'i', b'l', b'i']\n"
     ]
    }
   ],
   "source": [
    "############################  for my module #############################            \n",
    "\n",
    "input_uart = []\n",
    "\n",
    "for i in range (0, 1, 1):\n",
    "    input_uart.append(0x61)\n",
    "\n",
    "print(input_uart)\n",
    "\n",
    "\n",
    "#########################  TX _ UART   ##################################\n",
    "test.write(input_uart)\n",
    "\n",
    "result = []\n",
    "for j in range (0, 4, 1):\n",
    "    result.append(test.read())\n",
    "\n",
    "print(result)\n",
    "#############################################"
   ]
  },
  {
   "cell_type": "code",
   "execution_count": 2,
   "id": "5123e29f-7733-4f73-a30c-eddef19f50a5",
   "metadata": {},
   "outputs": [],
   "source": [
    "ser = serial.Serial(\"COM3\",115200)"
   ]
  },
  {
   "cell_type": "code",
   "execution_count": 3,
   "id": "b1de9c1d-7b94-443c-8bdd-a0934d30538b",
   "metadata": {},
   "outputs": [],
   "source": [
    "def sends():\n",
    "    \"\"\" send data \"\"\" \n",
    "    while True:\n",
    "        inp = input( \"Please enter the characters to be sent:\")\n",
    "        inp = inp.encode('ascii')\n",
    "        ser.write(inp) # Send\n",
    "        print(inp)\n",
    "        "
   ]
  },
  {
   "cell_type": "code",
   "execution_count": 4,
   "id": "8d798f50-1493-468b-ba44-ef8229565cc8",
   "metadata": {},
   "outputs": [],
   "source": [
    "def reads():\n",
    "    \"\" \"Read Data\" \"\"\n",
    "    out = ''\n",
    "    while True:\n",
    "        while ser.inWaiting() > 0:\n",
    "            out += ser.read(1).decode() # a a reading\n",
    "            if out != '':\n",
    "                print(out)\n",
    "        #print(out)"
   ]
  },
  {
   "cell_type": "code",
   "execution_count": 5,
   "id": "0937becf-b595-42a9-8f8a-b545b36698e8",
   "metadata": {},
   "outputs": [],
   "source": [
    "if __name__ == '__main__':\n",
    "    t1 = threading.Thread(target=sends, name='sends')\n",
    "    t2 = threading.Thread(target=reads, name='reads')\n",
    "    t2.start()"
   ]
  },
  {
   "cell_type": "code",
   "execution_count": 6,
   "id": "a3a9c83f-40ea-47c1-8115-5a82397218b9",
   "metadata": {},
   "outputs": [
    {
     "name": "stdin",
     "output_type": "stream",
     "text": [
      "Please enter the characters to be sent: a\n"
     ]
    },
    {
     "name": "stdout",
     "output_type": "stream",
     "text": [
      "b'a'\n",
      "Please enter the characters to be sent:"
     ]
    },
    {
     "name": "stderr",
     "output_type": "stream",
     "text": [
      "Exception in thread sends:\n",
      "Traceback (most recent call last):\n",
      "  File \"C:\\Users\\alphalee\\Anaconda3\\lib\\threading.py\", line 932, in _bootstrap_inner\n",
      "    self.run()\n",
      "  File \"C:\\Users\\alphalee\\Anaconda3\\lib\\threading.py\", line 870, in run\n",
      "    self._target(*self._args, **self._kwargs)\n",
      "  File \"<ipython-input-3-0ca21fac776a>\", line 4, in sends\n",
      "EOFError: EOF when reading a line\n"
     ]
    },
    {
     "name": "stdout",
     "output_type": "stream",
     "text": [
      "a\n",
      "aa\n",
      "aai\n",
      "aaii\n"
     ]
    }
   ],
   "source": [
    "t1.start()"
   ]
  },
  {
   "cell_type": "code",
   "execution_count": 7,
   "id": "ef2db7f7-5c92-4a9e-aaab-d801fa5bf60e",
   "metadata": {},
   "outputs": [
    {
     "ename": "NameError",
     "evalue": "name 'inp' is not defined",
     "output_type": "error",
     "traceback": [
      "\u001b[1;31m---------------------------------------------------------------------------\u001b[0m",
      "\u001b[1;31mNameError\u001b[0m                                 Traceback (most recent call last)",
      "\u001b[1;32m<ipython-input-7-cb8c237a903d>\u001b[0m in \u001b[0;36m<module>\u001b[1;34m\u001b[0m\n\u001b[1;32m----> 1\u001b[1;33m \u001b[0mprint\u001b[0m\u001b[1;33m(\u001b[0m\u001b[0minp\u001b[0m\u001b[1;33m)\u001b[0m\u001b[1;33m\u001b[0m\u001b[1;33m\u001b[0m\u001b[0m\n\u001b[0m",
      "\u001b[1;31mNameError\u001b[0m: name 'inp' is not defined"
     ]
    }
   ],
   "source": [
    "print(inp)"
   ]
  },
  {
   "cell_type": "code",
   "execution_count": null,
   "id": "8fd01cbc-27a3-472e-a3f6-e5eb724ea918",
   "metadata": {},
   "outputs": [],
   "source": []
  }
 ],
 "metadata": {
  "kernelspec": {
   "display_name": "Python 3",
   "language": "python",
   "name": "python3"
  },
  "language_info": {
   "codemirror_mode": {
    "name": "ipython",
    "version": 3
   },
   "file_extension": ".py",
   "mimetype": "text/x-python",
   "name": "python",
   "nbconvert_exporter": "python",
   "pygments_lexer": "ipython3",
   "version": "3.8.8"
  }
 },
 "nbformat": 4,
 "nbformat_minor": 5
}
