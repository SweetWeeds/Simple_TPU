{
 "cells": [
  {
   "cell_type": "code",
   "execution_count": 27,
   "source": [
    "from sa import *\r\n",
    "import os\r\n",
    "\r\n",
    "OFF_MEM_FILE = \"../hex_mem_128b.mem\"\r\n",
    "SAVE_DATA_ROOT_DIR = \"./sa_py_data_Q_Num\"\r\n",
    "RANDOM_MEM_GEN = False\r\n",
    "DO_PRINT = False\r\n",
    "GENERATE_ISA = False\r\n",
    "decode = False\r\n",
    "\r\n",
    "def save_data(file_name:str, data:list):\r\n",
    "    if not os.path.exists(SAVE_DATA_ROOT_DIR):\r\n",
    "        os.makedirs(SAVE_DATA_ROOT_DIR)\r\n",
    "    with open(os.path.join(SAVE_DATA_ROOT_DIR, file_name), \"w\") as fp:\r\n",
    "        for d in data:\r\n",
    "            fp.write(d + \"\\n\")"
   ],
   "outputs": [],
   "metadata": {}
  },
  {
   "cell_type": "code",
   "execution_count": 28,
   "source": [
    "# Instantiation\r\n",
    "SA = SYSTOLIC_ARRAY(gen_isa=GENERATE_ISA, USE_Q_NUMBER=True, Q=4)\r\n",
    "OFF_MEM = BRAM(depth=256, data_num=16, nbits=8)\r\n",
    "\r\n",
    "# Generate Random Memory Data\r\n",
    "if RANDOM_MEM_GEN:\r\n",
    "    gen_random_hex_mem_data(OFF_MEM_FILE, depth=256, data_num=16, nbits=8)\r\n",
    "OFF_MEM.load_file(file_path=OFF_MEM_FILE)"
   ],
   "outputs": [],
   "metadata": {}
  },
  {
   "cell_type": "code",
   "execution_count": 29,
   "source": [
    "# 1. Write data to UB\r\n",
    "print(\"1. Write data to UB\")\r\n",
    "for i in range(0, 256, 1):\r\n",
    "    #data = encode([i - j for j in range(15, -1, -1)], 16, 8)\r\n",
    "    #SA.WRITE_DATA(i, data)\r\n",
    "    SA.AXI_TO_UB_INST(OFF_MEM, i, i)\r\n",
    "    SA.GENERATE_ISA(\"AXI_TO_UB_INST\", i*16, i*16)\r\n",
    "data = SA.UB_PRINT(dec=decode, do_print=DO_PRINT)\r\n",
    "save_data(\"1_UB.txt\", data)\r\n"
   ],
   "outputs": [
    {
     "output_type": "stream",
     "name": "stdout",
     "text": [
      "1. Write data to UB\n"
     ]
    }
   ],
   "metadata": {
    "tags": []
   }
  },
  {
   "cell_type": "code",
   "execution_count": 30,
   "source": [
    "# 2. Write weight to WB\r\n",
    "print(\"2. Write weight to WB\")\r\n",
    "for i in range(0, 256, 1):\r\n",
    "    #weight = encode([- i + j for j in range(15, -1, -1)], 16, 8)\r\n",
    "    #SA.WRITE_WEIGHT(i, weight)\r\n",
    "    SA.AXI_TO_WB_INST(OFF_MEM, i, 256-i-1)\r\n",
    "    SA.GENERATE_ISA(\"AXI_TO_WB_INST\", i*16, (256-i-1)*16)\r\n",
    "data = SA.WB_PRINT(dec=decode, do_print=DO_PRINT)\r\n",
    "save_data(\"2_WB.txt\", data)"
   ],
   "outputs": [
    {
     "output_type": "stream",
     "name": "stdout",
     "text": [
      "2. Write weight to WB\n"
     ]
    }
   ],
   "metadata": {}
  },
  {
   "cell_type": "code",
   "execution_count": 31,
   "source": [
    "\r\n",
    "# 3. IDLE\r\n",
    "\r\n",
    "# 4. Load Data\r\n",
    "print(\"4. Load Data\")\r\n",
    "for i in range(5):\r\n",
    "    SA.UB_TO_DATA_FIFO_INST(i)\r\n",
    "    SA.GENERATE_ISA(\"UB_TO_DATA_FIFO_INST\", 0, i*16)\r\n",
    "data = SA.DATA_FIFO_PRINT(dec=decode, do_print=DO_PRINT)\r\n",
    "save_data(\"4_DATA_FIFO.txt\", data)"
   ],
   "outputs": [
    {
     "output_type": "stream",
     "name": "stdout",
     "text": [
      "4. Load Data\n"
     ]
    }
   ],
   "metadata": {}
  },
  {
   "cell_type": "code",
   "execution_count": 32,
   "source": [
    "# 5. Load Weight\r\n",
    "print(\"5. Load Weight\")\r\n",
    "for i in range(21):\r\n",
    "    SA.LOAD_WEIGHT(i)\r\n",
    "    SA.GENERATE_ISA(\"UB_TO_WEIGHT_FIFO_INST\", 0, i*16)\r\n",
    "\r\n",
    "print(\"Print MMU's weight\")\r\n",
    "data = SA.MMU_WEIGHT_PRINT(dec=decode, do_print=DO_PRINT)\r\n",
    "save_data(\"5_MMU.txt\", data)\r\n",
    "\r\n",
    "print(\"Print WEIGHT_FIFO's weight\")\r\n",
    "data = SA.WEIGHT_FIFO_PRINT(dec=decode, do_print=DO_PRINT)\r\n",
    "save_data(\"5_WEIGHT_FIFO.txt\", data)"
   ],
   "outputs": [
    {
     "output_type": "stream",
     "name": "stdout",
     "text": [
      "5. Load Weight\n",
      "Print MMU's weight\n",
      "Print WEIGHT_FIFO's weight\n"
     ]
    }
   ],
   "metadata": {}
  },
  {
   "cell_type": "code",
   "execution_count": 33,
   "source": [
    "# 6. Matrix Multiplication\r\n",
    "for i in range(16):\r\n",
    "    SA.MAT_MUL(i, i)\r\n",
    "    SA.GENERATE_ISA(\"MAT_MUL_INST\", i*16, i*16)\r\n",
    "data = SA.ACC_PRINT(dec=decode, do_print=DO_PRINT)\r\n",
    "save_data(\"6_ACC.txt\", data)"
   ],
   "outputs": [],
   "metadata": {}
  },
  {
   "cell_type": "code",
   "execution_count": 34,
   "source": [
    "# 7. Write result at UB\r\n",
    "for i in range(16):\r\n",
    "    SA.WRITE_RESULT(64 + i, i)\r\n",
    "    SA.GENERATE_ISA(\"ACC_TO_UB_INST\", (64 + i)*16, i*16)\r\n",
    "\r\n",
    "# 8. Write UB's results at OFF-MEM\r\n",
    "for i in range(16):\r\n",
    "    SA.UB_TO_AXI_INST(OFF_MEM, i, 64 + i)\r\n",
    "    SA.GENERATE_ISA(\"UB_TO_AXI_INST\", i*16, (64 + i)*16)\r\n",
    "\r\n",
    "data = OFF_MEM.print(dec=decode, do_print=DO_PRINT)\r\n",
    "save_data(\"8_OFF_MEM.txt\", data)"
   ],
   "outputs": [],
   "metadata": {}
  },
  {
   "cell_type": "code",
   "execution_count": 35,
   "source": [
    "# 9. Matrix Multiplication with accumulation\r\n",
    "print (\"9. Matrix Multiplication with accumulation\")\r\n",
    "for i in range(16):\r\n",
    "    SA.MAT_MUL_ACC(i, 16 + i)\r\n",
    "    SA.GENERATE_ISA(\"MAT_MUL_ACC_INST\", i*16, (16 + i)*16)\r\n",
    "data = SA.ACC_PRINT(dec=decode, do_print=DO_PRINT)\r\n",
    "save_data(\"9_ACC.txt\", data)"
   ],
   "outputs": [
    {
     "output_type": "stream",
     "name": "stdout",
     "text": [
      "9. Matrix Multiplication with accumulation\n"
     ]
    }
   ],
   "metadata": {}
  },
  {
   "cell_type": "code",
   "execution_count": 36,
   "source": [
    "# 10. Write result at UB\r\n",
    "print(\"10. Write result at UB\")\r\n",
    "for i in range(16):\r\n",
    "    SA.WRITE_RESULT(i + 64 + 16, i)\r\n",
    "    SA.GENERATE_ISA(\"ACC_TO_UB_INST\", (64 + 16 + i)*16, i*16)\r\n",
    "data = SA.UB_PRINT(dec=decode, do_print=DO_PRINT)\r\n",
    "save_data(\"10_UB.txt\", data)"
   ],
   "outputs": [
    {
     "output_type": "stream",
     "name": "stdout",
     "text": [
      "10. Write result at UB\n"
     ]
    }
   ],
   "metadata": {}
  },
  {
   "cell_type": "code",
   "execution_count": 37,
   "source": [
    "# 11. Write UB's result at OFF-MEM\r\n",
    "print(\"11. Write UB's result at OFF-MEM\")\r\n",
    "for i in range(16, 33, 1):\r\n",
    "    SA.UB_TO_AXI_INST(OFF_MEM, i, 64 + i)\r\n",
    "    SA.GENERATE_ISA(\"UB_TO_AXI_INST\", i*16, (64 + i)*16)\r\n",
    "data = OFF_MEM.print(dec=decode, do_print=DO_PRINT)\r\n",
    "save_data(\"11_OFF_MEM.txt\", data)\r\n",
    "SA.ISA_FP_CLOSE()"
   ],
   "outputs": [
    {
     "output_type": "stream",
     "name": "stdout",
     "text": [
      "11. Write UB's result at OFF-MEM\n"
     ]
    }
   ],
   "metadata": {}
  },
  {
   "cell_type": "code",
   "execution_count": 38,
   "source": [
    "# Check data values\r\n",
    "compare_file(os.path.join(SAVE_DATA_ROOT_DIR, \"1_UB.txt\"), os.path.join(SAVE_DATA_ROOT_DIR, \"1_UB_TB.txt\"))\r\n",
    "compare_file(os.path.join(SAVE_DATA_ROOT_DIR, \"2_WB.txt\"), os.path.join(SAVE_DATA_ROOT_DIR, \"2_WB_TB.txt\"))\r\n",
    "compare_file(os.path.join(SAVE_DATA_ROOT_DIR, \"4_DATA_FIFO.txt\"), os.path.join(SAVE_DATA_ROOT_DIR, \"4_DATA_FIFO_TB.txt\"))\r\n",
    "compare_file(os.path.join(SAVE_DATA_ROOT_DIR, \"5_MMU.txt\"), os.path.join(SAVE_DATA_ROOT_DIR, \"5_MMU_TB.txt\"))\r\n",
    "compare_file(os.path.join(SAVE_DATA_ROOT_DIR, \"5_WEIGHT_FIFO.txt\"), os.path.join(SAVE_DATA_ROOT_DIR, \"5_WEIGHT_FIFO_TB.txt\"))\r\n",
    "compare_file(os.path.join(SAVE_DATA_ROOT_DIR, \"6_ACC.txt\"), os.path.join(SAVE_DATA_ROOT_DIR, \"6_ACC_TB.txt\"))\r\n",
    "compare_file(os.path.join(SAVE_DATA_ROOT_DIR, \"8_OFF_MEM.txt\"), os.path.join(SAVE_DATA_ROOT_DIR, \"8_OFF_MEM_TB.txt\"))\r\n",
    "compare_file(os.path.join(SAVE_DATA_ROOT_DIR, \"9_ACC.txt\"), os.path.join(SAVE_DATA_ROOT_DIR, \"9_ACC_TB.txt\"))\r\n",
    "compare_file(os.path.join(SAVE_DATA_ROOT_DIR, \"10_UB.txt\"), os.path.join(SAVE_DATA_ROOT_DIR, \"10_UB_TB.txt\"))\r\n",
    "compare_file(os.path.join(SAVE_DATA_ROOT_DIR, \"11_OFF_MEM.txt\"), os.path.join(SAVE_DATA_ROOT_DIR, \"11_OFF_MEM_TB.txt\"))"
   ],
   "outputs": [
    {
     "output_type": "stream",
     "name": "stdout",
     "text": [
      "/** Comparing \"./sa_py_data_Q_Num\\1_UB.txt\" and \"./sa_py_data_Q_Num\\1_UB_TB.txt\" **/\n",
      "[ERROR] File not found. (./sa_py_data_Q_Num\\1_UB.txt,./sa_py_data_Q_Num\\1_UB_TB.txt)\n",
      "\"./sa_py_data_Q_Num\\1_UB.txt\" and \"./sa_py_data_Q_Num\\1_UB_TB.txt\" are matching.\n",
      "/** Comparing \"./sa_py_data_Q_Num\\2_WB.txt\" and \"./sa_py_data_Q_Num\\2_WB_TB.txt\" **/\n",
      "[ERROR] File not found. (./sa_py_data_Q_Num\\2_WB.txt,./sa_py_data_Q_Num\\2_WB_TB.txt)\n",
      "\"./sa_py_data_Q_Num\\2_WB.txt\" and \"./sa_py_data_Q_Num\\2_WB_TB.txt\" are matching.\n",
      "/** Comparing \"./sa_py_data_Q_Num\\4_DATA_FIFO.txt\" and \"./sa_py_data_Q_Num\\4_DATA_FIFO_TB.txt\" **/\n",
      "[ERROR] File not found. (./sa_py_data_Q_Num\\4_DATA_FIFO.txt,./sa_py_data_Q_Num\\4_DATA_FIFO_TB.txt)\n",
      "\"./sa_py_data_Q_Num\\4_DATA_FIFO.txt\" and \"./sa_py_data_Q_Num\\4_DATA_FIFO_TB.txt\" are matching.\n",
      "/** Comparing \"./sa_py_data_Q_Num\\5_MMU.txt\" and \"./sa_py_data_Q_Num\\5_MMU_TB.txt\" **/\n",
      "[ERROR] File not found. (./sa_py_data_Q_Num\\5_MMU.txt,./sa_py_data_Q_Num\\5_MMU_TB.txt)\n",
      "\"./sa_py_data_Q_Num\\5_MMU.txt\" and \"./sa_py_data_Q_Num\\5_MMU_TB.txt\" are matching.\n",
      "/** Comparing \"./sa_py_data_Q_Num\\5_WEIGHT_FIFO.txt\" and \"./sa_py_data_Q_Num\\5_WEIGHT_FIFO_TB.txt\" **/\n",
      "[ERROR] File not found. (./sa_py_data_Q_Num\\5_WEIGHT_FIFO.txt,./sa_py_data_Q_Num\\5_WEIGHT_FIFO_TB.txt)\n",
      "\"./sa_py_data_Q_Num\\5_WEIGHT_FIFO.txt\" and \"./sa_py_data_Q_Num\\5_WEIGHT_FIFO_TB.txt\" are matching.\n",
      "/** Comparing \"./sa_py_data_Q_Num\\6_ACC.txt\" and \"./sa_py_data_Q_Num\\6_ACC_TB.txt\" **/\n",
      "[ERROR] File not found. (./sa_py_data_Q_Num\\6_ACC.txt,./sa_py_data_Q_Num\\6_ACC_TB.txt)\n",
      "\"./sa_py_data_Q_Num\\6_ACC.txt\" and \"./sa_py_data_Q_Num\\6_ACC_TB.txt\" are matching.\n",
      "/** Comparing \"./sa_py_data_Q_Num\\8_OFF_MEM.txt\" and \"./sa_py_data_Q_Num\\8_OFF_MEM_TB.txt\" **/\n",
      "[ERROR] File not found. (./sa_py_data_Q_Num\\8_OFF_MEM.txt,./sa_py_data_Q_Num\\8_OFF_MEM_TB.txt)\n",
      "\"./sa_py_data_Q_Num\\8_OFF_MEM.txt\" and \"./sa_py_data_Q_Num\\8_OFF_MEM_TB.txt\" are matching.\n",
      "/** Comparing \"./sa_py_data_Q_Num\\9_ACC.txt\" and \"./sa_py_data_Q_Num\\9_ACC_TB.txt\" **/\n",
      "[ERROR] File not found. (./sa_py_data_Q_Num\\9_ACC.txt,./sa_py_data_Q_Num\\9_ACC_TB.txt)\n",
      "\"./sa_py_data_Q_Num\\9_ACC.txt\" and \"./sa_py_data_Q_Num\\9_ACC_TB.txt\" are matching.\n",
      "/** Comparing \"./sa_py_data_Q_Num\\10_UB.txt\" and \"./sa_py_data_Q_Num\\10_UB_TB.txt\" **/\n",
      "[ERROR] File not found. (./sa_py_data_Q_Num\\10_UB.txt,./sa_py_data_Q_Num\\10_UB_TB.txt)\n",
      "\"./sa_py_data_Q_Num\\10_UB.txt\" and \"./sa_py_data_Q_Num\\10_UB_TB.txt\" are matching.\n",
      "/** Comparing \"./sa_py_data_Q_Num\\11_OFF_MEM.txt\" and \"./sa_py_data_Q_Num\\11_OFF_MEM_TB.txt\" **/\n",
      "[ERROR] File not found. (./sa_py_data_Q_Num\\11_OFF_MEM.txt,./sa_py_data_Q_Num\\11_OFF_MEM_TB.txt)\n",
      "\"./sa_py_data_Q_Num\\11_OFF_MEM.txt\" and \"./sa_py_data_Q_Num\\11_OFF_MEM_TB.txt\" are matching.\n"
     ]
    },
    {
     "output_type": "execute_result",
     "data": {
      "text/plain": [
       "True"
      ]
     },
     "metadata": {},
     "execution_count": 38
    }
   ],
   "metadata": {}
  },
  {
   "cell_type": "code",
   "execution_count": 40,
   "source": [
    "compare_file(os.path.join(SAVE_DATA_ROOT_DIR, \"11_OFF_MEM.txt\"), os.path.join(SAVE_DATA_ROOT_DIR, \"Q_VIP_OFF_MEM_TB.txt\"))"
   ],
   "outputs": [
    {
     "output_type": "stream",
     "name": "stdout",
     "text": [
      "/** Comparing \"./sa_py_data_Q_Num\\11_OFF_MEM.txt\" and \"./sa_py_data_Q_Num\\Q_VIP_OFF_MEM_TB.txt\" **/\n",
      "[WARNING] Data mismatch in 1 line.\n",
      "          Data1:7f80567f807f8080809d807f80807f7f\n",
      "          Data2:7f80557f807f8080809c807f80807f7f\n",
      "[WARNING] Data mismatch in 2 line.\n",
      "          Data1:7f3f7f7f807f80808080800f805f7f7f\n",
      "          Data2:7f3e7f7f807f80808080800f805e7f7f\n",
      "[WARNING] Data mismatch in 4 line.\n",
      "          Data1:80f77f7f807f8080ee7f7f80d2a07f80\n",
      "          Data2:80f67f7f807f8080ee7f7f80d29f7f80\n",
      "[WARNING] Data mismatch in 6 line.\n",
      "          Data1:7f80567f807f8080809d807f80807f7f\n",
      "          Data2:7f80557f807f8080809c807f80807f7f\n",
      "[WARNING] Data mismatch in 7 line.\n",
      "          Data1:7f3f7f7f807f80808080800f805f7f7f\n",
      "          Data2:7f3e7f7f807f80808080800f805e7f7f\n",
      "[WARNING] Data mismatch in 9 line.\n",
      "          Data1:80f77f7f807f8080ee7f7f80d2a07f80\n",
      "          Data2:80f67f7f807f8080ee7f7f80d29f7f80\n",
      "[WARNING] Data mismatch in 10 line.\n",
      "          Data1:808080807f807f807f807f7f808080f2\n",
      "          Data2:808080807f807f807f807f7f808080f1\n",
      "[WARNING] Data mismatch in 13 line.\n",
      "          Data1:7f7f7f7f7f7f80c9977f8080807f7f80\n",
      "          Data2:7f7f7f7f7f7f80c8967f8080807f7f80\n",
      "[WARNING] Data mismatch in 15 line.\n",
      "          Data1:7f7f90807f7f807f88807f7f7f7f7f7f\n",
      "          Data2:7f7f8f807f7f807f88807f7f7f7f7f7f\n",
      "[WARNING] Data mismatch in 17 line.\n",
      "          Data1:7f807f807f8080867f80807f8080037f\n",
      "          Data2:7f807f807f8080847f80807f8080037f\n",
      "[WARNING] Data mismatch in 18 line.\n",
      "          Data1:7f807f7f807f808080568080807f7f7f\n",
      "          Data2:7f807f7f807f808080548080807f7f7f\n",
      "[WARNING] Data mismatch in 20 line.\n",
      "          Data1:80807f7f807f7f80807f7f7f7f6d7f80\n",
      "          Data2:80807f7f807f7f80807f7f7f7f6b7f80\n",
      "[WARNING] Data mismatch in 22 line.\n",
      "          Data1:7f807f7f7f7f8080927f6b7f80807f7f\n",
      "          Data2:7f807f7f7f7f8080927f6a7f80807f7f\n",
      "[WARNING] Data mismatch in 23 line.\n",
      "          Data1:7f807f80801f808080ff808080807f7f\n",
      "          Data2:7f807f80801f808080fe808080807f7f\n",
      "[WARNING] Data mismatch in 24 line.\n",
      "          Data1:808016807f80317f7f7f807f7f7f7f80\n",
      "          Data2:808016807f802f7f7f7f807f7f7f7f80\n",
      "[WARNING] Data mismatch in 25 line.\n",
      "          Data1:80807f7f80807f807f7f7f7f807fa27f\n",
      "          Data2:80807f7f80807f807f7f7f7f807fa17f\n",
      "[WARNING] Data mismatch in 26 line.\n",
      "          Data1:7fa480807f2280807f807f808080807f\n",
      "          Data2:7fa380807f2280807f807f808080807f\n",
      "[WARNING] Data mismatch in 27 line.\n",
      "          Data1:9e7f7f807f7f7f7f7f80807f8080807f\n",
      "          Data2:9d7f7f807f7f7f7f7f80807f8080807f\n",
      "[WARNING] Data mismatch in 28 line.\n",
      "          Data1:7f807f807f7f807f7f807f7f7f806d7f\n",
      "          Data2:7f807f807f7f807f7f807f7f7f806c7f\n",
      "[WARNING] Data mismatch in 29 line.\n",
      "          Data1:80807f7f7f7f7f7f567f8080807f7f7f\n",
      "          Data2:80807f7f7f7f7f7f547f8080807f7f7f\n",
      "[WARNING] Data mismatch in 30 line.\n",
      "          Data1:7f7fae7f097f807f80807f807f7f7f80\n",
      "          Data2:7f7fae7f087f807f80807f807f7f7f80\n",
      "[WARNING] Data mismatch in 31 line.\n",
      "          Data1:7f7f9f807f7f807f7f808080807f807f\n",
      "          Data2:7f7f9e807f7f807f7f808080807f807f\n"
     ]
    },
    {
     "output_type": "execute_result",
     "data": {
      "text/plain": [
       "False"
      ]
     },
     "metadata": {},
     "execution_count": 40
    }
   ],
   "metadata": {}
  },
  {
   "cell_type": "code",
   "execution_count": null,
   "source": [],
   "outputs": [],
   "metadata": {}
  }
 ],
 "metadata": {
  "kernelspec": {
   "name": "python3",
   "display_name": "Python 3.8.8 64-bit ('base': conda)"
  },
  "language_info": {
   "codemirror_mode": {
    "name": "ipython",
    "version": 3
   },
   "file_extension": ".py",
   "mimetype": "text/x-python",
   "name": "python",
   "nbconvert_exporter": "python",
   "pygments_lexer": "ipython3",
   "version": "3.8.8"
  },
  "interpreter": {
   "hash": "1918674aa66fe15889628e3ec3051aea9dbd37a663c165427e9dd5d208c9aad6"
  }
 },
 "nbformat": 4,
 "nbformat_minor": 5
}