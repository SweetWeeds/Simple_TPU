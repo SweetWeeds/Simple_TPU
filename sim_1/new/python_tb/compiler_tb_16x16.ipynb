{
 "cells": [
  {
   "cell_type": "code",
   "execution_count": 1,
   "source": [
    "from sa import *\r\n",
    "import os, json\r\n",
    "import random\r\n",
    "import numpy as np\r\n",
    "import sys\r\n",
    "np.set_printoptions(threshold=sys.maxsize)\r\n",
    "\r\n",
    "WEIGHT_FILE = \"./qm.json\"\r\n",
    "TEST_INPUT = \"./img0.npy\"\r\n",
    "RANDOM_MEM_GEN = False\r\n",
    "DO_PRINT = False\r\n",
    "GENERATE_ISA = False\r\n",
    "with open(os.path.join(WEIGHT_FILE)) as fp:\r\n",
    "    QM_DATA = json.loads(fp.read())\r\n",
    "if RANDOM_MEM_GEN:\r\n",
    "    TEST_INPUT = np.array([random.randint(-7,7) for i in range(0, -16, -1)])\r\n",
    "    np.save(\"TEST_INPUT.npy\", TEST_INPUT)\r\n",
    "    TEST_WEIGHT = np.array([\r\n",
    "        [[random.randint(-5,5) for j in range(16)] for i in range(16)]\r\n",
    "    ])\r\n",
    "    np.save(\"TEST_WEIGHT.npy\", TEST_WEIGHT)\r\n",
    "else:\r\n",
    "    TEST_INPUT = np.load(\"TEST_INPUT.npy\")\r\n",
    "    TEST_WEIGHT = np.load(\"TEST_WEIGHT.npy\")\r\n",
    "\r\n",
    "\r\n",
    "ADDR_MIN = 0x0000_0000\r\n",
    "ADDR_MAX = 0x0002_0000\r\n",
    "OFF_MEM_WB_BASE_ADDR = 0x0000_0000\r\n",
    "OFF_MEM_UB_BASE_ADDR = 0x0001_AA80\r\n",
    "\r\n",
    "FC1_SIZE = 0x0001_8800\r\n",
    "FC2_SIZE = 0x0000_2000\r\n",
    "FC3_SIZE = 0x0000_0280\r\n",
    "UB_SIZE  = 0x0000_0310\r\n",
    "\r\n",
    "FC1_OUTPUT_GOLDEN = np.load(\"./FC1_GOLDEN_VECTOR.npy\")\r\n",
    "FC2_OUTPUT_GOLDEN = np.load(\"./FC2_GOLDEN_VECTOR.npy\")\r\n",
    "FC3_OUTPUT_GOLDEN = np.load(\"./FC3_GOLDEN_VECTOR.npy\")\r\n",
    "\r\n",
    "Q = 5   # Q-Num format (Q-2.5)"
   ],
   "outputs": [],
   "metadata": {}
  },
  {
   "cell_type": "code",
   "execution_count": 2,
   "source": [
    "print(TEST_INPUT)\r\n",
    "print(TEST_WEIGHT)\r\n",
    "RESULT = np.matmul(TEST_INPUT, TEST_WEIGHT.transpose())\r\n",
    "print(RESULT.flatten())"
   ],
   "outputs": [
    {
     "output_type": "stream",
     "name": "stdout",
     "text": [
      "[-7 -7  5  4 -5  6  6  2  5 -6  1  7 -7  6  0  3]\n",
      "[[[ 2 -5 -5  0 -3 -1 -4  4  4 -5  2 -4 -1  4  4 -1]\n",
      "  [-3  5  0  0 -5  3  3  5  3 -5  3  0  2  5 -5  5]\n",
      "  [ 2 -1  3 -5  5  0 -4  3  5 -1 -5  0 -1  5 -3  5]\n",
      "  [ 3 -1 -4  3 -3  2  5  0 -4 -3 -5 -3 -4 -4  4  3]\n",
      "  [ 5  5 -1  0  3 -3 -2 -4  1 -5  2  2  2  4  0  4]\n",
      "  [-1  1 -4  3  0  2  3  4  1 -3  3 -4 -1  1  2 -3]\n",
      "  [ 0  2 -4 -5 -2  0  3 -4  4  0  3  3  1 -1  4  0]\n",
      "  [ 3 -5 -2  2 -4 -5  2  4 -4  0  2 -4  3  3  5  1]\n",
      "  [ 5  1 -4  3  1  1  2 -3 -2 -2 -1 -5  0  4 -2  3]\n",
      "  [-2 -5  4 -3  3  0  1  5 -5  4 -4  3 -2  3  3  5]\n",
      "  [-5  0  3 -5 -4  4  0  5 -2 -5  5  1 -1 -3 -1 -3]\n",
      "  [-1  5  5 -1 -3  3  5 -3  4 -4 -5 -2  5  0 -5 -3]\n",
      "  [ 3 -3  5 -1  4  4 -3  1 -5 -1  2  3 -2 -1  0  0]\n",
      "  [-4  2  0  2 -2 -1 -5 -3 -3  3  3 -5 -3  5  3  5]\n",
      "  [-2 -4  3 -2  1  0  5  0  4 -3 -4  4  5 -1 -2  1]\n",
      "  [ 2 -3  0 -2 -3  3 -2  4 -1  3  1 -5  5  2 -4 -1]]]\n",
      "[ -10   68  -54   13  -53   16   81  -94   37   27  -54 -130   25  -26\n",
      "   -4  -39]\n"
     ]
    }
   ],
   "metadata": {}
  },
  {
   "cell_type": "code",
   "execution_count": 3,
   "source": [
    "# Instantiation\r\n",
    "SA = SYSTOLIC_ARRAY(gen_isa=GENERATE_ISA, USE_Q_NUMBER=False, Q=4)\r\n",
    "OFF_MEM = BRAM(depth=8192, data_num=16, nbits=8)\r\n",
    "OFF_MEM.write(addr=0, val=encode(np.flip(TEST_INPUT), 16, 8))\r\n",
    "#TEST_WEIGHT = TEST_WEIGHT.transpose()\r\n",
    "TEST_WEIGHT = TEST_WEIGHT[0]\r\n",
    "#print(TEST_WEIGHT)\r\n",
    "for i in range(16):\r\n",
    "    #print(TEST_WEIGHT[i].flatten())\r\n",
    "    #print(f\"{i}:{TEST_WEIGHT[i]}\")\r\n",
    "    OFF_MEM.write(addr=i+1, val=encode(TEST_WEIGHT[i].flatten().tolist(), 16, 8))"
   ],
   "outputs": [],
   "metadata": {}
  },
  {
   "cell_type": "code",
   "execution_count": 4,
   "source": [
    "SA.AXI_TO_UB_INST(OFF_MEM,0,0)\r\n",
    "for i in range(16):\r\n",
    "    SA.AXI_TO_WB_INST(OFF_MEM, i,i+1)\r\n",
    "\r\n",
    "# Calc\r\n",
    "for i in range(20):\r\n",
    "    SA.LOAD_WEIGHT(i)\r\n",
    "for i in range(4):\r\n",
    "    SA.UB_TO_DATA_FIFO_INST(0)"
   ],
   "outputs": [],
   "metadata": {}
  },
  {
   "cell_type": "code",
   "execution_count": 5,
   "source": [
    "#SA.WB_PRINT()\r\n",
    "#SA.DATA_FIFO_PRINT(dec=True)\r\n",
    "#SA.MMU_WEIGHT_PRINT(dec=True)\r\n",
    "SA.MAT_MUL(0)"
   ],
   "outputs": [
    {
     "output_type": "stream",
     "name": "stdout",
     "text": [
      "[-10, 68, -54, 13, -53, 16, 81, -94, 37, 27, -54, -130, 25, -26, -4, -39]\n"
     ]
    },
    {
     "output_type": "execute_result",
     "data": {
      "text/plain": [
       "'f644ca0dcb1051a2251bca8019e6fcd9'"
      ]
     },
     "metadata": {},
     "execution_count": 5
    }
   ],
   "metadata": {}
  },
  {
   "cell_type": "code",
   "execution_count": 6,
   "source": [
    "SA.WRITE_RESULT(10, 0)\r\n",
    "print(decode(SA.UB.data[10], 16, 8))\r\n",
    "print(RESULT.flatten())"
   ],
   "outputs": [
    {
     "output_type": "stream",
     "name": "stdout",
     "text": [
      "[-10, 68, -54, 13, -53, 16, 81, -94, 37, 27, -54, -128, 25, -26, -4, -39]\n",
      "[ -10   68  -54   13  -53   16   81  -94   37   27  -54 -130   25  -26\n",
      "   -4  -39]\n"
     ]
    }
   ],
   "metadata": {}
  },
  {
   "cell_type": "markdown",
   "source": [
    "32x32"
   ],
   "metadata": {}
  },
  {
   "cell_type": "code",
   "execution_count": 7,
   "source": [
    "if RANDOM_MEM_GEN:\r\n",
    "    TEST_INPUT = np.array([random.randint(-7,7) for i in range(0, -32, -1)])\r\n",
    "    np.save(\"TEST_INPUT_1x32.npy\", TEST_INPUT)\r\n",
    "    TEST_WEIGHT = np.array(\r\n",
    "        [[random.randint(-5,5) for j in range(32)] for i in range(64)]\r\n",
    "    )\r\n",
    "    np.save(\"TEST_WEIGHT_32x64.npy\", TEST_WEIGHT)\r\n",
    "else:\r\n",
    "    TEST_INPUT = np.load(\"TEST_INPUT_1x32.npy\")\r\n",
    "    TEST_WEIGHT = np.load(\"TEST_WEIGHT_32x64.npy\")\r\n",
    "\r\n",
    "print(TEST_INPUT.shape, TEST_WEIGHT.shape)\r\n",
    "print(np.matmul(TEST_INPUT, TEST_WEIGHT.transpose()))"
   ],
   "outputs": [
    {
     "output_type": "stream",
     "name": "stdout",
     "text": [
      "(32,) (64, 32)\n",
      "[-174   45  -78   83 -153   45  -47  -25  -74  -99  -22   30   -5  -28\n",
      "   75 -148   56  172  -59   32  -23   52  -59   -5   39   34 -155   45\n",
      "  256   71 -119  -34  123  -27 -102  -60   76  -29   13  -38  -39   53\n",
      "  106  -41  -21   39   13  -38  120  -40   60   10   33  -36 -108   41\n",
      "  -74  156   22   44   94   72   69   39]\n"
     ]
    }
   ],
   "metadata": {}
  },
  {
   "cell_type": "code",
   "execution_count": 8,
   "source": [
    "print(TEST_INPUT)\r\n",
    "print(TEST_WEIGHT)"
   ],
   "outputs": [
    {
     "output_type": "stream",
     "name": "stdout",
     "text": [
      "[-7 -3  0  2  4  7  2 -2 -3  3 -3 -2 -3  3 -7 -7 -3  5 -1  6  0  5  0 -4\n",
      "  3 -5  6 -1 -2  7  5 -7]\n",
      "[[ 1  2 -4 -2  2  0 -4  5  4  4  3  5  4  0 -4  1  3 -5  2 -3 -2 -2  2 -2\n",
      "  -5  2  2  0  3 -2 -4  4]\n",
      " [-1 -1  1  3 -1  3  2 -4  3 -2  1  4  3 -3 -5 -4 -2  4  3 -2 -5 -4  1 -5\n",
      "  -5 -3 -3 -1 -5 -5  1 -1]\n",
      " [ 1 -2 -2 -2  0 -1  2  4 -1 -4  4 -4  5 -5  0 -5  4  3 -1 -4 -1  3 -1 -3\n",
      "   2  0 -2 -2  0 -5 -3  1]\n",
      " [-4 -1 -1 -1 -1 -1  5  0  5  1 -1  1 -2  4 -5  2 -5  0 -1 -3 -3  1  1  4\n",
      "   0 -2  3 -4  4  0 -1 -3]\n",
      " [ 4  2  2 -5 -1 -1 -3  3  4 -5  5  3 -1  1  5 -3 -5 -3  0 -3 -5 -4  2 -3\n",
      "   3  4  1  1  5 -4  1 -5]\n",
      " [-5 -2  2  5  0  0 -3  0 -2 -1 -5  5 -1 -4  5 -1  1  2  0  1 -1  2  4 -2\n",
      "  -3  0  3 -2  2  3  1  5]\n",
      " [ 1  4  0 -2  4 -3  2 -2 -5  2  3  3  2  4  0  4  0  2 -4  0  1 -3 -3 -5\n",
      "   5 -2 -4  0  0 -5  5  3]\n",
      " [ 2  5 -4  2 -1  0  3  2  5  0 -3  0  5  5 -2  1  3  0  4 -3  4  5  3  2\n",
      "   2 -5  4  0  5 -1  1  4]\n",
      " [-3 -3  5  4  1  2 -3 -4  3  4  2  3  0 -5  4 -3 -4 -1 -3 -2  5 -5  1 -3\n",
      "   0  4 -3  4  0 -3  1  4]\n",
      " [ 3 -4 -1 -4  1  3  4 -3 -5 -4  5  3  0 -5  1  1  0  3  2 -3 -3 -5  4  5\n",
      "  -5  2  2  4 -4 -2  4  3]\n",
      " [ 0  4  3 -1  4  5  0  4  5 -4  2  3 -2  5 -3 -1  5  5  0 -5 -3 -2  3 -2\n",
      "  -1  1  5 -4  2 -5 -1  3]\n",
      " [-2  0  4  4  1  2 -5  5  5  0 -1  5 -4 -2  1 -2 -3 -4 -1  0  3  1  5  4\n",
      "   2 -1  5  5 -5 -5  3 -2]\n",
      " [ 0  5  3 -1  0  0 -2 -5 -3 -3  5  5  3 -1  1 -2  2  4 -2  2 -1 -4  5 -5\n",
      "   2  3  0  0  5 -2  4 -3]\n",
      " [ 5  3 -1 -1 -3 -4  1 -2  5  4 -3 -4 -1 -1  4  1  5  2  0  5  5  2  4  0\n",
      "  -1  1  5  0 -4 -2  3 -1]\n",
      " [-1 -5  5 -2 -3 -5  5  2  1  2 -5  4  3 -4  5 -5 -4  5 -5  5 -3  5  0 -5\n",
      "  -4  1  3 -2  2  0  0  1]\n",
      " [-1 -3  0 -5  4 -3 -5 -2  1 -5  2  4 -1 -4  3 -1  2  0  4 -5  5  1  2  0\n",
      "   1  4 -4 -2  0 -3  0 -1]\n",
      " [ 3 -3 -5  3  5  0 -4 -2 -2  4  3  3  3  5  4  1 -5  2 -5  4  1  5 -1  4\n",
      "   3 -3  0  0  1  1 -4  0]\n",
      " [-3  2  1  1  1  3 -2 -3  0  1 -5 -1 -2 -5 -2 -4 -3  3 -4 -2 -1  2 -3  0\n",
      "   0 -3  2 -2  1  4 -4 -2]\n",
      " [ 4 -2  1 -4  5  4  5  5 -2  4 -2 -4 -2  0  5  1  5  3 -1  3 -5 -4  5 -3\n",
      "  -2  4 -2  0  5 -3  4  5]\n",
      " [-1 -1  0  3 -4  4 -3  2  4 -1 -4 -3 -2  5  2 -5 -2 -3  5 -4 -2 -3  2  1\n",
      "   2 -1  5  3  1 -1 -2 -1]\n",
      " [-2  5 -2  0 -4  3 -5 -1  0 -1  0 -1 -2 -2  4 -5  0  1  2 -4  5  3  5  4\n",
      "   2  3  0  1  3 -3  4 -2]\n",
      " [-3  2  3  1  4  5 -4 -5  1  0  0  2  4  2  4 -3  0 -5  5 -2 -3  1 -2  5\n",
      "   3 -1  5 -5 -4 -4 -1 -5]\n",
      " [ 4  2 -2  2  4 -1  0  4 -4 -3 -2  0  3  4 -2 -1  2 -4  2 -4 -5  1  5 -4\n",
      "   4 -2 -2  0  5 -2  2  4]\n",
      " [-4  4  2 -1 -3 -3  3  2 -2 -5 -4  0  4  5 -1  4 -2  0  3 -3  1  4  3  2\n",
      "   5 -5 -3 -3 -1 -1 -5 -5]\n",
      " [ 4  0 -5 -4  3 -3 -3  1  0 -1 -3 -3  1  2 -4 -5  5 -5  4  3  3 -3  5 -4\n",
      "   2  2  4  2  0  1  0 -2]\n",
      " [-2  3  5  1  5 -4 -1  2  2 -5 -3 -4  5 -4 -4  0 -4  2  5  4  0 -4 -3  4\n",
      "  -2  0  5 -1 -5  2  5  5]\n",
      " [ 3  5  2 -2  3 -4  2  4 -2 -1 -4 -5  0  2  5 -3  5 -5 -1  5  5 -5  5  4\n",
      "  -5  1  4  3  3 -2 -3  4]\n",
      " [-5  0  3  5  2  5 -2 -1 -5  3 -1 -4  0 -1  1  4 -1 -5  3  2  5  2  4 -2\n",
      "  -3  3 -1  1 -5 -4  4  2]\n",
      " [-4  2 -5  4  1  0  1  5 -5 -3 -3 -4 -1 -5 -4 -5  0  0  0  4  3  3  3 -5\n",
      "   2  1  1 -1 -4  5  5 -3]\n",
      " [ 4  2 -3  1 -2  2  1  4 -1  5 -2  1  0 -5  0 -4 -2 -1 -1 -3  1  2  0 -4\n",
      "   0 -5  3  3  3 -3  2 -5]\n",
      " [ 1 -5  3  4 -4 -1 -4  5  4  2  4  5 -2  0 -1  5 -3  2 -3 -4  2 -5 -3  4\n",
      "   5 -2 -4  5  2  4  0  3]\n",
      " [ 3  5  2  1  2  0  4 -4  2  0  4  1 -5  3 -3  3 -4 -3 -5  3 -3  1 -4 -3\n",
      "   3 -2 -1  1  5 -2 -5  4]\n",
      " [-4 -3 -2 -1  3  3 -4 -3 -2  5  2  2 -5 -4  3  1  0  4  3  5  5  4 -2 -5\n",
      "   4  2 -1 -1  0  3 -4  2]\n",
      " [ 2 -4  3  2  5 -3 -4  3  0  1  4  2  3  4 -5 -4 -4 -5 -3 -3 -1  2  1  2\n",
      "   3  4 -5 -5 -4 -3 -4 -4]\n",
      " [-4  3  0 -1 -3 -3 -5  3  3  2  3  2 -1  0  4  0  2  3 -5 -4  2 -2  4  2\n",
      "   0 -3  4 -5  1 -3 -3  1]\n",
      " [ 5 -3  2  1 -2 -4  2 -3  1  5  5  0  0  3  5  3 -2  4 -5 -3  5  2 -5  1\n",
      "   2 -5 -3  4 -4 -1  5  2]\n",
      " [ 1  0  1  0  0  4  4  1 -3 -1  1  4 -2  4  1 -3  5  2 -4  0  2 -1  0 -5\n",
      "   3  4  4 -1 -1  0 -3 -1]\n",
      " [-1 -4  2  1 -2 -5  1 -3  2 -5 -1  0 -3 -3  0  0  4  4  1  5  3 -2  3 -2\n",
      "  -5  5 -4 -3 -1  5 -3 -1]\n",
      " [ 0 -4 -2  5  5  2  0 -2  1 -3  5  2 -1  2  1  2  3 -1  0  4  0  5 -2  5\n",
      "  -5 -5 -2 -5  2  0 -5 -1]\n",
      " [-4  3 -4 -5 -3  3 -2  4  0 -3 -4 -5  0 -5  4 -4  1  1  5 -5  1 -4  1  4\n",
      "  -3  1  2 -1 -4  5  4  5]\n",
      " [ 5 -5  2  3  3  0 -4 -3 -4  2  5 -3 -1 -1 -4  2 -1  0  1  3 -1 -2 -5  5\n",
      "  -2  3  0  0  5 -1  5  5]\n",
      " [ 0  5 -3 -3 -2  3 -2  2  3  1 -1  4  1  4 -1 -2  2  4  4  3 -3  2 -1 -4\n",
      "  -5 -1 -2  5  1  2 -2 -3]\n",
      " [-1 -4 -3  1 -2  0  1 -3 -4  2  4 -2  0 -3 -4  3 -1  4  2  4  3 -3 -5  4\n",
      "  -1 -1  3  2  2  3  0 -4]\n",
      " [ 2  0 -3  2 -3  5 -1 -1 -5  5 -1 -5  2 -4  4  1  3  0 -2 -3  1 -4  0 -1\n",
      "   2  0 -2 -3 -4 -2  4  2]\n",
      " [ 3 -1  1 -2  0  4  0 -1 -4 -4  0 -3  3  0  4 -2 -5 -4  5  0  5  4  3  1\n",
      "   1  0 -2 -1  1 -2 -3 -3]\n",
      " [ 2  5 -4 -4 -4 -1  1 -4  3  3  0 -2 -4  0 -5 -4 -3  1 -2 -3  5 -2 -3  4\n",
      "  -3 -3  1  5 -1  5 -4 -2]\n",
      " [ 4 -2  0 -3 -5  3  2  2  0  5 -1 -4 -4 -3  2 -4 -4 -3 -4  2 -5 -1  2 -1\n",
      "  -4  3 -2  1  1  5  4  4]\n",
      " [ 4 -5  5 -4 -1 -3 -5 -2  5 -5  2  3  4 -3  1 -5 -1 -5  5 -3 -1 -2  1 -2\n",
      "   4 -5  5 -5 -4  3 -1  0]\n",
      " [-2 -4  1 -5 -2  2 -3  3 -3  3  0  2 -5  0 -2 -4  1  1  0  5  5 -5 -2 -1\n",
      "  -5  1  5 -3  1  1 -5 -5]\n",
      " [-1  2  4  2  2 -2 -3 -2 -3 -1  3 -1 -5  1  0  2 -1  3 -1 -4  3 -2  3 -1\n",
      "   4  0 -4  3  3 -5  4 -1]\n",
      " [ 1 -1  5  0 -2  3 -1 -5 -4 -4  2  5  2  1 -4 -4  3 -3 -5  3 -2  4 -2 -4\n",
      "   1  2  1  2  2 -3  4  3]\n",
      " [-3 -2 -4 -1 -5 -5  5 -3 -4 -2  1 -4 -5 -3  2  2 -4 -3 -3 -2 -5  5  3  4\n",
      "   4 -2 -1  0 -2 -1 -2 -5]\n",
      " [-1  1 -1 -3 -2  2  4 -5  3 -5  1 -3 -1 -5 -4  2 -5  5  4  0  1  3  3  4\n",
      "   2  4  0  3 -5 -4 -1 -5]\n",
      " [-3  0  5  1  2  1 -3  3  3  0 -5 -1 -3 -2  4 -2 -1  1  3  4  2  1  5  2\n",
      "  -3  3  1 -2 -2 -4 -2  5]\n",
      " [-1 -5 -2 -5 -5  3 -4  0  0  1  5 -2  3  3  2  5 -2  5  0  1 -3 -2 -2  4\n",
      "   0 -1  1  0  1 -3 -4  5]\n",
      " [ 0 -4  5 -4 -5  4 -3 -1 -2  4  5  5 -1  5  1  4 -2 -3  5 -4  1  3  4 -2\n",
      "   4  3  5  0 -2  3 -3 -5]\n",
      " [-4 -3  4 -1 -4 -3  5  4 -3  3  4  5  4 -1 -5  5 -4 -1  2  5 -1 -5 -5  3\n",
      "  -5  5  0  4  3 -3 -2 -4]\n",
      " [ 0 -1  3 -2  0  3  1  3  1  4  3 -3  5 -5 -5 -1  1 -2 -3  4 -2  4 -2 -3\n",
      "   2  1  5  4 -1  3  1 -3]\n",
      " [-3  5  5 -5  3  5  1  1 -5 -3 -5 -4  0  0 -5  0  4 -5  4 -5  3 -4 -2  2\n",
      "  -5  4  2 -4  1  2  0 -3]\n",
      " [-5 -2  3  0 -1  5  1  1 -1  5 -5 -4  5  2  5  2 -2 -3  0  2  4  0  1  4\n",
      "  -4  1  1  1 -5 -3  5  0]\n",
      " [-5 -4  3  1  5  4 -5  4  1  3 -2  5 -4 -1 -1  0  4  2 -1 -5  4  5 -2  2\n",
      "   3  0 -3 -3 -2 -5  4 -4]\n",
      " [-4  4  0  5 -3 -5 -2  0  0  3 -3 -5  1  1 -4 -2 -3 -5 -5  3 -3  3  0 -4\n",
      "  -2  0  1 -3  4 -3  3  0]\n",
      " [-4 -1  1 -2  1 -4  0  1 -2 -4 -3  3  0 -4 -5 -3  1  3 -2  0  4  5  3 -2\n",
      "  -4  0  2  2  1  0  1  3]\n",
      " [ 4  1  2  2  0  4 -5  0  5 -2 -3  3  0  0  2  1 -4 -1  2  4  2 -3 -5  0\n",
      "   0  5  4 -2  1  2  5 -5]]\n"
     ]
    }
   ],
   "metadata": {}
  },
  {
   "cell_type": "code",
   "execution_count": 9,
   "source": [
    "# Instantiation\r\n",
    "SA = SYSTOLIC_ARRAY(gen_isa=GENERATE_ISA, USE_Q_NUMBER=False, Q=4)\r\n",
    "OFF_MEM = BRAM(depth=8192, data_num=16, nbits=8)\r\n",
    "\r\n",
    "# Weigh data\r\n",
    "addr = 0\r\n",
    "for i in range(0, 32, 16):\r\n",
    "    for j in range(0, 64, 16):\r\n",
    "        tmp = TEST_WEIGHT[j:j+16]\r\n",
    "        #tmp = tmp.transpose()[i:i+16].transpose()\r\n",
    "        tmp = tmp.transpose()[i:i+16]\r\n",
    "        for k in range(16):\r\n",
    "            OFF_MEM.write(addr=addr, val=encode(tmp[k].tolist(), 16, 8))\r\n",
    "            addr = addr + 1\r\n",
    "        #print(f\"[{j}:{j+16}][{i}:{i+16}]\")\r\n",
    "        #print(tmp)\r\n",
    "\r\n",
    "# Input data\r\n",
    "DATA_ADDR_BASE = addr\r\n",
    "for i in range(0, 32, 16):\r\n",
    "    OFF_MEM.write(addr=addr, val=encode(np.flip(TEST_INPUT[i:i+16]), 16, 8))\r\n",
    "    addr = addr + 1\r\n",
    "\r\n"
   ],
   "outputs": [],
   "metadata": {}
  },
  {
   "cell_type": "code",
   "execution_count": 10,
   "source": [
    "# Write weight to WB\r\n",
    "for i in range(128):\r\n",
    "    SA.AXI_TO_WB_INST(OFF_MEM, i, i)\r\n",
    "\r\n",
    "# Write data to UB\r\n",
    "for i in range(2):\r\n",
    "    SA.AXI_TO_UB_INST(OFF_MEM, i, DATA_ADDR_BASE+i)"
   ],
   "outputs": [],
   "metadata": {}
  },
  {
   "cell_type": "code",
   "execution_count": 11,
   "source": [
    "# Init FIFOs\r\n",
    "WEIGHT_ADDR = 0\r\n",
    "DATA_ADDR = 0\r\n",
    "\r\n",
    "for i in range(4):\r\n",
    "    SA.LOAD_WEIGHT(WEIGHT_ADDR)\r\n",
    "    WEIGHT_ADDR = WEIGHT_ADDR + 1\r\n",
    "\r\n",
    "for i in range(4):\r\n",
    "    SA.UB_TO_DATA_FIFO_INST(DATA_ADDR)\r\n",
    "    DATA_ADDR = DATA_ADDR + 1"
   ],
   "outputs": [],
   "metadata": {}
  },
  {
   "cell_type": "code",
   "execution_count": 12,
   "source": [
    "\r\n",
    "for i in range(0, 32, 16):\r\n",
    "    ACC_ADDR = 0\r\n",
    "    for j in range(0, 64, 16):\r\n",
    "        # Load weight\r\n",
    "        for k in range(16):\r\n",
    "            SA.LOAD_WEIGHT(WEIGHT_ADDR)\r\n",
    "            WEIGHT_ADDR = WEIGHT_ADDR + 1\r\n",
    "        # Calc\r\n",
    "        if (i == 0):\r\n",
    "            print(\"Init\")\r\n",
    "            SA.MAT_MUL(ACC_ADDR)\r\n",
    "        else:\r\n",
    "            print(\"Accum\")\r\n",
    "            SA.MAT_MUL_ACC(ACC_ADDR)\r\n",
    "        ACC_ADDR = ACC_ADDR + 1\r\n",
    "    SA.UB_TO_DATA_FIFO_INST(0)\r\n",
    "\r\n",
    "# Write reulst\r\n",
    "for i in range(4):\r\n",
    "    SA.WRITE_RESULT(DATA_ADDR, i)\r\n",
    "    DATA_ADDR = DATA_ADDR + 1"
   ],
   "outputs": [
    {
     "output_type": "stream",
     "name": "stdout",
     "text": [
      "Init\n",
      "[-37, 64, -24, 56, -123, 16, -36, -26, 27, -25, 39, 11, -41, -101, -34, -60]\n",
      "Init\n",
      "[-16, 97, 14, 63, 2, 50, 4, -32, 25, -10, -43, 83, 100, 3, -75, -6]\n",
      "Init\n",
      "[52, 40, -73, -100, 54, -32, 17, 4, 19, 3, 29, 3, -9, 29, 16, -87]\n",
      "Init\n",
      "[81, 0, 54, -25, 3, 23, -52, -16, -19, 34, 107, 55, 97, 45, 42, -48]\n",
      "Accum\n",
      "[-137, -19, -54, 27, -30, 29, -11, 1, -101, -74, -61, 19, 36, 73, 109, -88]\n",
      "Accum\n",
      "[72, 75, -73, -31, -25, 2, -63, 27, 14, 44, -112, -38, 156, 68, -44, -28]\n",
      "Accum\n",
      "[71, -67, -29, 40, 22, 3, -4, -42, -58, 50, 77, -44, -12, 10, -3, 49]\n",
      "Accum\n",
      "[39, -40, 6, 35, 30, -59, -56, 57, -55, 122, -85, -11, -3, 27, 27, 87]\n"
     ]
    }
   ],
   "metadata": {}
  },
  {
   "cell_type": "code",
   "execution_count": 13,
   "source": [
    "#print(TEST_INPUT)\r\n",
    "#print(TEST_WEIGHT.transpose()[16].transpose())\r\n",
    "print(np.array(decode(SA.UB.data[4], 16, 8)))\r\n",
    "print(np.array(decode(SA.UB.data[5], 16, 8)))\r\n",
    "print(np.array(decode(SA.UB.data[6], 16, 8)))\r\n",
    "print(np.array(decode(SA.UB.data[7], 16, 8)))"
   ],
   "outputs": [
    {
     "output_type": "stream",
     "name": "stdout",
     "text": [
      "[-128   45  -78   83 -128   45  -47  -25  -74  -99  -22   30   -5  -28\n",
      "   75 -128]\n",
      "[  56  127  -59   32  -23   52  -59   -5   39   34 -128   45  127   71\n",
      " -119  -34]\n",
      "[ 123  -27 -102  -60   76  -29   13  -38  -39   53  106  -41  -21   39\n",
      "   13  -38]\n",
      "[ 120  -40   60   10   33  -36 -108   41  -74  127   22   44   94   72\n",
      "   69   39]\n"
     ]
    }
   ],
   "metadata": {}
  },
  {
   "cell_type": "code",
   "execution_count": 17,
   "source": [
    "print(TEST_INPUT.shape)\r\n",
    "print(TEST_WEIGHT.shape)\r\n",
    "print(TEST_WEIGHT[0].transpose())\r\n",
    "#print(np.matmul(TEST_INPUT, TEST_WEIGHT.transpose()))\r\n",
    "print(np.clip(np.matmul(TEST_INPUT, TEST_WEIGHT.transpose()), -128, 128))"
   ],
   "outputs": [
    {
     "output_type": "stream",
     "name": "stdout",
     "text": [
      "(32,)\n",
      "(64, 32)\n",
      "[ 1  2 -4 -2  2  0 -4  5  4  4  3  5  4  0 -4  1  3 -5  2 -3 -2 -2  2 -2\n",
      " -5  2  2  0  3 -2 -4  4]\n",
      "[-128   45  -78   83 -128   45  -47  -25  -74  -99  -22   30   -5  -28\n",
      "   75 -128   56  128  -59   32  -23   52  -59   -5   39   34 -128   45\n",
      "  128   71 -119  -34  123  -27 -102  -60   76  -29   13  -38  -39   53\n",
      "  106  -41  -21   39   13  -38  120  -40   60   10   33  -36 -108   41\n",
      "  -74  128   22   44   94   72   69   39]\n"
     ]
    }
   ],
   "metadata": {}
  },
  {
   "cell_type": "code",
   "execution_count": null,
   "source": [],
   "outputs": [],
   "metadata": {}
  }
 ],
 "metadata": {
  "orig_nbformat": 4,
  "language_info": {
   "name": "python",
   "version": "3.8.11",
   "mimetype": "text/x-python",
   "codemirror_mode": {
    "name": "ipython",
    "version": 3
   },
   "pygments_lexer": "ipython3",
   "nbconvert_exporter": "python",
   "file_extension": ".py"
  },
  "kernelspec": {
   "name": "python3",
   "display_name": "Python 3.8.11 64-bit ('torch': conda)"
  },
  "interpreter": {
   "hash": "e7c508b2aba78cec8a4ff0019b31b030b0962e8298d9782bb7f5cef6c5681bdc"
  }
 },
 "nbformat": 4,
 "nbformat_minor": 2
}