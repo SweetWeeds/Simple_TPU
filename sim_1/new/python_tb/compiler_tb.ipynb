{
 "cells": [
  {
   "cell_type": "code",
   "execution_count": 1,
   "source": [
    "from sa import *\r\n",
    "import os, json\r\n",
    "import numpy as np\r\n",
    "\r\n",
    "WEIGHT_FILE = \"./qm.json\"\r\n",
    "TEST_INPUT = \"./img0.npy\"\r\n",
    "RANDOM_MEM_GEN = False\r\n",
    "DO_PRINT = False\r\n",
    "GENERATE_ISA = False\r\n",
    "decode = False\r\n",
    "with open(os.path.join(WEIGHT_FILE)) as fp:\r\n",
    "    QM_DATA = json.loads(fp.read())\r\n",
    "\r\n",
    "ADDR_MIN = 0x0000_0000\r\n",
    "ADDR_MAX = 0x0002_0000\r\n",
    "OFF_MEM_WB_BASE_ADDR = 0x0000_0000\r\n",
    "OFF_MEM_UB_BASE_ADDR = 0x0001_AA80\r\n",
    "\r\n",
    "Q = 5   # Q-Num format (Q-2.5)"
   ],
   "outputs": [],
   "metadata": {}
  },
  {
   "cell_type": "code",
   "execution_count": 2,
   "source": [
    "# Instantiation\r\n",
    "SA = SYSTOLIC_ARRAY(gen_isa=GENERATE_ISA, USE_Q_NUMBER=True, Q=4)\r\n",
    "OFF_MEM = BRAM(depth=8192, data_num=16, nbits=8)"
   ],
   "outputs": [],
   "metadata": {}
  },
  {
   "cell_type": "markdown",
   "source": [
    "#Load weight"
   ],
   "metadata": {}
  },
  {
   "cell_type": "code",
   "execution_count": 3,
   "source": [
    "# Define weights' address range\r\n",
    "ADDR_OFFSET = 16\r\n",
    "\r\n",
    "FC1_FROM = OFF_MEM_WB_BASE_ADDR\r\n",
    "FC1_TO   = FC1_FROM + 0x0001_8800 - ADDR_OFFSET\r\n",
    "print(f\"FC1_FROM:{tohex(FC1_FROM, 32)}, FC1_TO:{tohex(FC1_TO, 32)}\")\r\n",
    "FC2_FROM = FC1_TO + ADDR_OFFSET\r\n",
    "FC2_TO   = FC2_FROM + 0x0000_2000 - ADDR_OFFSET\r\n",
    "print(f\"FC2_FROM:{tohex(FC2_FROM,32)}, FC2_TO:{tohex(FC2_TO,32)}\")\r\n",
    "FC3_FROM = FC2_TO + ADDR_OFFSET\r\n",
    "FC3_TO   = FC3_FROM + 0x0000_0280 - ADDR_OFFSET\r\n",
    "print(f\"FC3_FROM:{tohex(FC3_FROM,32)}, FC3_TO:{tohex(FC3_TO,32)}\")\r\n",
    "\r\n",
    "UB_FROM = OFF_MEM_UB_BASE_ADDR\r\n",
    "UB_TO   = UB_FROM + 0x0000_0310 - ADDR_OFFSET\r\n",
    "print(f\"UB_FROM:{tohex(UB_FROM,32)}, UB_TO:{tohex(UB_TO,32)}\")"
   ],
   "outputs": [
    {
     "output_type": "stream",
     "name": "stdout",
     "text": [
      "FC1_FROM:00000000, FC1_TO:000187f0\n",
      "FC2_FROM:00018800, FC2_TO:0001a7f0\n",
      "FC3_FROM:0001a800, FC3_TO:0001aa70\n",
      "UB_FROM:0001aa80, UB_TO:0001ad80\n"
     ]
    }
   ],
   "metadata": {}
  },
  {
   "cell_type": "code",
   "execution_count": 16,
   "source": [
    "# 1. Prepare off-mem file(.coe)\r\n",
    "# FC1\r\n",
    "print(np.array(QM_DATA['weight']['FC1']))\r\n",
    "FC1_weight = np.array(QM_DATA['weight']['FC1'])\r\n",
    "for i in range(FC1_FROM, FC1_TO, 16):\r\n",
    "    OFF_MEM.write(addr=i, val=encode(data=FC1_weight.tolist(), data_num=16, nbits=8))\r\n",
    "\r\n",
    "# FC2\r\n",
    "\r\n",
    "\r\n",
    "# FC3"
   ],
   "outputs": [
    {
     "output_type": "stream",
     "name": "stdout",
     "text": [
      "[[-1 -1 -1 ... -1  0 -1]\n",
      " [ 0  0  0 ...  0  0  0]\n",
      " [ 0  0  0 ...  0  0  0]\n",
      " ...\n",
      " [ 0  0  0 ...  0  1  1]\n",
      " [ 0  1  0 ...  0  1  1]\n",
      " [-1 -1 -1 ... -1  0 -1]]\n"
     ]
    },
    {
     "output_type": "error",
     "ename": "TypeError",
     "evalue": "'<' not supported between instances of 'list' and 'int'",
     "traceback": [
      "\u001b[1;31m---------------------------------------------------------------------------\u001b[0m",
      "\u001b[1;31mTypeError\u001b[0m                                 Traceback (most recent call last)",
      "\u001b[1;32m<ipython-input-16-13f8647bf0ac>\u001b[0m in \u001b[0;36m<module>\u001b[1;34m\u001b[0m\n\u001b[0;32m      4\u001b[0m \u001b[0mFC1_weight\u001b[0m \u001b[1;33m=\u001b[0m \u001b[0mnp\u001b[0m\u001b[1;33m.\u001b[0m\u001b[0marray\u001b[0m\u001b[1;33m(\u001b[0m\u001b[0mQM_DATA\u001b[0m\u001b[1;33m[\u001b[0m\u001b[1;34m'weight'\u001b[0m\u001b[1;33m]\u001b[0m\u001b[1;33m[\u001b[0m\u001b[1;34m'FC1'\u001b[0m\u001b[1;33m]\u001b[0m\u001b[1;33m)\u001b[0m\u001b[1;33m\u001b[0m\u001b[1;33m\u001b[0m\u001b[0m\n\u001b[0;32m      5\u001b[0m \u001b[1;32mfor\u001b[0m \u001b[0mi\u001b[0m \u001b[1;32min\u001b[0m \u001b[0mrange\u001b[0m\u001b[1;33m(\u001b[0m\u001b[0mFC1_FROM\u001b[0m\u001b[1;33m,\u001b[0m \u001b[0mFC1_TO\u001b[0m\u001b[1;33m,\u001b[0m \u001b[1;36m16\u001b[0m\u001b[1;33m)\u001b[0m\u001b[1;33m:\u001b[0m\u001b[1;33m\u001b[0m\u001b[1;33m\u001b[0m\u001b[0m\n\u001b[1;32m----> 6\u001b[1;33m     \u001b[0mOFF_MEM\u001b[0m\u001b[1;33m.\u001b[0m\u001b[0mwrite\u001b[0m\u001b[1;33m(\u001b[0m\u001b[0maddr\u001b[0m\u001b[1;33m=\u001b[0m\u001b[0mi\u001b[0m\u001b[1;33m,\u001b[0m \u001b[0mval\u001b[0m\u001b[1;33m=\u001b[0m\u001b[0mencode\u001b[0m\u001b[1;33m(\u001b[0m\u001b[0mdata\u001b[0m\u001b[1;33m=\u001b[0m\u001b[0mFC1_weight\u001b[0m\u001b[1;33m.\u001b[0m\u001b[0mtolist\u001b[0m\u001b[1;33m(\u001b[0m\u001b[1;33m)\u001b[0m\u001b[1;33m,\u001b[0m \u001b[0mdata_num\u001b[0m\u001b[1;33m=\u001b[0m\u001b[1;36m16\u001b[0m\u001b[1;33m,\u001b[0m \u001b[0mnbits\u001b[0m\u001b[1;33m=\u001b[0m\u001b[1;36m8\u001b[0m\u001b[1;33m)\u001b[0m\u001b[1;33m)\u001b[0m\u001b[1;33m\u001b[0m\u001b[1;33m\u001b[0m\u001b[0m\n\u001b[0m\u001b[0;32m      7\u001b[0m \u001b[1;31m# FC2\u001b[0m\u001b[1;33m\u001b[0m\u001b[1;33m\u001b[0m\u001b[1;33m\u001b[0m\u001b[0m\n\u001b[0;32m      8\u001b[0m \u001b[1;33m\u001b[0m\u001b[0m\n",
      "\u001b[1;32md:\\workspace\\210805_1710\\systolic_array\\systolic_array.srcs\\sim_1\\new\\python_tb\\sa.py\u001b[0m in \u001b[0;36mencode\u001b[1;34m(data, data_num, nbits)\u001b[0m\n\u001b[0;32m    125\u001b[0m     \u001b[0mret\u001b[0m \u001b[1;33m=\u001b[0m \u001b[0mstr\u001b[0m\u001b[1;33m(\u001b[0m\u001b[1;33m)\u001b[0m\u001b[1;33m\u001b[0m\u001b[1;33m\u001b[0m\u001b[0m\n\u001b[0;32m    126\u001b[0m     \u001b[1;32mfor\u001b[0m \u001b[0mi\u001b[0m \u001b[1;32min\u001b[0m \u001b[0mrange\u001b[0m\u001b[1;33m(\u001b[0m\u001b[0mdata_num\u001b[0m\u001b[1;33m)\u001b[0m\u001b[1;33m:\u001b[0m\u001b[1;33m\u001b[0m\u001b[1;33m\u001b[0m\u001b[0m\n\u001b[1;32m--> 127\u001b[1;33m         \u001b[0mret\u001b[0m \u001b[1;33m+=\u001b[0m \u001b[0mtohex\u001b[0m\u001b[1;33m(\u001b[0m\u001b[0mdata\u001b[0m\u001b[1;33m[\u001b[0m\u001b[0mi\u001b[0m\u001b[1;33m]\u001b[0m\u001b[1;33m,\u001b[0m \u001b[0mnbits\u001b[0m\u001b[1;33m)\u001b[0m\u001b[1;33m\u001b[0m\u001b[1;33m\u001b[0m\u001b[0m\n\u001b[0m\u001b[0;32m    128\u001b[0m     \u001b[1;32mreturn\u001b[0m \u001b[0mret\u001b[0m\u001b[1;33m\u001b[0m\u001b[1;33m\u001b[0m\u001b[0m\n\u001b[0;32m    129\u001b[0m \u001b[1;33m\u001b[0m\u001b[0m\n",
      "\u001b[1;32md:\\workspace\\210805_1710\\systolic_array\\systolic_array.srcs\\sim_1\\new\\python_tb\\sa.py\u001b[0m in \u001b[0;36mtohex\u001b[1;34m(val, nbits)\u001b[0m\n\u001b[0;32m    104\u001b[0m \u001b[1;33m\u001b[0m\u001b[0m\n\u001b[0;32m    105\u001b[0m \u001b[1;32mdef\u001b[0m \u001b[0mtohex\u001b[0m\u001b[1;33m(\u001b[0m\u001b[0mval\u001b[0m\u001b[1;33m:\u001b[0m \u001b[0mint\u001b[0m\u001b[1;33m,\u001b[0m \u001b[0mnbits\u001b[0m\u001b[1;33m:\u001b[0m \u001b[0mint\u001b[0m\u001b[1;33m)\u001b[0m \u001b[1;33m->\u001b[0m \u001b[0mstr\u001b[0m\u001b[1;33m:\u001b[0m\u001b[1;33m\u001b[0m\u001b[1;33m\u001b[0m\u001b[0m\n\u001b[1;32m--> 106\u001b[1;33m     \u001b[1;32mif\u001b[0m \u001b[1;33m(\u001b[0m\u001b[0mval\u001b[0m \u001b[1;33m<\u001b[0m \u001b[1;36m0\u001b[0m\u001b[1;33m)\u001b[0m\u001b[1;33m:\u001b[0m\u001b[1;33m\u001b[0m\u001b[1;33m\u001b[0m\u001b[0m\n\u001b[0m\u001b[0;32m    107\u001b[0m         \u001b[1;32mreturn\u001b[0m \u001b[0mformat\u001b[0m\u001b[1;33m(\u001b[0m\u001b[1;33m(\u001b[0m\u001b[0mval\u001b[0m \u001b[1;33m+\u001b[0m \u001b[1;33m(\u001b[0m\u001b[1;36m1\u001b[0m \u001b[1;33m<<\u001b[0m \u001b[0mnbits\u001b[0m\u001b[1;33m)\u001b[0m\u001b[1;33m)\u001b[0m \u001b[1;33m%\u001b[0m \u001b[1;33m(\u001b[0m\u001b[1;36m1\u001b[0m \u001b[1;33m<<\u001b[0m \u001b[0mnbits\u001b[0m\u001b[1;33m)\u001b[0m\u001b[1;33m,\u001b[0m \u001b[1;34mf'0{int(nbits/4)}x'\u001b[0m\u001b[1;33m)\u001b[0m\u001b[1;33m\u001b[0m\u001b[1;33m\u001b[0m\u001b[0m\n\u001b[0;32m    108\u001b[0m     \u001b[1;32melse\u001b[0m\u001b[1;33m:\u001b[0m\u001b[1;33m\u001b[0m\u001b[1;33m\u001b[0m\u001b[0m\n",
      "\u001b[1;31mTypeError\u001b[0m: '<' not supported between instances of 'list' and 'int'"
     ]
    }
   ],
   "metadata": {}
  },
  {
   "cell_type": "code",
   "execution_count": 5,
   "source": [
    "# Write weight to WB\r\n",
    "print(\"Write weight to WB\")\r\n",
    "for i in range(0, 256, 1):\r\n",
    "    #weight = encode([- i + j for j in range(15, -1, -1)], 16, 8)\r\n",
    "    #SA.WRITE_WEIGHT(i, weight)\r\n",
    "    SA.AXI_TO_WB_INST(OFF_MEM, i, 256-i-1)\r\n",
    "    SA.GENERATE_ISA(\"AXI_TO_WB_INST\", i*16, (256-i-1)*16)\r\n",
    "data = SA.WB_PRINT(dec=decode, do_print=DO_PRINT)\r\n",
    "save_data(\"2_WB.txt\", data)"
   ],
   "outputs": [
    {
     "output_type": "stream",
     "name": "stdout",
     "text": [
      "Write weight to WB\n"
     ]
    },
    {
     "output_type": "error",
     "ename": "NameError",
     "evalue": "name 'save_data' is not defined",
     "traceback": [
      "\u001b[1;31m---------------------------------------------------------------------------\u001b[0m",
      "\u001b[1;31mNameError\u001b[0m                                 Traceback (most recent call last)",
      "\u001b[1;32m<ipython-input-5-5c9ea30838a3>\u001b[0m in \u001b[0;36m<module>\u001b[1;34m\u001b[0m\n\u001b[0;32m      7\u001b[0m     \u001b[0mSA\u001b[0m\u001b[1;33m.\u001b[0m\u001b[0mGENERATE_ISA\u001b[0m\u001b[1;33m(\u001b[0m\u001b[1;34m\"AXI_TO_WB_INST\"\u001b[0m\u001b[1;33m,\u001b[0m \u001b[0mi\u001b[0m\u001b[1;33m*\u001b[0m\u001b[1;36m16\u001b[0m\u001b[1;33m,\u001b[0m \u001b[1;33m(\u001b[0m\u001b[1;36m256\u001b[0m\u001b[1;33m-\u001b[0m\u001b[0mi\u001b[0m\u001b[1;33m-\u001b[0m\u001b[1;36m1\u001b[0m\u001b[1;33m)\u001b[0m\u001b[1;33m*\u001b[0m\u001b[1;36m16\u001b[0m\u001b[1;33m)\u001b[0m\u001b[1;33m\u001b[0m\u001b[1;33m\u001b[0m\u001b[0m\n\u001b[0;32m      8\u001b[0m \u001b[0mdata\u001b[0m \u001b[1;33m=\u001b[0m \u001b[0mSA\u001b[0m\u001b[1;33m.\u001b[0m\u001b[0mWB_PRINT\u001b[0m\u001b[1;33m(\u001b[0m\u001b[0mdec\u001b[0m\u001b[1;33m=\u001b[0m\u001b[0mdecode\u001b[0m\u001b[1;33m,\u001b[0m \u001b[0mdo_print\u001b[0m\u001b[1;33m=\u001b[0m\u001b[0mDO_PRINT\u001b[0m\u001b[1;33m)\u001b[0m\u001b[1;33m\u001b[0m\u001b[1;33m\u001b[0m\u001b[0m\n\u001b[1;32m----> 9\u001b[1;33m \u001b[0msave_data\u001b[0m\u001b[1;33m(\u001b[0m\u001b[1;34m\"2_WB.txt\"\u001b[0m\u001b[1;33m,\u001b[0m \u001b[0mdata\u001b[0m\u001b[1;33m)\u001b[0m\u001b[1;33m\u001b[0m\u001b[1;33m\u001b[0m\u001b[0m\n\u001b[0m",
      "\u001b[1;31mNameError\u001b[0m: name 'save_data' is not defined"
     ]
    }
   ],
   "metadata": {}
  },
  {
   "cell_type": "markdown",
   "source": [],
   "metadata": {}
  }
 ],
 "metadata": {
  "orig_nbformat": 4,
  "language_info": {
   "name": "python",
   "version": "3.8.8",
   "mimetype": "text/x-python",
   "codemirror_mode": {
    "name": "ipython",
    "version": 3
   },
   "pygments_lexer": "ipython3",
   "nbconvert_exporter": "python",
   "file_extension": ".py"
  },
  "kernelspec": {
   "name": "python3",
   "display_name": "Python 3.8.8 64-bit ('base': conda)"
  },
  "interpreter": {
   "hash": "1918674aa66fe15889628e3ec3051aea9dbd37a663c165427e9dd5d208c9aad6"
  }
 },
 "nbformat": 4,
 "nbformat_minor": 2
}