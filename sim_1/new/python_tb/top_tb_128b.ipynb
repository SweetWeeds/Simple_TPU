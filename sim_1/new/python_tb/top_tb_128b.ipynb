{
 "cells": [
  {
   "cell_type": "code",
   "execution_count": 1,
   "source": [
    "from sa import *\n",
    "import os\n",
    "\n",
    "OFF_MEM_FILE = \"../hex_mem_128b.mem\"\n",
    "SAVE_DATA_ROOT_DIR = \"./sa_py_data_128b\"\n",
    "RANDOM_MEM_GEN = False\n",
    "DO_PRINT = False\n",
    "decode = False\n",
    "\n",
    "def save_data(file_name:str, data:list):\n",
    "    if not os.path.exists(SAVE_DATA_ROOT_DIR):\n",
    "        os.makedirs(SAVE_DATA_ROOT_DIR)\n",
    "    with open(os.path.join(SAVE_DATA_ROOT_DIR, file_name), \"w\") as fp:\n",
    "        for d in data:\n",
    "            fp.write(d + \"\\n\")"
   ],
   "outputs": [],
   "metadata": {}
  },
  {
   "cell_type": "code",
   "execution_count": 2,
   "source": [
    "# Instantiation\n",
    "SA = SYSTOLIC_ARRAY()\n",
    "OFF_MEM = BRAM(depth=256, data_num=16, nbits=8)\n",
    "\n",
    "# Generate Random Memory Data\n",
    "if RANDOM_MEM_GEN:\n",
    "    gen_random_hex_mem_data(OFF_MEM_FILE, depth=256, data_num=16, nbits=8)\n",
    "OFF_MEM.load_file(file_path=OFF_MEM_FILE)"
   ],
   "outputs": [],
   "metadata": {}
  },
  {
   "cell_type": "code",
   "execution_count": 3,
   "source": [
    "# 1. Write data to UB\n",
    "print(\"1. Write data to UB\")\n",
    "for i in range(0, 256, 1):\n",
    "    #data = encode([i - j for j in range(15, -1, -1)], 16, 8)\n",
    "    #SA.WRITE_DATA(i, data)\n",
    "    SA.AXI_TO_UB_INST(OFF_MEM, i, i)\n",
    "data = SA.UB_PRINT(dec=decode, do_print=DO_PRINT)\n",
    "save_data(\"1_UB.txt\", data)\n"
   ],
   "outputs": [
    {
     "output_type": "stream",
     "name": "stdout",
     "text": [
      "1. Write data to UB\n"
     ]
    }
   ],
   "metadata": {
    "tags": []
   }
  },
  {
   "cell_type": "code",
   "execution_count": 4,
   "source": [
    "# 2. Write weight to WB\n",
    "print(\"2. Write weight to WB\")\n",
    "for i in range(0, 256, 1):\n",
    "    #weight = encode([- i + j for j in range(15, -1, -1)], 16, 8)\n",
    "    #SA.WRITE_WEIGHT(i, weight)\n",
    "    SA.AXI_TO_WB_INST(OFF_MEM, i, 256-i-1)\n",
    "data = SA.WB_PRINT(dec=decode, do_print=DO_PRINT)\n",
    "save_data(\"2_WB.txt\", data)"
   ],
   "outputs": [
    {
     "output_type": "stream",
     "name": "stdout",
     "text": [
      "2. Write weight to WB\n"
     ]
    }
   ],
   "metadata": {}
  },
  {
   "cell_type": "code",
   "execution_count": 5,
   "source": [
    "\n",
    "# 3. IDLE\n",
    "\n",
    "# 4. Load Data\n",
    "print(\"4. Load Data\")\n",
    "for i in range(5):\n",
    "    SA.UB_TO_DATA_FIFO_INST(i)\n",
    "data = SA.DATA_FIFO_PRINT(dec=decode, do_print=DO_PRINT)\n",
    "save_data(\"4_DATA_FIFO.txt\", data)"
   ],
   "outputs": [
    {
     "output_type": "stream",
     "name": "stdout",
     "text": [
      "4. Load Data\n"
     ]
    }
   ],
   "metadata": {}
  },
  {
   "cell_type": "code",
   "execution_count": 6,
   "source": [
    "# 5. Load Weight\n",
    "print(\"5. Load Weight\")\n",
    "for i in range(21):\n",
    "    SA.LOAD_WEIGHT(i)\n",
    "\n",
    "print(\"Print MMU's weight\")\n",
    "data = SA.MMU_WEIGHT_PRINT(dec=decode, do_print=DO_PRINT)\n",
    "save_data(\"5_MMU.txt\", data)\n",
    "\n",
    "print(\"Print WEIGHT_FIFO's weight\")\n",
    "data = SA.WEIGHT_FIFO_PRINT(dec=decode, do_print=DO_PRINT)\n",
    "save_data(\"5_WEIGHT_FIFO.txt\", data)"
   ],
   "outputs": [
    {
     "output_type": "stream",
     "name": "stdout",
     "text": [
      "5. Load Weight\n",
      "Print MMU's weight\n",
      "Print WEIGHT_FIFO's weight\n"
     ]
    }
   ],
   "metadata": {}
  },
  {
   "cell_type": "code",
   "execution_count": 7,
   "source": [
    "# 6. Matrix Multiplication\n",
    "for i in range(16):\n",
    "    SA.MAT_MUL(i, i)\n",
    "data = SA.ACC_PRINT(dec=decode, do_print=DO_PRINT)\n",
    "save_data(\"6_ACC.txt\", data)"
   ],
   "outputs": [],
   "metadata": {}
  },
  {
   "cell_type": "code",
   "execution_count": 8,
   "source": [
    "# 7. Write result at UB\n",
    "for i in range(16):\n",
    "    SA.WRITE_RESULT(64 + i, i)\n",
    "\n",
    "# 8. Write UB's results at OFF-MEM\n",
    "for i in range(16):\n",
    "    SA.UB_TO_AXI_INST(OFF_MEM, i, 64 + i)\n",
    "\n",
    "data = OFF_MEM.print(dec=decode, do_print=DO_PRINT)\n",
    "save_data(\"8_OFF_MEM.txt\", data)"
   ],
   "outputs": [],
   "metadata": {}
  },
  {
   "cell_type": "code",
   "execution_count": 9,
   "source": [
    "# 9. Matrix Multiplication with accumulation\n",
    "print (\"9. Matrix Multiplication with accumulation\")\n",
    "for i in range(16):\n",
    "    SA.MAT_MUL_ACC(i, 16 + i)\n",
    "data = SA.ACC_PRINT(dec=decode, do_print=DO_PRINT)\n",
    "save_data(\"9_ACC.txt\", data)"
   ],
   "outputs": [
    {
     "output_type": "stream",
     "name": "stdout",
     "text": [
      "9. Matrix Multiplication with accumulation\n"
     ]
    }
   ],
   "metadata": {}
  },
  {
   "cell_type": "code",
   "execution_count": 10,
   "source": [
    "# 10. Write result at UB\n",
    "print(\"10. Write result at UB\")\n",
    "for i in range(16):\n",
    "    SA.WRITE_RESULT(i + 64 + 16, i)\n",
    "data = SA.UB_PRINT(dec=decode, do_print=DO_PRINT)\n",
    "save_data(\"10_UB.txt\", data)"
   ],
   "outputs": [
    {
     "output_type": "stream",
     "name": "stdout",
     "text": [
      "10. Write result at UB\n"
     ]
    }
   ],
   "metadata": {}
  },
  {
   "cell_type": "code",
   "execution_count": 11,
   "source": [
    "# 11. Write UB's result at OFF-MEM\n",
    "print(\"11. Write UB's result at OFF-MEM\")\n",
    "for i in range(16, 33, 1):\n",
    "    SA.UB_TO_AXI_INST(OFF_MEM, i, 64 + i)\n",
    "data = OFF_MEM.print(dec=decode, do_print=DO_PRINT)\n",
    "save_data(\"11_OFF_MEM.txt\", data)"
   ],
   "outputs": [
    {
     "output_type": "stream",
     "name": "stdout",
     "text": [
      "11. Write UB's result at OFF-MEM\n"
     ]
    }
   ],
   "metadata": {}
  },
  {
   "cell_type": "code",
   "execution_count": 12,
   "source": [
    "# Check data values\n",
    "compare_file(os.path.join(SAVE_DATA_ROOT_DIR, \"1_UB.txt\"), os.path.join(SAVE_DATA_ROOT_DIR, \"1_UB_TB.txt\"))\n",
    "compare_file(os.path.join(SAVE_DATA_ROOT_DIR, \"2_WB.txt\"), os.path.join(SAVE_DATA_ROOT_DIR, \"2_WB_TB.txt\"))\n",
    "compare_file(os.path.join(SAVE_DATA_ROOT_DIR, \"4_DATA_FIFO.txt\"), os.path.join(SAVE_DATA_ROOT_DIR, \"4_DATA_FIFO_TB.txt\"))\n",
    "compare_file(os.path.join(SAVE_DATA_ROOT_DIR, \"5_MMU.txt\"), os.path.join(SAVE_DATA_ROOT_DIR, \"5_MMU_TB.txt\"))\n",
    "compare_file(os.path.join(SAVE_DATA_ROOT_DIR, \"5_WEIGHT_FIFO.txt\"), os.path.join(SAVE_DATA_ROOT_DIR, \"5_WEIGHT_FIFO_TB.txt\"))\n",
    "compare_file(os.path.join(SAVE_DATA_ROOT_DIR, \"6_ACC.txt\"), os.path.join(SAVE_DATA_ROOT_DIR, \"6_ACC_TB.txt\"))\n",
    "compare_file(os.path.join(SAVE_DATA_ROOT_DIR, \"8_OFF_MEM.txt\"), os.path.join(SAVE_DATA_ROOT_DIR, \"8_OFF_MEM_TB.txt\"))\n",
    "compare_file(os.path.join(SAVE_DATA_ROOT_DIR, \"9_ACC.txt\"), os.path.join(SAVE_DATA_ROOT_DIR, \"9_ACC_TB.txt\"))\n",
    "compare_file(os.path.join(SAVE_DATA_ROOT_DIR, \"10_UB.txt\"), os.path.join(SAVE_DATA_ROOT_DIR, \"10_UB_TB.txt\"))\n",
    "compare_file(os.path.join(SAVE_DATA_ROOT_DIR, \"11_OFF_MEM.txt\"), os.path.join(SAVE_DATA_ROOT_DIR, \"11_OFF_MEM_TB.txt\"))"
   ],
   "outputs": [
    {
     "output_type": "stream",
     "name": "stdout",
     "text": [
      "\"./sa_py_data_128b/1_UB.txt\" and \"./sa_py_data_128b/1_UB_TB.txt\" are matching.\n",
      "\"./sa_py_data_128b/2_WB.txt\" and \"./sa_py_data_128b/2_WB_TB.txt\" are matching.\n",
      "\"./sa_py_data_128b/4_DATA_FIFO.txt\" and \"./sa_py_data_128b/4_DATA_FIFO_TB.txt\" are matching.\n",
      "\"./sa_py_data_128b/5_MMU.txt\" and \"./sa_py_data_128b/5_MMU_TB.txt\" are matching.\n",
      "\"./sa_py_data_128b/5_WEIGHT_FIFO.txt\" and \"./sa_py_data_128b/5_WEIGHT_FIFO_TB.txt\" are matching.\n",
      "\"./sa_py_data_128b/6_ACC.txt\" and \"./sa_py_data_128b/6_ACC_TB.txt\" are matching.\n",
      "\"./sa_py_data_128b/8_OFF_MEM.txt\" and \"./sa_py_data_128b/8_OFF_MEM_TB.txt\" are matching.\n",
      "\"./sa_py_data_128b/9_ACC.txt\" and \"./sa_py_data_128b/9_ACC_TB.txt\" are matching.\n",
      "\"./sa_py_data_128b/10_UB.txt\" and \"./sa_py_data_128b/10_UB_TB.txt\" are matching.\n",
      "\"./sa_py_data_128b/11_OFF_MEM.txt\" and \"./sa_py_data_128b/11_OFF_MEM_TB.txt\" are matching.\n"
     ]
    },
    {
     "output_type": "execute_result",
     "data": {
      "text/plain": [
       "True"
      ]
     },
     "metadata": {},
     "execution_count": 12
    }
   ],
   "metadata": {}
  },
  {
   "cell_type": "code",
   "execution_count": null,
   "source": [],
   "outputs": [],
   "metadata": {}
  }
 ],
 "metadata": {
  "kernelspec": {
   "name": "python3",
   "display_name": "Python 3.8.8 64-bit ('base': conda)"
  },
  "language_info": {
   "codemirror_mode": {
    "name": "ipython",
    "version": 3
   },
   "file_extension": ".py",
   "mimetype": "text/x-python",
   "name": "python",
   "nbconvert_exporter": "python",
   "pygments_lexer": "ipython3",
   "version": "3.8.8"
  },
  "interpreter": {
   "hash": "d8f01a4286bfb1596942fadde3bb200a8d289b9d62a9663297cf1d0df1f8437a"
  }
 },
 "nbformat": 4,
 "nbformat_minor": 5
}