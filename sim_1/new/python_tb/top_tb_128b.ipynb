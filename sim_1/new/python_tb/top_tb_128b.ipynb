{
 "cells": [
  {
   "cell_type": "code",
   "execution_count": null,
   "source": [
    "from sa import *\n",
    "import os\n",
    "\n",
    "OFF_MEM_FILE = \"../hex_mem_128b.mem\"\n",
    "SAVE_DATA_ROOT_DIR = \"./sa_py_data_128b\"\n",
    "RANDOM_MEM_GEN = False\n",
    "DO_PRINT = False\n",
    "GENERATE_ISA = False\n",
    "decode = False\n",
    "\n",
    "def save_data(file_name:str, data:list):\n",
    "    if not os.path.exists(SAVE_DATA_ROOT_DIR):\n",
    "        os.makedirs(SAVE_DATA_ROOT_DIR)\n",
    "    with open(os.path.join(SAVE_DATA_ROOT_DIR, file_name), \"w\") as fp:\n",
    "        for d in data:\n",
    "            fp.write(d + \"\\n\")"
   ],
   "outputs": [],
   "metadata": {}
  },
  {
   "cell_type": "code",
   "execution_count": null,
   "source": [
    "# Instantiation\n",
    "SA = SYSTOLIC_ARRAY(gen_isa=GENERATE_ISA)\n",
    "OFF_MEM = BRAM(depth=256, data_num=16, nbits=8)\n",
    "\n",
    "# Generate Random Memory Data\n",
    "if RANDOM_MEM_GEN:\n",
    "    gen_random_hex_mem_data(OFF_MEM_FILE, depth=256, data_num=16, nbits=8)\n",
    "OFF_MEM.load_file(file_path=OFF_MEM_FILE)"
   ],
   "outputs": [],
   "metadata": {}
  },
  {
   "cell_type": "code",
   "execution_count": null,
   "source": [
    "# 1. Write data to UB\n",
    "print(\"1. Write data to UB\")\n",
    "for i in range(0, 256, 1):\n",
    "    #data = encode([i - j for j in range(15, -1, -1)], 16, 8)\n",
    "    #SA.WRITE_DATA(i, data)\n",
    "    SA.AXI_TO_UB_INST(OFF_MEM, i, i)\n",
    "    SA.GENERATE_ISA(\"AXI_TO_UB_INST\", i*16, i*16)\n",
    "data = SA.UB_PRINT(dec=decode, do_print=DO_PRINT)\n",
    "save_data(\"1_UB.txt\", data)\n"
   ],
   "outputs": [],
   "metadata": {
    "tags": []
   }
  },
  {
   "cell_type": "code",
   "execution_count": null,
   "source": [
    "# 2. Write weight to WB\n",
    "print(\"2. Write weight to WB\")\n",
    "for i in range(0, 256, 1):\n",
    "    #weight = encode([- i + j for j in range(15, -1, -1)], 16, 8)\n",
    "    #SA.WRITE_WEIGHT(i, weight)\n",
    "    SA.AXI_TO_WB_INST(OFF_MEM, i, 256-i-1)\n",
    "    SA.GENERATE_ISA(\"AXI_TO_WB_INST\", i*16, (256-i-1)*16)\n",
    "data = SA.WB_PRINT(dec=decode, do_print=DO_PRINT)\n",
    "save_data(\"2_WB.txt\", data)"
   ],
   "outputs": [],
   "metadata": {}
  },
  {
   "cell_type": "code",
   "execution_count": null,
   "source": [
    "\n",
    "# 3. IDLE\n",
    "\n",
    "# 4. Load Data\n",
    "print(\"4. Load Data\")\n",
    "for i in range(5):\n",
    "    SA.UB_TO_DATA_FIFO_INST(i)\n",
    "    SA.GENERATE_ISA(\"UB_TO_DATA_FIFO_INST\", 0, i*16)\n",
    "data = SA.DATA_FIFO_PRINT(dec=decode, do_print=DO_PRINT)\n",
    "save_data(\"4_DATA_FIFO.txt\", data)"
   ],
   "outputs": [],
   "metadata": {}
  },
  {
   "cell_type": "code",
   "execution_count": null,
   "source": [
    "# 5. Load Weight\n",
    "print(\"5. Load Weight\")\n",
    "for i in range(21):\n",
    "    SA.LOAD_WEIGHT(i)\n",
    "    SA.GENERATE_ISA(\"UB_TO_WEIGHT_FIFO_INST\", 0, i*16)\n",
    "\n",
    "print(\"Print MMU's weight\")\n",
    "data = SA.MMU_WEIGHT_PRINT(dec=decode, do_print=DO_PRINT)\n",
    "save_data(\"5_MMU.txt\", data)\n",
    "\n",
    "print(\"Print WEIGHT_FIFO's weight\")\n",
    "data = SA.WEIGHT_FIFO_PRINT(dec=decode, do_print=DO_PRINT)\n",
    "save_data(\"5_WEIGHT_FIFO.txt\", data)"
   ],
   "outputs": [],
   "metadata": {}
  },
  {
   "cell_type": "code",
   "execution_count": null,
   "source": [
    "# 6. Matrix Multiplication\n",
    "for i in range(16):\n",
    "    SA.MAT_MUL(i, i)\n",
    "    SA.GENERATE_ISA(\"MAT_MUL_INST\", i*16, i*16)\n",
    "data = SA.ACC_PRINT(dec=decode, do_print=DO_PRINT)\n",
    "save_data(\"6_ACC.txt\", data)"
   ],
   "outputs": [],
   "metadata": {}
  },
  {
   "cell_type": "code",
   "execution_count": null,
   "source": [
    "# 7. Write result at UB\n",
    "for i in range(16):\n",
    "    SA.WRITE_RESULT(64 + i, i)\n",
    "    SA.GENERATE_ISA(\"ACC_TO_UB_INST\", (64 + i)*16, i*16)\n",
    "\n",
    "# 8. Write UB's results at OFF-MEM\n",
    "for i in range(16):\n",
    "    SA.UB_TO_AXI_INST(OFF_MEM, i, 64 + i)\n",
    "    SA.GENERATE_ISA(\"UB_TO_AXI_INST\", i*16, (64 + i)*16)\n",
    "\n",
    "data = OFF_MEM.print(dec=decode, do_print=DO_PRINT)\n",
    "save_data(\"8_OFF_MEM.txt\", data)"
   ],
   "outputs": [],
   "metadata": {}
  },
  {
   "cell_type": "code",
   "execution_count": null,
   "source": [
    "# 9. Matrix Multiplication with accumulation\n",
    "print (\"9. Matrix Multiplication with accumulation\")\n",
    "for i in range(16):\n",
    "    SA.MAT_MUL_ACC(i, 16 + i)\n",
    "    SA.GENERATE_ISA(\"MAT_MUL_ACC_INST\", i*16, (16 + i)*16)\n",
    "data = SA.ACC_PRINT(dec=decode, do_print=DO_PRINT)\n",
    "save_data(\"9_ACC.txt\", data)"
   ],
   "outputs": [],
   "metadata": {}
  },
  {
   "cell_type": "code",
   "execution_count": null,
   "source": [
    "# 10. Write result at UB\n",
    "print(\"10. Write result at UB\")\n",
    "for i in range(16):\n",
    "    SA.WRITE_RESULT(i + 64 + 16, i)\n",
    "    SA.GENERATE_ISA(\"ACC_TO_UB_INST\", (64 + 16 + i)*16, i*16)\n",
    "data = SA.UB_PRINT(dec=decode, do_print=DO_PRINT)\n",
    "save_data(\"10_UB.txt\", data)"
   ],
   "outputs": [],
   "metadata": {}
  },
  {
   "cell_type": "code",
   "execution_count": null,
   "source": [
    "# 11. Write UB's result at OFF-MEM\n",
    "print(\"11. Write UB's result at OFF-MEM\")\n",
    "for i in range(16, 33, 1):\n",
    "    SA.UB_TO_AXI_INST(OFF_MEM, i, 64 + i)\n",
    "    SA.GENERATE_ISA(\"UB_TO_AXI_INST\", i*16, (64 + i)*16)\n",
    "data = OFF_MEM.print(dec=decode, do_print=DO_PRINT)\n",
    "save_data(\"11_OFF_MEM.txt\", data)\n",
    "SA.ISA_FP_CLOSE()"
   ],
   "outputs": [],
   "metadata": {}
  },
  {
   "cell_type": "code",
   "execution_count": null,
   "source": [
    "# Check data values\n",
    "compare_file(os.path.join(SAVE_DATA_ROOT_DIR, \"1_UB.txt\"), os.path.join(SAVE_DATA_ROOT_DIR, \"1_UB_TB.txt\"))\n",
    "compare_file(os.path.join(SAVE_DATA_ROOT_DIR, \"2_WB.txt\"), os.path.join(SAVE_DATA_ROOT_DIR, \"2_WB_TB.txt\"))\n",
    "compare_file(os.path.join(SAVE_DATA_ROOT_DIR, \"4_DATA_FIFO.txt\"), os.path.join(SAVE_DATA_ROOT_DIR, \"4_DATA_FIFO_TB.txt\"))\n",
    "compare_file(os.path.join(SAVE_DATA_ROOT_DIR, \"5_MMU.txt\"), os.path.join(SAVE_DATA_ROOT_DIR, \"5_MMU_TB.txt\"))\n",
    "compare_file(os.path.join(SAVE_DATA_ROOT_DIR, \"5_WEIGHT_FIFO.txt\"), os.path.join(SAVE_DATA_ROOT_DIR, \"5_WEIGHT_FIFO_TB.txt\"))\n",
    "compare_file(os.path.join(SAVE_DATA_ROOT_DIR, \"6_ACC.txt\"), os.path.join(SAVE_DATA_ROOT_DIR, \"6_ACC_TB.txt\"))\n",
    "compare_file(os.path.join(SAVE_DATA_ROOT_DIR, \"8_OFF_MEM.txt\"), os.path.join(SAVE_DATA_ROOT_DIR, \"8_OFF_MEM_TB.txt\"))\n",
    "compare_file(os.path.join(SAVE_DATA_ROOT_DIR, \"9_ACC.txt\"), os.path.join(SAVE_DATA_ROOT_DIR, \"9_ACC_TB.txt\"))\n",
    "compare_file(os.path.join(SAVE_DATA_ROOT_DIR, \"10_UB.txt\"), os.path.join(SAVE_DATA_ROOT_DIR, \"10_UB_TB.txt\"))\n",
    "compare_file(os.path.join(SAVE_DATA_ROOT_DIR, \"11_OFF_MEM.txt\"), os.path.join(SAVE_DATA_ROOT_DIR, \"11_OFF_MEM_TB.txt\"))"
   ],
   "outputs": [],
   "metadata": {}
  },
  {
   "cell_type": "code",
   "execution_count": null,
   "source": [
    "compare_file(os.path.join(SAVE_DATA_ROOT_DIR, \"11_OFF_MEM.txt\"), os.path.join(SAVE_DATA_ROOT_DIR, \"VIP_OFF_MEM_TB.txt\"))"
   ],
   "outputs": [],
   "metadata": {}
  },
  {
   "cell_type": "code",
   "execution_count": null,
   "source": [],
   "outputs": [],
   "metadata": {}
  }
 ],
 "metadata": {
  "kernelspec": {
   "name": "python3",
   "display_name": "Python 3.8.8 64-bit ('base': conda)"
  },
  "language_info": {
   "codemirror_mode": {
    "name": "ipython",
    "version": 3
   },
   "file_extension": ".py",
   "mimetype": "text/x-python",
   "name": "python",
   "nbconvert_exporter": "python",
   "pygments_lexer": "ipython3",
   "version": "3.8.8"
  },
  "interpreter": {
   "hash": "d8f01a4286bfb1596942fadde3bb200a8d289b9d62a9663297cf1d0df1f8437a"
  }
 },
 "nbformat": 4,
 "nbformat_minor": 5
}