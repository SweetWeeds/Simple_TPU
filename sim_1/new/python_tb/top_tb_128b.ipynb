{
 "cells": [
  {
   "cell_type": "code",
   "execution_count": 1,
   "source": [
    "from sa import *\n",
    "import os\n",
    "\n",
    "OFF_MEM_FILE = \"../hex_mem_128b.mem\"\n",
    "SAVE_DATA_ROOT_DIR = \"./sa_py_data_128b\"\n",
    "RANDOM_MEM_GEN = False\n",
    "DO_PRINT = False\n",
    "GENERATE_ISA = False\n",
    "decode = False\n",
    "\n",
    "def save_data(file_name:str, data:list):\n",
    "    if not os.path.exists(SAVE_DATA_ROOT_DIR):\n",
    "        os.makedirs(SAVE_DATA_ROOT_DIR)\n",
    "    with open(os.path.join(SAVE_DATA_ROOT_DIR, file_name), \"w\") as fp:\n",
    "        for d in data:\n",
    "            fp.write(d + \"\\n\")"
   ],
   "outputs": [],
   "metadata": {}
  },
  {
   "cell_type": "code",
   "execution_count": 2,
   "source": [
    "# Instantiation\n",
    "SA = SYSTOLIC_ARRAY(gen_isa=GENERATE_ISA)\n",
    "OFF_MEM = BRAM(depth=256, data_num=16, nbits=8)\n",
    "\n",
    "# Generate Random Memory Data\n",
    "if RANDOM_MEM_GEN:\n",
    "    gen_random_hex_mem_data(OFF_MEM_FILE, depth=256, data_num=16, nbits=8)\n",
    "OFF_MEM.load_file(file_path=OFF_MEM_FILE)"
   ],
   "outputs": [],
   "metadata": {}
  },
  {
   "cell_type": "code",
   "execution_count": 3,
   "source": [
    "# 1. Write data to UB\n",
    "print(\"1. Write data to UB\")\n",
    "for i in range(0, 256, 1):\n",
    "    #data = encode([i - j for j in range(15, -1, -1)], 16, 8)\n",
    "    #SA.WRITE_DATA(i, data)\n",
    "    SA.AXI_TO_UB_INST(OFF_MEM, i, i)\n",
    "    SA.GENERATE_ISA(\"AXI_TO_UB_INST\", i*16, i*16)\n",
    "data = SA.UB_PRINT(dec=decode, do_print=DO_PRINT)\n",
    "save_data(\"1_UB.txt\", data)\n"
   ],
   "outputs": [
    {
     "output_type": "stream",
     "name": "stdout",
     "text": [
      "1. Write data to UB\n"
     ]
    }
   ],
   "metadata": {
    "tags": []
   }
  },
  {
   "cell_type": "code",
   "execution_count": 4,
   "source": [
    "# 2. Write weight to WB\n",
    "print(\"2. Write weight to WB\")\n",
    "for i in range(0, 256, 1):\n",
    "    #weight = encode([- i + j for j in range(15, -1, -1)], 16, 8)\n",
    "    #SA.WRITE_WEIGHT(i, weight)\n",
    "    SA.AXI_TO_WB_INST(OFF_MEM, i, 256-i-1)\n",
    "    SA.GENERATE_ISA(\"AXI_TO_WB_INST\", i*16, (256-i-1)*16)\n",
    "data = SA.WB_PRINT(dec=decode, do_print=DO_PRINT)\n",
    "save_data(\"2_WB.txt\", data)"
   ],
   "outputs": [
    {
     "output_type": "stream",
     "name": "stdout",
     "text": [
      "2. Write weight to WB\n"
     ]
    }
   ],
   "metadata": {}
  },
  {
   "cell_type": "code",
   "execution_count": 5,
   "source": [
    "\n",
    "# 3. IDLE\n",
    "\n",
    "# 4. Load Data\n",
    "print(\"4. Load Data\")\n",
    "for i in range(5):\n",
    "    SA.UB_TO_DATA_FIFO_INST(i)\n",
    "    SA.GENERATE_ISA(\"UB_TO_DATA_FIFO_INST\", 0, i*16)\n",
    "data = SA.DATA_FIFO_PRINT(dec=decode, do_print=DO_PRINT)\n",
    "save_data(\"4_DATA_FIFO.txt\", data)"
   ],
   "outputs": [
    {
     "output_type": "stream",
     "name": "stdout",
     "text": [
      "4. Load Data\n"
     ]
    }
   ],
   "metadata": {}
  },
  {
   "cell_type": "code",
   "execution_count": 6,
   "source": [
    "# 5. Load Weight\n",
    "print(\"5. Load Weight\")\n",
    "for i in range(21):\n",
    "    SA.LOAD_WEIGHT(i)\n",
    "    SA.GENERATE_ISA(\"UB_TO_WEIGHT_FIFO_INST\", 0, i*16)\n",
    "\n",
    "print(\"Print MMU's weight\")\n",
    "data = SA.MMU_WEIGHT_PRINT(dec=decode, do_print=DO_PRINT)\n",
    "save_data(\"5_MMU.txt\", data)\n",
    "\n",
    "print(\"Print WEIGHT_FIFO's weight\")\n",
    "data = SA.WEIGHT_FIFO_PRINT(dec=decode, do_print=DO_PRINT)\n",
    "save_data(\"5_WEIGHT_FIFO.txt\", data)"
   ],
   "outputs": [
    {
     "output_type": "stream",
     "name": "stdout",
     "text": [
      "5. Load Weight\n",
      "Print MMU's weight\n",
      "Print WEIGHT_FIFO's weight\n"
     ]
    }
   ],
   "metadata": {}
  },
  {
   "cell_type": "code",
   "execution_count": 7,
   "source": [
    "# 6. Matrix Multiplication\n",
    "for i in range(16):\n",
    "    SA.MAT_MUL(i, i)\n",
    "    SA.GENERATE_ISA(\"MAT_MUL_INST\", i*16, i*16)\n",
    "data = SA.ACC_PRINT(dec=decode, do_print=DO_PRINT)\n",
    "save_data(\"6_ACC.txt\", data)"
   ],
   "outputs": [],
   "metadata": {}
  },
  {
   "cell_type": "code",
   "execution_count": 8,
   "source": [
    "# 7. Write result at UB\n",
    "for i in range(16):\n",
    "    SA.WRITE_RESULT(64 + i, i)\n",
    "    SA.GENERATE_ISA(\"ACC_TO_UB_INST\", (64 + i)*16, i*16)\n",
    "\n",
    "# 8. Write UB's results at OFF-MEM\n",
    "for i in range(16):\n",
    "    SA.UB_TO_AXI_INST(OFF_MEM, i, 64 + i)\n",
    "    SA.GENERATE_ISA(\"UB_TO_AXI_INST\", i*16, (64 + i)*16)\n",
    "\n",
    "data = OFF_MEM.print(dec=decode, do_print=DO_PRINT)\n",
    "save_data(\"8_OFF_MEM.txt\", data)"
   ],
   "outputs": [],
   "metadata": {}
  },
  {
   "cell_type": "code",
   "execution_count": 9,
   "source": [
    "# 9. Matrix Multiplication with accumulation\n",
    "print (\"9. Matrix Multiplication with accumulation\")\n",
    "for i in range(16):\n",
    "    SA.MAT_MUL_ACC(i, 16 + i)\n",
    "    SA.GENERATE_ISA(\"MAT_MUL_ACC_INST\", i*16, (16 + i)*16)\n",
    "data = SA.ACC_PRINT(dec=decode, do_print=DO_PRINT)\n",
    "save_data(\"9_ACC.txt\", data)"
   ],
   "outputs": [
    {
     "output_type": "stream",
     "name": "stdout",
     "text": [
      "9. Matrix Multiplication with accumulation\n"
     ]
    }
   ],
   "metadata": {}
  },
  {
   "cell_type": "code",
   "execution_count": 10,
   "source": [
    "# 10. Write result at UB\n",
    "print(\"10. Write result at UB\")\n",
    "for i in range(16):\n",
    "    SA.WRITE_RESULT(i + 64 + 16, i)\n",
    "    SA.GENERATE_ISA(\"ACC_TO_UB_INST\", (64 + 16 + i)*16, i*16)\n",
    "data = SA.UB_PRINT(dec=decode, do_print=DO_PRINT)\n",
    "save_data(\"10_UB.txt\", data)"
   ],
   "outputs": [
    {
     "output_type": "stream",
     "name": "stdout",
     "text": [
      "10. Write result at UB\n"
     ]
    }
   ],
   "metadata": {}
  },
  {
   "cell_type": "code",
   "execution_count": 11,
   "source": [
    "# 11. Write UB's result at OFF-MEM\n",
    "print(\"11. Write UB's result at OFF-MEM\")\n",
    "for i in range(16, 33, 1):\n",
    "    SA.UB_TO_AXI_INST(OFF_MEM, i, 64 + i)\n",
    "    SA.GENERATE_ISA(\"UB_TO_AXI_INST\", i*16, (64 + i)*16)\n",
    "data = OFF_MEM.print(dec=decode, do_print=DO_PRINT)\n",
    "save_data(\"11_OFF_MEM.txt\", data)\n",
    "SA.ISA_FP_CLOSE()"
   ],
   "outputs": [
    {
     "output_type": "stream",
     "name": "stdout",
     "text": [
      "11. Write UB's result at OFF-MEM\n"
     ]
    }
   ],
   "metadata": {}
  },
  {
   "cell_type": "code",
   "execution_count": 12,
   "source": [
    "# Check data values\n",
    "compare_file(os.path.join(SAVE_DATA_ROOT_DIR, \"1_UB.txt\"), os.path.join(SAVE_DATA_ROOT_DIR, \"1_UB_TB.txt\"))\n",
    "compare_file(os.path.join(SAVE_DATA_ROOT_DIR, \"2_WB.txt\"), os.path.join(SAVE_DATA_ROOT_DIR, \"2_WB_TB.txt\"))\n",
    "compare_file(os.path.join(SAVE_DATA_ROOT_DIR, \"4_DATA_FIFO.txt\"), os.path.join(SAVE_DATA_ROOT_DIR, \"4_DATA_FIFO_TB.txt\"))\n",
    "compare_file(os.path.join(SAVE_DATA_ROOT_DIR, \"5_MMU.txt\"), os.path.join(SAVE_DATA_ROOT_DIR, \"5_MMU_TB.txt\"))\n",
    "compare_file(os.path.join(SAVE_DATA_ROOT_DIR, \"5_WEIGHT_FIFO.txt\"), os.path.join(SAVE_DATA_ROOT_DIR, \"5_WEIGHT_FIFO_TB.txt\"))\n",
    "compare_file(os.path.join(SAVE_DATA_ROOT_DIR, \"6_ACC.txt\"), os.path.join(SAVE_DATA_ROOT_DIR, \"6_ACC_TB.txt\"))\n",
    "compare_file(os.path.join(SAVE_DATA_ROOT_DIR, \"8_OFF_MEM.txt\"), os.path.join(SAVE_DATA_ROOT_DIR, \"8_OFF_MEM_TB.txt\"))\n",
    "compare_file(os.path.join(SAVE_DATA_ROOT_DIR, \"9_ACC.txt\"), os.path.join(SAVE_DATA_ROOT_DIR, \"9_ACC_TB.txt\"))\n",
    "compare_file(os.path.join(SAVE_DATA_ROOT_DIR, \"10_UB.txt\"), os.path.join(SAVE_DATA_ROOT_DIR, \"10_UB_TB.txt\"))\n",
    "compare_file(os.path.join(SAVE_DATA_ROOT_DIR, \"11_OFF_MEM.txt\"), os.path.join(SAVE_DATA_ROOT_DIR, \"11_OFF_MEM_TB.txt\"))"
   ],
   "outputs": [
    {
     "output_type": "stream",
     "name": "stdout",
     "text": [
      "/** Comparing \"./sa_py_data_128b/1_UB.txt\" and \"./sa_py_data_128b/1_UB_TB.txt\" **/\n",
      "\"./sa_py_data_128b/1_UB.txt\" and \"./sa_py_data_128b/1_UB_TB.txt\" are matching.\n",
      "/** Comparing \"./sa_py_data_128b/2_WB.txt\" and \"./sa_py_data_128b/2_WB_TB.txt\" **/\n",
      "\"./sa_py_data_128b/2_WB.txt\" and \"./sa_py_data_128b/2_WB_TB.txt\" are matching.\n",
      "/** Comparing \"./sa_py_data_128b/4_DATA_FIFO.txt\" and \"./sa_py_data_128b/4_DATA_FIFO_TB.txt\" **/\n",
      "[WARNING] Data mismatch in 1 line.\n",
      "          Data1:b92d4ed51f36ac1b0e81ffb025d2564d\n",
      "          Data2:499b7e11e93907562078d3a349a426fd\n",
      "[WARNING] Data mismatch in 2 line.\n",
      "          Data1:fbb1e03c588c7cb7d3aff32c96ac604b\n",
      "          Data2:57c2ea326258cd8a029e6f4ddca6f31c\n",
      "[WARNING] Data mismatch in 3 line.\n",
      "          Data1:dd12f0d7e42bb39db4e829e001324fc9\n",
      "          Data2:889ed1dd1fe69195255f2845bdd35b21\n",
      "[WARNING] Data mismatch in 4 line.\n",
      "          Data1:15dadc9d101424c5a74f4fbf3c593cbe\n",
      "          Data2:fdaf4a3452ae616264615844597caaa0\n",
      "/** Comparing \"./sa_py_data_128b/5_MMU.txt\" and \"./sa_py_data_128b/5_MMU_TB.txt\" **/\n",
      "\"./sa_py_data_128b/5_MMU.txt\" and \"./sa_py_data_128b/5_MMU_TB.txt\" are matching.\n",
      "/** Comparing \"./sa_py_data_128b/5_WEIGHT_FIFO.txt\" and \"./sa_py_data_128b/5_WEIGHT_FIFO_TB.txt\" **/\n",
      "\"./sa_py_data_128b/5_WEIGHT_FIFO.txt\" and \"./sa_py_data_128b/5_WEIGHT_FIFO_TB.txt\" are matching.\n",
      "/** Comparing \"./sa_py_data_128b/6_ACC.txt\" and \"./sa_py_data_128b/6_ACC_TB.txt\" **/\n",
      "[WARNING] Data mismatch in 1 line.\n",
      "          Data1:0709cfaf840055201252fda4d00c51f7558f3db2faf78ff9c2fd13003ef2fe266fc4ce00ddf05286\n",
      "          Data2:00d3a0069bf6138f7a7b0025701f2d006d704dcf00cb5fadef0a460ff4cd042a8efdb8f7d5d00372\n",
      "[WARNING] Data mismatch in 2 line.\n",
      "          Data1:02d6b003e502ecb05e6afb76c0126ff8b01f4f2ffb99fff4c4fdb2d000e8fee02005e105a6f00e6d\n",
      "          Data2:fa1d2fd028ff6d0fbbc2fb4a4f5eb600978faf0401b75fa854033af0379d09b62fc99afd732f9793\n",
      "[WARNING] Data mismatch in 3 line.\n",
      "          Data1:fbc4d009e2fc50cf97c501b7bf1beefba95031dd0ae4e040280230802354fa1d600e78fee9eff06e\n",
      "          Data2:0076f04dcafa9cc021abf76dbf6c0cf611f02f13fb28c07f4aff0eaf089b018420641c02a0afcd35\n",
      "[WARNING] Data mismatch in 4 line.\n",
      "          Data1:fe69bfff620667304b3af760c01607ff570ff2f7ffedd052720125ffdbaaffd1dff9f503dfdff55d\n",
      "          Data2:f523ff7857f915601c81fd1dc035e508750f9becfd859060d3fea4601f1801aa2fd1790062a01a12\n",
      "/** Comparing \"./sa_py_data_128b/8_OFF_MEM.txt\" and \"./sa_py_data_128b/8_OFF_MEM_TB.txt\" **/\n",
      "[WARNING] Data mismatch in 1 line.\n",
      "          Data1:7f807f7f807f80808080807f80807f7f\n",
      "          Data2:7c97e52a3d64d597efc229a75cc0b50a\n",
      "[WARNING] Data mismatch in 2 line.\n",
      "          Data1:7f7f7f7f807f80808080807f807f7f7f\n",
      "          Data2:15dadc9d101424c5a74f4fbf3c593cbe\n",
      "[WARNING] Data mismatch in 3 line.\n",
      "          Data1:807f80807f80807f7f7f7f7f807f8080\n",
      "          Data2:dd12f0d7e42bb39db4e829e001324fc9\n",
      "[WARNING] Data mismatch in 4 line.\n",
      "          Data1:80807f7f807f8080807f7f8080807f80\n",
      "          Data2:fbb1e03c588c7cb7d3aff32c96ac604b\n",
      "[WARNING] Data mismatch in 5 line.\n",
      "          Data1:7f807f7f80808080807f8080807f7f7f\n",
      "          Data2:b92d4ed51f36ac1b0e81ffb025d2564d\n",
      "[WARNING] Data mismatch in 6 line.\n",
      "          Data1:7f807f7f807f80808080807f80807f7f\n",
      "          Data2:a3a4844857c0e270f577ec0fcd7870ab\n",
      "[WARNING] Data mismatch in 7 line.\n",
      "          Data1:7f7f7f7f807f80808080807f807f7f7f\n",
      "          Data2:465990fe99815764cfed2b1f8231c19d\n",
      "[WARNING] Data mismatch in 8 line.\n",
      "          Data1:807f80807f80807f7f7f7f7f807f8080\n",
      "          Data2:25e4d09037ab4967659a3b1cd3680411\n",
      "[WARNING] Data mismatch in 9 line.\n",
      "          Data1:80807f7f807f8080807f7f8080807f80\n",
      "          Data2:1f6aaf5fcf29c5c5b1e3e83731342df0\n",
      "[WARNING] Data mismatch in 10 line.\n",
      "          Data1:808080807f807f807f807f7f80808080\n",
      "          Data2:5e54ff618f4293e253cc26558923a709\n",
      "[WARNING] Data mismatch in 11 line.\n",
      "          Data1:7f7f80807f7f807f8080807f807f807f\n",
      "          Data2:0a7e1d228ea6dc1372d611318f52d8a0\n",
      "[WARNING] Data mismatch in 12 line.\n",
      "          Data1:7f807f807f7f807f7f807f7f8080807f\n",
      "          Data2:4863f1b6e42f6cd68ca402f2c5b342b2\n",
      "[WARNING] Data mismatch in 13 line.\n",
      "          Data1:7f7f7f7f7f7f8080807f8080807f7f80\n",
      "          Data2:d61f92a71e815439fda6ce41f1eb0f1b\n",
      "[WARNING] Data mismatch in 14 line.\n",
      "          Data1:807f807f7f7f487f80807f807f7f7f80\n",
      "          Data2:51619dae2048f92f57d2979ae49453fe\n",
      "[WARNING] Data mismatch in 15 line.\n",
      "          Data1:7f7f80807f7f807f80807f7f7f7f7f7f\n",
      "          Data2:1742a781c61d5b2fa6622c4cbaf5b599\n",
      "[WARNING] Data mismatch in 16 line.\n",
      "          Data1:7f7f7f7f807f8080807f8080807f7f7f\n",
      "          Data2:40a62c35abec84fa926e2ce20b61a732\n",
      "/** Comparing \"./sa_py_data_128b/9_ACC.txt\" and \"./sa_py_data_128b/9_ACC_TB.txt\" **/\n",
      "[WARNING] Data mismatch in 1 line.\n",
      "          Data1:0a746fbb1f0733bf40a6040d6ff325f456cff84301b3afde2cfb1d40887efa9d2fb2f60002c08f49\n",
      "          Data2:043e401236fcf21ea8cf068e000601fd6eb1086007877f92590850403e5900a14eebe0f6faa04035\n",
      "[WARNING] Data mismatch in 2 line.\n",
      "          Data1:05a87fa5ff0904a0323dfb8eb032f5f6fe9f6ed1fa64800548f2f99fc875f65b005a1109e6a08aa5\n",
      "          Data2:fceeef72420584ff8f95fb623f7f3cfee60fcea60081efb8d8f881bfff2a0131001dca01b2d013cb\n",
      "[WARNING] Data mismatch in 3 line.\n",
      "          Data1:ffe8908f4dfa0cbf28db07c3af4ea3f67f4044e30275e00bdcfb1cb070f4f987c089a4fda7d0367c\n",
      "          Data2:049ab0d335f858bfb2c1fd79af9ec1f0e7e04219f2b9c04afef7fadf563b00ee80df48015e901343\n",
      "[WARNING] Data mismatch in 4 line.\n",
      "          Data1:fb449fbffc010fd0ed2dfb92306e1106c6ef61a6fa46d04bb708af1041040356d006b70272efc0ab\n",
      "          Data2:f1fedf38f1f3be00be74014f308def0fe4ef0a9bf7de905a18062d808472052f2fde3bfef5bfe560\n",
      "/** Comparing \"./sa_py_data_128b/10_UB.txt\" and \"./sa_py_data_128b/10_UB_TB.txt\" **/\n",
      "[WARNING] Data mismatch in 65 line.\n",
      "          Data1:7f807f7f807f80808080807f80807f7f\n",
      "          Data2:7f7f80807f7f7f7f7f807f807f80807f\n",
      "[WARNING] Data mismatch in 66 line.\n",
      "          Data1:7f7f7f7f807f80808080807f807f7f7f\n",
      "          Data2:8080808080807f807f807f7f7f808080\n",
      "[WARNING] Data mismatch in 67 line.\n",
      "          Data1:807f80807f80807f7f7f7f7f807f8080\n",
      "          Data2:7f7f807f8080807f807f80807f7f7f80\n",
      "[WARNING] Data mismatch in 68 line.\n",
      "          Data1:80807f7f807f8080807f7f8080807f80\n",
      "          Data2:8080807f807f7f80807f807f7f807f7f\n",
      "[WARNING] Data mismatch in 81 line.\n",
      "          Data1:7f807f807f8080807f80807f80802c7f\n",
      "          Data2:7f7f80807f7f807f7f807f7f7f80807f\n",
      "[WARNING] Data mismatch in 82 line.\n",
      "          Data1:7f807f7f807f8080807f8080807f7f7f\n",
      "          Data2:80807f80808080807f8080807f7f7f7f\n",
      "[WARNING] Data mismatch in 83 line.\n",
      "          Data1:807f80807f80807f7f7f807f807f807f\n",
      "          Data2:7f7f80808080807f807f80807f7f7f7f\n",
      "[WARNING] Data mismatch in 84 line.\n",
      "          Data1:80807f7f807f7f80807f7f7f7f7f7f80\n",
      "          Data2:8080807f7f7f7f80807f7f7f7f808080\n",
      "/** Comparing \"./sa_py_data_128b/11_OFF_MEM.txt\" and \"./sa_py_data_128b/11_OFF_MEM_TB.txt\" **/\n",
      "[WARNING] Data mismatch in 1 line.\n",
      "          Data1:7f807f7f807f80808080807f80807f7f\n",
      "          Data2:7f7f80807f7f7f7f7f807f807f80807f\n",
      "[WARNING] Data mismatch in 2 line.\n",
      "          Data1:7f7f7f7f807f80808080807f807f7f7f\n",
      "          Data2:8080808080807f807f807f7f7f808080\n",
      "[WARNING] Data mismatch in 3 line.\n",
      "          Data1:807f80807f80807f7f7f7f7f807f8080\n",
      "          Data2:7f7f807f8080807f807f80807f7f7f80\n",
      "[WARNING] Data mismatch in 4 line.\n",
      "          Data1:80807f7f807f8080807f7f8080807f80\n",
      "          Data2:8080807f807f7f80807f807f7f807f7f\n",
      "[WARNING] Data mismatch in 17 line.\n",
      "          Data1:7f807f807f8080807f80807f80802c7f\n",
      "          Data2:7f7f80807f7f807f7f807f7f7f80807f\n",
      "[WARNING] Data mismatch in 18 line.\n",
      "          Data1:7f807f7f807f8080807f8080807f7f7f\n",
      "          Data2:80807f80808080807f8080807f7f7f7f\n",
      "[WARNING] Data mismatch in 19 line.\n",
      "          Data1:807f80807f80807f7f7f807f807f807f\n",
      "          Data2:7f7f80808080807f807f80807f7f7f7f\n",
      "[WARNING] Data mismatch in 20 line.\n",
      "          Data1:80807f7f807f7f80807f7f7f7f7f7f80\n",
      "          Data2:8080807f7f7f7f80807f7f7f7f808080\n"
     ]
    },
    {
     "output_type": "execute_result",
     "data": {
      "text/plain": [
       "False"
      ]
     },
     "metadata": {},
     "execution_count": 12
    }
   ],
   "metadata": {}
  },
  {
   "cell_type": "code",
   "execution_count": null,
   "source": [],
   "outputs": [],
   "metadata": {}
  },
  {
   "cell_type": "code",
   "execution_count": null,
   "source": [],
   "outputs": [],
   "metadata": {}
  }
 ],
 "metadata": {
  "kernelspec": {
   "name": "python3",
   "display_name": "Python 3.8.8 64-bit ('base': conda)"
  },
  "language_info": {
   "codemirror_mode": {
    "name": "ipython",
    "version": 3
   },
   "file_extension": ".py",
   "mimetype": "text/x-python",
   "name": "python",
   "nbconvert_exporter": "python",
   "pygments_lexer": "ipython3",
   "version": "3.8.8"
  },
  "interpreter": {
   "hash": "d8f01a4286bfb1596942fadde3bb200a8d289b9d62a9663297cf1d0df1f8437a"
  }
 },
 "nbformat": 4,
 "nbformat_minor": 5
}