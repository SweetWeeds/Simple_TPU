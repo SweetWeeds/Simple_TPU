{
 "cells": [
  {
   "cell_type": "code",
   "execution_count": 1,
   "source": [
    "from sa import *\r\n",
    "import os\r\n",
    "\r\n",
    "OFF_MEM_FILE = \"./hex_mem.mem\"\r\n",
    "SAVE_DATA_ROOT_DIR = \"./sa_py_data\"\r\n",
    "RANDOM_MEM_GEN = False\r\n",
    "DO_PRINT = False\r\n",
    "decode = False\r\n",
    "\r\n",
    "def save_data(file_name:str, data:list):\r\n",
    "    with open(os.path.join(SAVE_DATA_ROOT_DIR, file_name), \"w\") as fp:\r\n",
    "        for d in data:\r\n",
    "            fp.write(d + \"\\n\")"
   ],
   "outputs": [],
   "metadata": {}
  },
  {
   "cell_type": "code",
   "execution_count": 2,
   "source": [
    "# Instantiation\r\n",
    "SA = SYSTOLIC_ARRAY()\r\n",
    "OFF_MEM = BRAM(depth=256, data_num=4, nbits=8)\r\n",
    "\r\n",
    "# Generate Random Memory Data\r\n",
    "if RANDOM_MEM_GEN:\r\n",
    "    gen_random_hex_mem_data(OFF_MEM_FILE, depth=256, data_num=4, nbits=8)\r\n",
    "OFF_MEM.load_file(file_path=OFF_MEM_FILE)"
   ],
   "outputs": [],
   "metadata": {}
  },
  {
   "cell_type": "code",
   "execution_count": 3,
   "source": [
    "# 1. Write data to UB\r\n",
    "print(\"1. Write data to UB\")\r\n",
    "for i in range(0, 256, 4):\r\n",
    "    #data = encode([i - j for j in range(15, -1, -1)], 16, 8)\r\n",
    "    #SA.WRITE_DATA(i, data)\r\n",
    "    SA.AXI_TO_UB_INST(OFF_MEM, int(i/4), i)\r\n",
    "data = SA.UB_PRINT(dec=decode, do_print=DO_PRINT)\r\n",
    "save_data(\"1_UB.txt\", data)\r\n"
   ],
   "outputs": [
    {
     "output_type": "stream",
     "name": "stdout",
     "text": [
      "1. Write data to UB\n"
     ]
    }
   ],
   "metadata": {
    "tags": []
   }
  },
  {
   "cell_type": "code",
   "execution_count": 4,
   "source": [
    "# 2. Write weight to WB\r\n",
    "print(\"2. Write weight to WB\")\r\n",
    "for i in range(0, 256, 4):\r\n",
    "    #weight = encode([- i + j for j in range(15, -1, -1)], 16, 8)\r\n",
    "    #SA.WRITE_WEIGHT(i, weight)\r\n",
    "    SA.AXI_TO_WB_INST(OFF_MEM, int(i/4), 251-i)\r\n",
    "data = SA.WB_PRINT(dec=decode, do_print=DO_PRINT)\r\n",
    "save_data(\"2_WB.txt\", data)"
   ],
   "outputs": [
    {
     "output_type": "stream",
     "name": "stdout",
     "text": [
      "2. Write weight to WB\n"
     ]
    }
   ],
   "metadata": {}
  },
  {
   "cell_type": "code",
   "execution_count": 5,
   "source": [
    "\r\n",
    "# 3. IDLE\r\n",
    "\r\n",
    "# 4. Load Data\r\n",
    "print(\"4. Load Data\")\r\n",
    "for i in range(5):\r\n",
    "    SA.UB_TO_DATA_FIFO_INST(i)\r\n",
    "data = SA.DATA_FIFO_PRINT(dec=decode, do_print=DO_PRINT)\r\n",
    "save_data(\"4_DATA_FIFO.txt\", data)"
   ],
   "outputs": [
    {
     "output_type": "stream",
     "name": "stdout",
     "text": [
      "4. Load Data\n"
     ]
    }
   ],
   "metadata": {}
  },
  {
   "cell_type": "code",
   "execution_count": 6,
   "source": [
    "# 5. Load Weight\r\n",
    "print(\"5. Load Weight\")\r\n",
    "for i in range(21):\r\n",
    "    SA.LOAD_WEIGHT(i)\r\n",
    "\r\n",
    "print(\"Print MMU's weight\")\r\n",
    "data = SA.MMU_WEIGHT_PRINT(dec=decode, do_print=DO_PRINT)\r\n",
    "save_data(\"5_MMU.txt\", data)\r\n",
    "\r\n",
    "print(\"Print WEIGHT_FIFO's weight\")\r\n",
    "data = SA.WEIGHT_FIFO_PRINT(dec=decode, do_print=DO_PRINT)\r\n",
    "save_data(\"5_WEIGHT_FIFO.txt\", data)"
   ],
   "outputs": [
    {
     "output_type": "stream",
     "name": "stdout",
     "text": [
      "5. Load Weight\n",
      "Print MMU's weight\n",
      "Print WEIGHT_FIFO's weight\n"
     ]
    }
   ],
   "metadata": {}
  },
  {
   "cell_type": "code",
   "execution_count": 7,
   "source": [
    "# 6. Matrix Multiplication\r\n",
    "for i in range(16):\r\n",
    "    SA.MAT_MUL(i, i)\r\n",
    "data = SA.ACC_PRINT(dec=decode, do_print=DO_PRINT)\r\n",
    "save_data(\"6_ACC.txt\", data)"
   ],
   "outputs": [],
   "metadata": {}
  },
  {
   "cell_type": "code",
   "execution_count": 8,
   "source": [
    "# 7. Write result at UB\r\n",
    "for i in range(16):\r\n",
    "    SA.WRITE_RESULT(64 + i, i)\r\n",
    "\r\n",
    "# 8. Write UB's results at OFF-MEM\r\n",
    "for i in range(16):\r\n",
    "    SA.UB_TO_AXI_INST(OFF_MEM, i * 4, 64 + i)\r\n",
    "\r\n",
    "data = OFF_MEM.print(dec=decode, do_print=DO_PRINT)\r\n",
    "save_data(\"8_OFF_MEM.txt\", data)"
   ],
   "outputs": [],
   "metadata": {}
  },
  {
   "cell_type": "code",
   "execution_count": 9,
   "source": [
    "# 9. Matrix Multiplication with accumulation\r\n",
    "print (\"9. Matrix Multiplication with accumulation\")\r\n",
    "for i in range(16):\r\n",
    "    SA.MAT_MUL_ACC(i, 16 + i)\r\n",
    "data = SA.ACC_PRINT(dec=decode, do_print=DO_PRINT)\r\n",
    "save_data(\"9_ACC.txt\", data)"
   ],
   "outputs": [
    {
     "output_type": "stream",
     "name": "stdout",
     "text": [
      "9. Matrix Multiplication with accumulation\n"
     ]
    }
   ],
   "metadata": {}
  },
  {
   "cell_type": "code",
   "execution_count": 10,
   "source": [
    "# 10. Write result at UB\r\n",
    "print(\"10. Write result at UB\")\r\n",
    "for i in range(16):\r\n",
    "    SA.WRITE_RESULT(i + 64 + 16, i)\r\n",
    "data = SA.UB_PRINT(dec=decode, do_print=DO_PRINT)\r\n",
    "save_data(\"10_UB.txt\", data)"
   ],
   "outputs": [
    {
     "output_type": "stream",
     "name": "stdout",
     "text": [
      "10. Write result at UB\n"
     ]
    }
   ],
   "metadata": {}
  },
  {
   "cell_type": "code",
   "execution_count": 11,
   "source": [
    "# 11. Write UB's result at OFF-MEM\r\n",
    "print(\"11. Write UB's result at OFF-MEM\")\r\n",
    "for i in range(16, 33, 1):\r\n",
    "    SA.UB_TO_AXI_INST(OFF_MEM, i * 4, 64 + i)\r\n",
    "data = OFF_MEM.print(dec=decode, do_print=DO_PRINT)\r\n",
    "save_data(\"11_OFF_MEM.txt\", data)"
   ],
   "outputs": [
    {
     "output_type": "stream",
     "name": "stdout",
     "text": [
      "11. Write UB's result at OFF-MEM\n"
     ]
    }
   ],
   "metadata": {}
  },
  {
   "cell_type": "code",
   "execution_count": 17,
   "source": [
    "# Check data values\r\n",
    "compare_file(os.path.join(SAVE_DATA_ROOT_DIR, \"1_UB.txt\"), os.path.join(SAVE_DATA_ROOT_DIR, \"1_UB_TB.txt\"))\r\n",
    "compare_file(os.path.join(SAVE_DATA_ROOT_DIR, \"2_WB.txt\"), os.path.join(SAVE_DATA_ROOT_DIR, \"2_WB_TB.txt\"))\r\n",
    "compare_file(os.path.join(SAVE_DATA_ROOT_DIR, \"4_DATA_FIFO.txt\"), os.path.join(SAVE_DATA_ROOT_DIR, \"4_DATA_FIFO_TB.txt\"))\r\n",
    "compare_file(os.path.join(SAVE_DATA_ROOT_DIR, \"5_MMU.txt\"), os.path.join(SAVE_DATA_ROOT_DIR, \"5_MMU_TB.txt\"))\r\n",
    "compare_file(os.path.join(SAVE_DATA_ROOT_DIR, \"5_WEIGHT_FIFO.txt\"), os.path.join(SAVE_DATA_ROOT_DIR, \"5_WEIGHT_FIFO_TB.txt\"))\r\n",
    "compare_file(os.path.join(SAVE_DATA_ROOT_DIR, \"6_ACC.txt\"), os.path.join(SAVE_DATA_ROOT_DIR, \"6_ACC_TB.txt\"))\r\n",
    "compare_file(os.path.join(SAVE_DATA_ROOT_DIR, \"8_OFF_MEM.txt\"), os.path.join(SAVE_DATA_ROOT_DIR, \"8_OFF_MEM_TB.txt\"))\r\n",
    "compare_file(os.path.join(SAVE_DATA_ROOT_DIR, \"9_ACC.txt\"), os.path.join(SAVE_DATA_ROOT_DIR, \"9_ACC_TB.txt\"))\r\n",
    "compare_file(os.path.join(SAVE_DATA_ROOT_DIR, \"10_UB.txt\"), os.path.join(SAVE_DATA_ROOT_DIR, \"10_UB_TB.txt\"))\r\n",
    "compare_file(os.path.join(SAVE_DATA_ROOT_DIR, \"11_OFF_MEM.txt\"), os.path.join(SAVE_DATA_ROOT_DIR, \"11_OFF_MEM_TB.txt\"))"
   ],
   "outputs": [
    {
     "output_type": "stream",
     "name": "stdout",
     "text": [
      "\"./sa_py_data\\1_UB.txt\" == \"./sa_py_data\\1_UB_TB.txt\"\n",
      "\"./sa_py_data\\2_WB.txt\" == \"./sa_py_data\\2_WB_TB.txt\"\n",
      "\"./sa_py_data\\4_DATA_FIFO.txt\" == \"./sa_py_data\\4_DATA_FIFO_TB.txt\"\n",
      "\"./sa_py_data\\5_MMU.txt\" == \"./sa_py_data\\5_MMU_TB.txt\"\n",
      "\"./sa_py_data\\5_WEIGHT_FIFO.txt\" == \"./sa_py_data\\5_WEIGHT_FIFO_TB.txt\"\n",
      "\"./sa_py_data\\6_ACC.txt\" == \"./sa_py_data\\6_ACC_TB.txt\"\n",
      "\"./sa_py_data\\8_OFF_MEM.txt\" == \"./sa_py_data\\8_OFF_MEM_TB.txt\"\n",
      "\"./sa_py_data\\9_ACC.txt\" == \"./sa_py_data\\9_ACC_TB.txt\"\n",
      "\"./sa_py_data\\10_UB.txt\" == \"./sa_py_data\\10_UB_TB.txt\"\n",
      "[WARNING] Data mismatch in 125 line.\n",
      "          Data1:80808080\n",
      "          Data2:18b0ade5\n",
      "[WARNING] Data mismatch in 126 line.\n",
      "          Data1:807f807f\n",
      "          Data2:dceb3899\n",
      "[WARNING] Data mismatch in 127 line.\n",
      "          Data1:80807f80\n",
      "          Data2:64c54f57\n",
      "[WARNING] Data mismatch in 128 line.\n",
      "          Data1:80808080\n",
      "          Data2:c23a2b46\n",
      "[WARNING] Data mismatch in 129 line.\n",
      "          Data1:00000000\n",
      "          Data2:014289bc\n",
      "[WARNING] Data mismatch in 130 line.\n",
      "          Data1:00000000\n",
      "          Data2:55287cb6\n",
      "[WARNING] Data mismatch in 131 line.\n",
      "          Data1:00000000\n",
      "          Data2:792da0d5\n",
      "[WARNING] Data mismatch in 132 line.\n",
      "          Data1:00000000\n",
      "          Data2:11e14b45\n"
     ]
    },
    {
     "output_type": "execute_result",
     "data": {
      "text/plain": [
       "False"
      ]
     },
     "metadata": {},
     "execution_count": 17
    }
   ],
   "metadata": {}
  },
  {
   "cell_type": "code",
   "execution_count": null,
   "source": [],
   "outputs": [],
   "metadata": {}
  }
 ],
 "metadata": {
  "kernelspec": {
   "name": "python3",
   "display_name": "Python 3.8.8 64-bit ('base': conda)"
  },
  "language_info": {
   "codemirror_mode": {
    "name": "ipython",
    "version": 3
   },
   "file_extension": ".py",
   "mimetype": "text/x-python",
   "name": "python",
   "nbconvert_exporter": "python",
   "pygments_lexer": "ipython3",
   "version": "3.8.8"
  },
  "interpreter": {
   "hash": "1918674aa66fe15889628e3ec3051aea9dbd37a663c165427e9dd5d208c9aad6"
  }
 },
 "nbformat": 4,
 "nbformat_minor": 5
}