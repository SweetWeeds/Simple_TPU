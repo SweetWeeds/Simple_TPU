{
  "nbformat": 4,
  "nbformat_minor": 0,
  "metadata": {
    "colab": {
      "name": "mnist_truncation.ipynb",
      "provenance": [],
      "collapsed_sections": []
    },
    "kernelspec": {
      "name": "python3",
      "display_name": "Python 3"
    },
    "language_info": {
      "name": "python"
    },
    "accelerator": "GPU"
  },
  "cells": [
    {
      "cell_type": "code",
      "metadata": {
        "id": "KM3AZrR0t_iz"
      },
      "source": [
        "import numpy as np\n",
        "import torch\n",
        "import torchvision\n",
        "import matplotlib.pyplot as plt\n",
        "from time import time\n",
        "from torchvision import datasets, transforms\n",
        "from torch import nn, optim\n",
        "\n",
        "device = \"cuda\"\n",
        "#device = \"cpu\"\n",
        "load_weight = False\n",
        "save_dir        = \"./\"\n",
        "weight_float32  = \"mnist_model_truncation.pt\"\n",
        "data_scaling    = 64\n"
      ],
      "execution_count": null,
      "outputs": []
    },
    {
      "cell_type": "code",
      "metadata": {
        "id": "jCpoEmhmuZZj"
      },
      "source": [
        "transform = transforms.Compose([transforms.ToTensor(),\n",
        "                              transforms.Normalize((0.5,), (0.5,)),\n",
        "                              ])"
      ],
      "execution_count": null,
      "outputs": []
    },
    {
      "cell_type": "code",
      "metadata": {
        "id": "B-S87iWWvpIQ"
      },
      "source": [
        "trainset = datasets.MNIST('./trainset', download=True, train=True, transform=transform)\n",
        "#trainset = datasets.MNIST('./trainset', download=True, train=True)\n",
        "\n",
        "valset = datasets.MNIST('./testset', download=True, train=False, transform=transform)\n",
        "#valset = datasets.MNIST('./testset', download=True, train=False)\n",
        "\n",
        "trainloader = torch.utils.data.DataLoader(trainset, batch_size=64, shuffle=True)\n",
        "\n",
        "valloader = torch.utils.data.DataLoader(valset, batch_size=64, shuffle=True)"
      ],
      "execution_count": null,
      "outputs": []
    },
    {
      "cell_type": "code",
      "metadata": {
        "colab": {
          "base_uri": "https://localhost:8080/"
        },
        "id": "GMdmGja-v5dD",
        "outputId": "aa144490-fd76-4696-83cf-c82a141c2d37"
      },
      "source": [
        "print(trainset)\n",
        "dataiter = iter(trainloader)\n",
        "images, labels = dataiter.next()\n",
        "#images = transforms.functional.convert_image_dtype(images, torch.int8)\n",
        "#print(type(dataiter))\n",
        "#for p in dataiter:\n",
        "#    print(p)\n",
        "\n",
        "print(images.shape)\n",
        "print(labels.shape)\n",
        "#print(images[0].numpy())\n"
      ],
      "execution_count": null,
      "outputs": [
        {
          "output_type": "stream",
          "text": [
            "Dataset MNIST\n",
            "    Number of datapoints: 60000\n",
            "    Root location: ./trainset\n",
            "    Split: Train\n",
            "    StandardTransform\n",
            "Transform: Compose(\n",
            "               ToTensor()\n",
            "               Normalize(mean=(0.5,), std=(0.5,))\n",
            "           )\n",
            "torch.Size([64, 1, 28, 28])\n",
            "torch.Size([64])\n"
          ],
          "name": "stdout"
        }
      ]
    },
    {
      "cell_type": "code",
      "metadata": {
        "colab": {
          "base_uri": "https://localhost:8080/",
          "height": 1000
        },
        "id": "OYOwxUEPv7rz",
        "outputId": "f7c63b9f-58b5-412b-9521-fe0978a3b659"
      },
      "source": [
        "plt.imshow(images[0].numpy().squeeze(), cmap='gray_r');\n",
        "images[0].numpy()*data_scaling"
      ],
      "execution_count": null,
      "outputs": [
        {
          "output_type": "execute_result",
          "data": {
            "text/plain": [
              "array([[[-64.       , -64.       , -64.       , -64.       ,\n",
              "         -64.       , -64.       , -64.       , -64.       ,\n",
              "         -64.       , -64.       , -64.       , -64.       ,\n",
              "         -64.       , -64.       , -64.       , -64.       ,\n",
              "         -64.       , -64.       , -64.       , -64.       ,\n",
              "         -64.       , -64.       , -64.       , -64.       ,\n",
              "         -64.       , -64.       , -64.       , -64.       ],\n",
              "        [-64.       , -64.       , -64.       , -64.       ,\n",
              "         -64.       , -64.       , -64.       , -64.       ,\n",
              "         -64.       , -64.       , -64.       , -64.       ,\n",
              "         -64.       , -64.       , -64.       , -64.       ,\n",
              "         -64.       , -64.       , -64.       , -64.       ,\n",
              "         -64.       , -64.       , -64.       , -64.       ,\n",
              "         -64.       , -64.       , -64.       , -64.       ],\n",
              "        [-64.       , -64.       , -64.       , -64.       ,\n",
              "         -64.       , -64.       , -64.       , -64.       ,\n",
              "         -64.       , -64.       , -64.       , -64.       ,\n",
              "         -64.       , -64.       , -64.       , -64.       ,\n",
              "         -64.       , -64.       , -64.       , -64.       ,\n",
              "         -64.       , -64.       , -64.       , -64.       ,\n",
              "         -64.       , -64.       , -64.       , -64.       ],\n",
              "        [-64.       , -64.       , -64.       , -64.       ,\n",
              "         -64.       , -64.       , -64.       , -64.       ,\n",
              "         -64.       , -64.       , -64.       , -64.       ,\n",
              "         -64.       , -64.       , -64.       , -64.       ,\n",
              "         -64.       , -64.       , -64.       , -64.       ,\n",
              "         -64.       , -64.       , -64.       , -64.       ,\n",
              "         -64.       , -64.       , -64.       , -64.       ],\n",
              "        [-64.       , -64.       , -64.       , -64.       ,\n",
              "         -64.       , -64.       , -64.       , -64.       ,\n",
              "         -64.       , -64.       , -64.       , -64.       ,\n",
              "         -64.       , -64.       , -64.       , -64.       ,\n",
              "         -64.       , -64.       , -64.       , -64.       ,\n",
              "         -64.       , -64.       , -64.       , -64.       ,\n",
              "         -64.       , -64.       , -64.       , -64.       ],\n",
              "        [-64.       , -64.       , -64.       , -64.       ,\n",
              "         -64.       , -64.       , -64.       , -64.       ,\n",
              "         -36.89412  , -15.811764 ,  15.811768 ,  37.89804  ,\n",
              "          45.929413 ,  54.964706 ,  15.811768 , -16.815685 ,\n",
              "         -61.490196 , -64.       , -64.       , -64.       ,\n",
              "         -64.       , -64.       , -64.       , -64.       ,\n",
              "         -64.       , -64.       , -64.       , -64.       ],\n",
              "        [-64.       , -64.       , -64.       , -64.       ,\n",
              "         -64.       , -64.       , -64.       , -41.913727 ,\n",
              "          58.980392 ,  63.49804  ,  54.964706 ,  55.968628 ,\n",
              "          63.49804  ,  63.49804  ,  63.49804  ,  63.49804  ,\n",
              "         -30.870586 , -64.       , -64.       , -64.       ,\n",
              "         -64.       , -64.       , -64.       , -64.       ,\n",
              "         -64.       , -64.       , -64.       , -64.       ],\n",
              "        [-64.       , -64.       , -64.       , -64.       ,\n",
              "         -64.       , -64.       , -64.       , -64.       ,\n",
              "         -35.388237 , -30.368626 , -49.9451   , -48.439217 ,\n",
              "         -30.368626 , -21.333332 ,  37.89804  ,  63.49804  ,\n",
              "          36.89412  , -54.462746 , -64.       , -64.       ,\n",
              "         -64.       , -64.       , -64.       , -64.       ,\n",
              "         -64.       , -64.       , -64.       , -64.       ],\n",
              "        [-64.       , -64.       , -64.       , -64.       ,\n",
              "         -64.       , -64.       , -64.       , -64.       ,\n",
              "         -64.       , -64.       , -64.       , -64.       ,\n",
              "         -64.       , -64.       , -55.968628 ,  63.49804  ,\n",
              "          63.49804  , -37.39608  , -64.       , -64.       ,\n",
              "         -64.       , -64.       , -64.       , -64.       ,\n",
              "         -64.       , -64.       , -64.       , -64.       ],\n",
              "        [-64.       , -64.       , -64.       , -64.       ,\n",
              "         -64.       , -64.       , -64.       , -64.       ,\n",
              "         -64.       , -64.       , -64.       , -64.       ,\n",
              "         -64.       , -64.       , -51.95294  ,  63.49804  ,\n",
              "          63.49804  , -37.39608  , -64.       , -64.       ,\n",
              "         -64.       , -64.       , -64.       , -64.       ,\n",
              "         -64.       , -64.       , -64.       , -64.       ],\n",
              "        [-64.       , -64.       , -64.       , -64.       ,\n",
              "         -64.       , -64.       , -64.       , -64.       ,\n",
              "         -64.       , -64.       , -64.       , -64.       ,\n",
              "         -64.       , -55.466667 ,  34.384315 ,  63.49804  ,\n",
              "          31.372551 , -56.47059  , -64.       , -64.       ,\n",
              "         -64.       , -64.       , -64.       , -64.       ,\n",
              "         -64.       , -64.       , -64.       , -64.       ],\n",
              "        [-64.       , -64.       , -64.       , -64.       ,\n",
              "         -64.       , -64.       , -64.       , -64.       ,\n",
              "         -64.       , -64.       , -64.       , -64.       ,\n",
              "         -39.403923 ,  39.403923 ,  63.49804  ,  55.466667 ,\n",
              "         -36.39216  , -64.       , -64.       , -64.       ,\n",
              "         -64.       , -64.       , -64.       , -64.       ,\n",
              "         -64.       , -64.       , -64.       , -64.       ],\n",
              "        [-64.       , -64.       , -64.       , -64.       ,\n",
              "         -64.       , -64.       , -64.       , -64.       ,\n",
              "         -64.       , -64.       , -57.97647  ,  -9.788235 ,\n",
              "          49.44314  ,  63.49804  ,  63.49804  ,  42.415688 ,\n",
              "         -50.44706  , -61.992157 , -64.       , -64.       ,\n",
              "         -64.       , -64.       , -64.       , -64.       ,\n",
              "         -64.       , -64.       , -64.       , -64.       ],\n",
              "        [-64.       , -64.       , -64.       , -64.       ,\n",
              "         -64.       , -64.       , -64.       , -64.       ,\n",
              "         -64.       , -64.       ,  44.92549  ,  63.49804  ,\n",
              "          63.49804  ,  63.49804  ,  63.49804  ,  63.49804  ,\n",
              "          63.49804  ,  11.294121 , -64.       , -64.       ,\n",
              "         -64.       , -64.       , -64.       , -64.       ,\n",
              "         -64.       , -64.       , -64.       , -64.       ],\n",
              "        [-64.       , -64.       , -64.       , -64.       ,\n",
              "         -64.       , -64.       , -64.       , -64.       ,\n",
              "         -64.       , -47.435295 ,  60.988235 ,  63.49804  ,\n",
              "          31.372551 ,  -8.282352 ,  -5.7725487,  55.968628 ,\n",
              "          63.49804  ,  63.49804  ,  24.847061 , -56.97255  ,\n",
              "         -64.       , -64.       , -64.       , -64.       ,\n",
              "         -64.       , -64.       , -64.       , -64.       ],\n",
              "        [-64.       , -64.       , -64.       , -64.       ,\n",
              "         -64.       , -64.       , -64.       , -64.       ,\n",
              "         -64.       , -64.       , -30.870586 , -13.30196  ,\n",
              "         -56.47059  , -64.       , -64.       , -47.435295 ,\n",
              "          32.376472 ,  63.49804  ,  63.49804  , -12.799999 ,\n",
              "         -64.       , -64.       , -64.       , -64.       ,\n",
              "         -64.       , -64.       , -64.       , -64.       ],\n",
              "        [-64.       , -64.       , -64.       , -64.       ,\n",
              "         -64.       , -64.       , -64.       , -64.       ,\n",
              "         -64.       , -64.       , -64.       , -64.       ,\n",
              "         -64.       , -64.       , -64.       , -64.       ,\n",
              "         -56.97255  ,  45.929413 ,  63.49804  ,  -3.7647057,\n",
              "         -64.       , -64.       , -64.       , -64.       ,\n",
              "         -64.       , -64.       , -64.       , -64.       ],\n",
              "        [-64.       , -64.       , -64.       , -64.       ,\n",
              "         -64.       , -64.       , -64.       , -64.       ,\n",
              "         -64.       , -64.       , -64.       , -64.       ,\n",
              "         -64.       , -64.       , -64.       , -64.       ,\n",
              "         -64.       ,  -6.77647  ,  63.49804  ,  22.337257 ,\n",
              "         -64.       , -64.       , -64.       , -64.       ,\n",
              "         -64.       , -64.       , -64.       , -64.       ],\n",
              "        [-64.       , -64.       , -64.       , -64.       ,\n",
              "         -64.       , -64.       , -64.       , -64.       ,\n",
              "         -64.       , -64.       , -64.       , -64.       ,\n",
              "         -64.       , -64.       , -64.       , -64.       ,\n",
              "         -64.       ,   9.286278 ,  63.49804  ,  44.42353  ,\n",
              "         -64.       , -64.       , -64.       , -64.       ,\n",
              "         -64.       , -64.       , -64.       , -64.       ],\n",
              "        [-64.       , -64.       , -64.       , -64.       ,\n",
              "         -64.       , -64.       , -64.       , -64.       ,\n",
              "         -64.       , -64.       , -64.       , -64.       ,\n",
              "         -64.       , -64.       , -64.       , -64.       ,\n",
              "         -57.47451  ,  44.92549  ,  63.49804  ,  12.298042 ,\n",
              "         -64.       , -64.       , -64.       , -64.       ,\n",
              "         -64.       , -64.       , -64.       , -64.       ],\n",
              "        [-64.       , -64.       , -64.       , -64.       ,\n",
              "         -64.       , -64.       , -64.       , -64.       ,\n",
              "         -64.       , -56.97255  , -48.439217 , -64.       ,\n",
              "         -64.       , -64.       , -64.       , -64.       ,\n",
              "          -8.784313 ,  63.49804  ,  63.49804  , -10.792156 ,\n",
              "         -64.       , -64.       , -64.       , -64.       ,\n",
              "         -64.       , -64.       , -64.       , -64.       ],\n",
              "        [-64.       , -64.       , -64.       , -64.       ,\n",
              "         -64.       , -64.       , -64.       , -64.       ,\n",
              "         -64.       , -53.960785 ,  54.462746 ,  13.301964 ,\n",
              "         -47.435295 , -64.       , -64.       , -47.435295 ,\n",
              "          57.97647  ,  63.49804  ,  15.309807 , -60.988235 ,\n",
              "         -64.       , -64.       , -64.       , -64.       ,\n",
              "         -64.       , -64.       , -64.       , -64.       ],\n",
              "        [-64.       , -64.       , -64.       , -64.       ,\n",
              "         -64.       , -64.       , -64.       , -64.       ,\n",
              "         -64.       , -64.       ,  28.360786 ,  63.49804  ,\n",
              "          48.941177 ,  -8.784313 , -26.8549   ,  49.44314  ,\n",
              "          63.49804  ,  45.929413 , -64.       , -64.       ,\n",
              "         -64.       , -64.       , -64.       , -64.       ,\n",
              "         -64.       , -64.       , -64.       , -64.       ],\n",
              "        [-64.       , -64.       , -64.       , -64.       ,\n",
              "         -64.       , -64.       , -64.       , -64.       ,\n",
              "         -64.       , -64.       , -45.427452 ,  46.431374 ,\n",
              "          63.49804  ,  63.49804  ,  63.49804  ,  63.49804  ,\n",
              "          54.462746 , -35.890198 , -64.       , -64.       ,\n",
              "         -64.       , -64.       , -64.       , -64.       ,\n",
              "         -64.       , -64.       , -64.       , -64.       ],\n",
              "        [-64.       , -64.       , -64.       , -64.       ,\n",
              "         -64.       , -64.       , -64.       , -64.       ,\n",
              "         -64.       , -64.       , -64.       , -49.44314  ,\n",
              "         -32.878433 ,   3.2627487,  63.49804  ,  30.87059  ,\n",
              "         -46.431374 , -64.       , -64.       , -64.       ,\n",
              "         -64.       , -64.       , -64.       , -64.       ,\n",
              "         -64.       , -64.       , -64.       , -64.       ],\n",
              "        [-64.       , -64.       , -64.       , -64.       ,\n",
              "         -64.       , -64.       , -64.       , -64.       ,\n",
              "         -64.       , -64.       , -64.       , -64.       ,\n",
              "         -64.       , -64.       , -64.       , -64.       ,\n",
              "         -64.       , -64.       , -64.       , -64.       ,\n",
              "         -64.       , -64.       , -64.       , -64.       ,\n",
              "         -64.       , -64.       , -64.       , -64.       ],\n",
              "        [-64.       , -64.       , -64.       , -64.       ,\n",
              "         -64.       , -64.       , -64.       , -64.       ,\n",
              "         -64.       , -64.       , -64.       , -64.       ,\n",
              "         -64.       , -64.       , -64.       , -64.       ,\n",
              "         -64.       , -64.       , -64.       , -64.       ,\n",
              "         -64.       , -64.       , -64.       , -64.       ,\n",
              "         -64.       , -64.       , -64.       , -64.       ],\n",
              "        [-64.       , -64.       , -64.       , -64.       ,\n",
              "         -64.       , -64.       , -64.       , -64.       ,\n",
              "         -64.       , -64.       , -64.       , -64.       ,\n",
              "         -64.       , -64.       , -64.       , -64.       ,\n",
              "         -64.       , -64.       , -64.       , -64.       ,\n",
              "         -64.       , -64.       , -64.       , -64.       ,\n",
              "         -64.       , -64.       , -64.       , -64.       ]]],\n",
              "      dtype=float32)"
            ]
          },
          "metadata": {
            "tags": []
          },
          "execution_count": 55
        },
        {
          "output_type": "display_data",
          "data": {
            "image/png": "[encoded data removed]",
            "text/plain": [
              "<Figure size 432x288 with 1 Axes>"
            ]
          },
          "metadata": {
            "tags": [],
            "needs_background": "light"
          }
        }
      ]
    },
    {
      "cell_type": "code",
      "metadata": {
        "colab": {
          "base_uri": "https://localhost:8080/",
          "height": 246
        },
        "id": "M6t-y3j4yzdu",
        "outputId": "809f7a60-3e9f-4e1f-cf4b-164c98d136e2"
      },
      "source": [
        "figure = plt.figure()\n",
        "num_of_images = 60\n",
        "for index in range(1, num_of_images + 1):\n",
        "    plt.subplot(6, 10, index)\n",
        "    plt.axis('off')\n",
        "    plt.imshow((images[index].numpy()*data_scaling).squeeze(), cmap='gray_r')"
      ],
      "execution_count": null,
      "outputs": [
        {
          "output_type": "display_data",
          "data": {
            "image/png": "[encoded data removed]",
            "text/plain": [
              "<Figure size 432x288 with 60 Axes>"
            ]
          },
          "metadata": {
            "tags": [],
            "needs_background": "light"
          }
        }
      ]
    },
    {
      "cell_type": "code",
      "metadata": {
        "colab": {
          "base_uri": "https://localhost:8080/"
        },
        "id": "2-uWLWZvy7Mr",
        "outputId": "91fa8df3-e57c-42e6-bc6a-89ade2f9db0b"
      },
      "source": [
        "import os\n",
        "input_size = 784\n",
        "hidden_sizes = [128, 64]\n",
        "output_size = 10\n",
        "\"\"\"\n",
        "model = nn.Sequential(torch.quantization.QuantStub(),\n",
        "                      nn.Linear(input_size, hidden_sizes[0]),\n",
        "                      nn.Linear(hidden_sizes[0], hidden_sizes[1]),\n",
        "                      nn.Linear(hidden_sizes[1], output_size),\n",
        "                      torch.quantization.DeQuantStub(),\n",
        "                      nn.LogSoftmax(dim=1))\n",
        "\"\"\"\n",
        "\n",
        "class M(torch.nn.Module):\n",
        "    def __init__(self):\n",
        "        super(M, self).__init__()\n",
        "        self.FC1 = torch.nn.Linear(input_size, output_size)\n",
        "        #self.FC1     = torch.nn.Linear(input_size, hidden_sizes[0])\n",
        "        #self.FC2     = torch.nn.Linear(hidden_sizes[0], hidden_sizes[1])\n",
        "        #self.FC3     = torch.nn.Linear(hidden_sizes[1], output_size)\n",
        "        self.lgs     = torch.nn.LogSoftmax(dim=1)\n",
        "    \n",
        "    def forward(self, x):\n",
        "        x = self.FC1(x)\n",
        "        #x = self.FC2(x)\n",
        "        #x = self.FC3(x)\n",
        "        return self.lgs(x)\n",
        "\n",
        "model = M()\n",
        "model.train()\n",
        "#model.qconfig = torch.quantization.get_default_qat_qconfig('fbgemm')\n",
        "#model.qconfig = torch.quantization.qconfig.QConfig(activation=torch.quantization.MinMaxObserver.with_args(dtype=torch.qint8), weight=torch.quantization.default_observer.with_args(dtype=torch.qint8))\n",
        "#model = torch.quantization.prepare_qat(model)\n",
        "model.to(device)\n"
      ],
      "execution_count": null,
      "outputs": [
        {
          "output_type": "execute_result",
          "data": {
            "text/plain": [
              "M(\n",
              "  (FC1): Linear(in_features=784, out_features=10, bias=True)\n",
              "  (lgs): LogSoftmax(dim=1)\n",
              ")"
            ]
          },
          "metadata": {
            "tags": []
          },
          "execution_count": 57
        }
      ]
    },
    {
      "cell_type": "code",
      "metadata": {
        "id": "08iwCHBCzfB-"
      },
      "source": [
        "criterion = nn.NLLLoss().to(device)\n",
        "images, labels = next(iter(trainloader))\n",
        "images = (images.view(images.shape[0], -1)*data_scaling).to(device)\n",
        "labels = labels.to(device)\n",
        "\n",
        "logps = model(images) #log probabilities\n",
        "loss = criterion(logps, labels) #calculate the NLL loss"
      ],
      "execution_count": null,
      "outputs": []
    },
    {
      "cell_type": "code",
      "metadata": {
        "id": "FNuRGWBM0BW9"
      },
      "source": [
        "#print('Before backward pass: \\n', model[0].weight.grad)\n",
        "loss.backward()\n",
        "#print('After backward pass: \\n', model[0].weight.grad)"
      ],
      "execution_count": null,
      "outputs": []
    },
    {
      "cell_type": "code",
      "metadata": {
        "id": "wB6ypz8A0EgW",
        "colab": {
          "base_uri": "https://localhost:8080/",
          "height": 668
        },
        "outputId": "5d1e9b41-25e7-4209-d442-caae725c5735"
      },
      "source": [
        "if not load_weight:\n",
        "    #optimizer = optim.SGD(model.parameters(), lr=0.003, momentum=0.9)\n",
        "    optimizer = optim.Adam(model.parameters(), lr=0.0003)\n",
        "    time0 = time()\n",
        "    epochs = 100\n",
        "    for e in range(epochs):\n",
        "        running_loss = 0\n",
        "        for images, labels in trainloader:\n",
        "            # Flatten MNIST images into a 784 long vector\n",
        "            images = (images.view(images.shape[0], -1)*data_scaling).to(device)\n",
        "            labels = labels.to(device)\n",
        "            \n",
        "            # Training pass\n",
        "            optimizer.zero_grad()\n",
        "            \n",
        "            output = model(images)\n",
        "            loss = criterion(output, labels)\n",
        "            \n",
        "            #This is where the model learns by backpropagating\n",
        "            loss.backward()\n",
        "            \n",
        "            #And optimizes its weights here\n",
        "            optimizer.step()\n",
        "            \n",
        "            running_loss += loss.item()\n",
        "        else:\n",
        "            loss = running_loss/len(trainloader)\n",
        "            print(f\"Epoch {e} - Training loss: {loss}\")\n",
        "    print(\"\\nTraining Time (in minutes) =\",(time()-time0)/60)\n",
        "    torch.save(model.state_dict(), os.path.join(weight_float32))\n",
        "else:\n",
        "    model.load_state_dict(torch.load(os.path.join(save_dir, weight_float32)))"
      ],
      "execution_count": null,
      "outputs": [
        {
          "output_type": "stream",
          "text": [
            "Epoch 0 - Training loss: 2.8112705073980635\n",
            "Epoch 1 - Training loss: 1.46879979237509\n",
            "Epoch 2 - Training loss: 1.2867138834197576\n",
            "Epoch 3 - Training loss: 1.290275032757156\n",
            "Epoch 4 - Training loss: 1.1929423139849578\n",
            "Epoch 5 - Training loss: 1.1604298303739777\n",
            "Epoch 6 - Training loss: 1.1267399284472344\n",
            "Epoch 7 - Training loss: 1.090870772487081\n",
            "Epoch 8 - Training loss: 1.078182801169389\n",
            "Epoch 9 - Training loss: 1.0635092067413097\n",
            "Epoch 10 - Training loss: 1.0484300810805978\n",
            "Epoch 11 - Training loss: 1.0602379311948442\n",
            "Epoch 12 - Training loss: 1.0166281409390858\n",
            "Epoch 13 - Training loss: 1.08324538321415\n",
            "Epoch 14 - Training loss: 1.000857809824603\n",
            "Epoch 15 - Training loss: 1.0188503979540455\n"
          ],
          "name": "stdout"
        },
        {
          "output_type": "error",
          "ename": "KeyboardInterrupt",
          "evalue": "ignored",
          "traceback": [
            "\u001b[0;31m---------------------------------------------------------------------------\u001b[0m",
            "\u001b[0;31mKeyboardInterrupt\u001b[0m                         Traceback (most recent call last)",
            "\u001b[0;32m<ipython-input-60-08e1cda5760c>\u001b[0m in \u001b[0;36m<module>\u001b[0;34m()\u001b[0m\n\u001b[1;32m      6\u001b[0m     \u001b[0;32mfor\u001b[0m \u001b[0me\u001b[0m \u001b[0;32min\u001b[0m \u001b[0mrange\u001b[0m\u001b[0;34m(\u001b[0m\u001b[0mepochs\u001b[0m\u001b[0;34m)\u001b[0m\u001b[0;34m:\u001b[0m\u001b[0;34m\u001b[0m\u001b[0;34m\u001b[0m\u001b[0m\n\u001b[1;32m      7\u001b[0m         \u001b[0mrunning_loss\u001b[0m \u001b[0;34m=\u001b[0m \u001b[0;36m0\u001b[0m\u001b[0;34m\u001b[0m\u001b[0;34m\u001b[0m\u001b[0m\n\u001b[0;32m----> 8\u001b[0;31m         \u001b[0;32mfor\u001b[0m \u001b[0mimages\u001b[0m\u001b[0;34m,\u001b[0m \u001b[0mlabels\u001b[0m \u001b[0;32min\u001b[0m \u001b[0mtrainloader\u001b[0m\u001b[0;34m:\u001b[0m\u001b[0;34m\u001b[0m\u001b[0;34m\u001b[0m\u001b[0m\n\u001b[0m\u001b[1;32m      9\u001b[0m             \u001b[0;31m# Flatten MNIST images into a 784 long vector\u001b[0m\u001b[0;34m\u001b[0m\u001b[0;34m\u001b[0m\u001b[0;34m\u001b[0m\u001b[0m\n\u001b[1;32m     10\u001b[0m             \u001b[0mimages\u001b[0m \u001b[0;34m=\u001b[0m \u001b[0;34m(\u001b[0m\u001b[0mimages\u001b[0m\u001b[0;34m.\u001b[0m\u001b[0mview\u001b[0m\u001b[0;34m(\u001b[0m\u001b[0mimages\u001b[0m\u001b[0;34m.\u001b[0m\u001b[0mshape\u001b[0m\u001b[0;34m[\u001b[0m\u001b[0;36m0\u001b[0m\u001b[0;34m]\u001b[0m\u001b[0;34m,\u001b[0m \u001b[0;34m-\u001b[0m\u001b[0;36m1\u001b[0m\u001b[0;34m)\u001b[0m\u001b[0;34m*\u001b[0m\u001b[0mdata_scaling\u001b[0m\u001b[0;34m)\u001b[0m\u001b[0;34m.\u001b[0m\u001b[0mto\u001b[0m\u001b[0;34m(\u001b[0m\u001b[0mdevice\u001b[0m\u001b[0;34m)\u001b[0m\u001b[0;34m\u001b[0m\u001b[0;34m\u001b[0m\u001b[0m\n",
            "\u001b[0;32m/usr/local/lib/python3.7/dist-packages/torch/utils/data/dataloader.py\u001b[0m in \u001b[0;36m__next__\u001b[0;34m(self)\u001b[0m\n\u001b[1;32m    519\u001b[0m             \u001b[0;32mif\u001b[0m \u001b[0mself\u001b[0m\u001b[0;34m.\u001b[0m\u001b[0m_sampler_iter\u001b[0m \u001b[0;32mis\u001b[0m \u001b[0;32mNone\u001b[0m\u001b[0;34m:\u001b[0m\u001b[0;34m\u001b[0m\u001b[0;34m\u001b[0m\u001b[0m\n\u001b[1;32m    520\u001b[0m                 \u001b[0mself\u001b[0m\u001b[0;34m.\u001b[0m\u001b[0m_reset\u001b[0m\u001b[0;34m(\u001b[0m\u001b[0;34m)\u001b[0m\u001b[0;34m\u001b[0m\u001b[0;34m\u001b[0m\u001b[0m\n\u001b[0;32m--> 521\u001b[0;31m             \u001b[0mdata\u001b[0m \u001b[0;34m=\u001b[0m \u001b[0mself\u001b[0m\u001b[0;34m.\u001b[0m\u001b[0m_next_data\u001b[0m\u001b[0;34m(\u001b[0m\u001b[0;34m)\u001b[0m\u001b[0;34m\u001b[0m\u001b[0;34m\u001b[0m\u001b[0m\n\u001b[0m\u001b[1;32m    522\u001b[0m             \u001b[0mself\u001b[0m\u001b[0;34m.\u001b[0m\u001b[0m_num_yielded\u001b[0m \u001b[0;34m+=\u001b[0m \u001b[0;36m1\u001b[0m\u001b[0;34m\u001b[0m\u001b[0;34m\u001b[0m\u001b[0m\n\u001b[1;32m    523\u001b[0m             \u001b[0;32mif\u001b[0m \u001b[0mself\u001b[0m\u001b[0;34m.\u001b[0m\u001b[0m_dataset_kind\u001b[0m \u001b[0;34m==\u001b[0m \u001b[0m_DatasetKind\u001b[0m\u001b[0;34m.\u001b[0m\u001b[0mIterable\u001b[0m \u001b[0;32mand\u001b[0m\u001b[0;31m \u001b[0m\u001b[0;31m\\\u001b[0m\u001b[0;34m\u001b[0m\u001b[0;34m\u001b[0m\u001b[0m\n",
            "\u001b[0;32m/usr/local/lib/python3.7/dist-packages/torch/utils/data/dataloader.py\u001b[0m in \u001b[0;36m_next_data\u001b[0;34m(self)\u001b[0m\n\u001b[1;32m    559\u001b[0m     \u001b[0;32mdef\u001b[0m \u001b[0m_next_data\u001b[0m\u001b[0;34m(\u001b[0m\u001b[0mself\u001b[0m\u001b[0;34m)\u001b[0m\u001b[0;34m:\u001b[0m\u001b[0;34m\u001b[0m\u001b[0;34m\u001b[0m\u001b[0m\n\u001b[1;32m    560\u001b[0m         \u001b[0mindex\u001b[0m \u001b[0;34m=\u001b[0m \u001b[0mself\u001b[0m\u001b[0;34m.\u001b[0m\u001b[0m_next_index\u001b[0m\u001b[0;34m(\u001b[0m\u001b[0;34m)\u001b[0m  \u001b[0;31m# may raise StopIteration\u001b[0m\u001b[0;34m\u001b[0m\u001b[0;34m\u001b[0m\u001b[0m\n\u001b[0;32m--> 561\u001b[0;31m         \u001b[0mdata\u001b[0m \u001b[0;34m=\u001b[0m \u001b[0mself\u001b[0m\u001b[0;34m.\u001b[0m\u001b[0m_dataset_fetcher\u001b[0m\u001b[0;34m.\u001b[0m\u001b[0mfetch\u001b[0m\u001b[0;34m(\u001b[0m\u001b[0mindex\u001b[0m\u001b[0;34m)\u001b[0m  \u001b[0;31m# may raise StopIteration\u001b[0m\u001b[0;34m\u001b[0m\u001b[0;34m\u001b[0m\u001b[0m\n\u001b[0m\u001b[1;32m    562\u001b[0m         \u001b[0;32mif\u001b[0m \u001b[0mself\u001b[0m\u001b[0;34m.\u001b[0m\u001b[0m_pin_memory\u001b[0m\u001b[0;34m:\u001b[0m\u001b[0;34m\u001b[0m\u001b[0;34m\u001b[0m\u001b[0m\n\u001b[1;32m    563\u001b[0m             \u001b[0mdata\u001b[0m \u001b[0;34m=\u001b[0m \u001b[0m_utils\u001b[0m\u001b[0;34m.\u001b[0m\u001b[0mpin_memory\u001b[0m\u001b[0;34m.\u001b[0m\u001b[0mpin_memory\u001b[0m\u001b[0;34m(\u001b[0m\u001b[0mdata\u001b[0m\u001b[0;34m)\u001b[0m\u001b[0;34m\u001b[0m\u001b[0;34m\u001b[0m\u001b[0m\n",
            "\u001b[0;32m/usr/local/lib/python3.7/dist-packages/torch/utils/data/_utils/fetch.py\u001b[0m in \u001b[0;36mfetch\u001b[0;34m(self, possibly_batched_index)\u001b[0m\n\u001b[1;32m     42\u001b[0m     \u001b[0;32mdef\u001b[0m \u001b[0mfetch\u001b[0m\u001b[0;34m(\u001b[0m\u001b[0mself\u001b[0m\u001b[0;34m,\u001b[0m \u001b[0mpossibly_batched_index\u001b[0m\u001b[0;34m)\u001b[0m\u001b[0;34m:\u001b[0m\u001b[0;34m\u001b[0m\u001b[0;34m\u001b[0m\u001b[0m\n\u001b[1;32m     43\u001b[0m         \u001b[0;32mif\u001b[0m \u001b[0mself\u001b[0m\u001b[0;34m.\u001b[0m\u001b[0mauto_collation\u001b[0m\u001b[0;34m:\u001b[0m\u001b[0;34m\u001b[0m\u001b[0;34m\u001b[0m\u001b[0m\n\u001b[0;32m---> 44\u001b[0;31m             \u001b[0mdata\u001b[0m \u001b[0;34m=\u001b[0m \u001b[0;34m[\u001b[0m\u001b[0mself\u001b[0m\u001b[0;34m.\u001b[0m\u001b[0mdataset\u001b[0m\u001b[0;34m[\u001b[0m\u001b[0midx\u001b[0m\u001b[0;34m]\u001b[0m \u001b[0;32mfor\u001b[0m \u001b[0midx\u001b[0m \u001b[0;32min\u001b[0m \u001b[0mpossibly_batched_index\u001b[0m\u001b[0;34m]\u001b[0m\u001b[0;34m\u001b[0m\u001b[0;34m\u001b[0m\u001b[0m\n\u001b[0m\u001b[1;32m     45\u001b[0m         \u001b[0;32melse\u001b[0m\u001b[0;34m:\u001b[0m\u001b[0;34m\u001b[0m\u001b[0;34m\u001b[0m\u001b[0m\n\u001b[1;32m     46\u001b[0m             \u001b[0mdata\u001b[0m \u001b[0;34m=\u001b[0m \u001b[0mself\u001b[0m\u001b[0;34m.\u001b[0m\u001b[0mdataset\u001b[0m\u001b[0;34m[\u001b[0m\u001b[0mpossibly_batched_index\u001b[0m\u001b[0;34m]\u001b[0m\u001b[0;34m\u001b[0m\u001b[0;34m\u001b[0m\u001b[0m\n",
            "\u001b[0;32m/usr/local/lib/python3.7/dist-packages/torch/utils/data/_utils/fetch.py\u001b[0m in \u001b[0;36m<listcomp>\u001b[0;34m(.0)\u001b[0m\n\u001b[1;32m     42\u001b[0m     \u001b[0;32mdef\u001b[0m \u001b[0mfetch\u001b[0m\u001b[0;34m(\u001b[0m\u001b[0mself\u001b[0m\u001b[0;34m,\u001b[0m \u001b[0mpossibly_batched_index\u001b[0m\u001b[0;34m)\u001b[0m\u001b[0;34m:\u001b[0m\u001b[0;34m\u001b[0m\u001b[0;34m\u001b[0m\u001b[0m\n\u001b[1;32m     43\u001b[0m         \u001b[0;32mif\u001b[0m \u001b[0mself\u001b[0m\u001b[0;34m.\u001b[0m\u001b[0mauto_collation\u001b[0m\u001b[0;34m:\u001b[0m\u001b[0;34m\u001b[0m\u001b[0;34m\u001b[0m\u001b[0m\n\u001b[0;32m---> 44\u001b[0;31m             \u001b[0mdata\u001b[0m \u001b[0;34m=\u001b[0m \u001b[0;34m[\u001b[0m\u001b[0mself\u001b[0m\u001b[0;34m.\u001b[0m\u001b[0mdataset\u001b[0m\u001b[0;34m[\u001b[0m\u001b[0midx\u001b[0m\u001b[0;34m]\u001b[0m \u001b[0;32mfor\u001b[0m \u001b[0midx\u001b[0m \u001b[0;32min\u001b[0m \u001b[0mpossibly_batched_index\u001b[0m\u001b[0;34m]\u001b[0m\u001b[0;34m\u001b[0m\u001b[0;34m\u001b[0m\u001b[0m\n\u001b[0m\u001b[1;32m     45\u001b[0m         \u001b[0;32melse\u001b[0m\u001b[0;34m:\u001b[0m\u001b[0;34m\u001b[0m\u001b[0;34m\u001b[0m\u001b[0m\n\u001b[1;32m     46\u001b[0m             \u001b[0mdata\u001b[0m \u001b[0;34m=\u001b[0m \u001b[0mself\u001b[0m\u001b[0;34m.\u001b[0m\u001b[0mdataset\u001b[0m\u001b[0;34m[\u001b[0m\u001b[0mpossibly_batched_index\u001b[0m\u001b[0;34m]\u001b[0m\u001b[0;34m\u001b[0m\u001b[0;34m\u001b[0m\u001b[0m\n",
            "\u001b[0;32m/usr/local/lib/python3.7/dist-packages/torchvision/datasets/mnist.py\u001b[0m in \u001b[0;36m__getitem__\u001b[0;34m(self, index)\u001b[0m\n\u001b[1;32m    132\u001b[0m \u001b[0;34m\u001b[0m\u001b[0m\n\u001b[1;32m    133\u001b[0m         \u001b[0;32mif\u001b[0m \u001b[0mself\u001b[0m\u001b[0;34m.\u001b[0m\u001b[0mtransform\u001b[0m \u001b[0;32mis\u001b[0m \u001b[0;32mnot\u001b[0m \u001b[0;32mNone\u001b[0m\u001b[0;34m:\u001b[0m\u001b[0;34m\u001b[0m\u001b[0;34m\u001b[0m\u001b[0m\n\u001b[0;32m--> 134\u001b[0;31m             \u001b[0mimg\u001b[0m \u001b[0;34m=\u001b[0m \u001b[0mself\u001b[0m\u001b[0;34m.\u001b[0m\u001b[0mtransform\u001b[0m\u001b[0;34m(\u001b[0m\u001b[0mimg\u001b[0m\u001b[0;34m)\u001b[0m\u001b[0;34m\u001b[0m\u001b[0;34m\u001b[0m\u001b[0m\n\u001b[0m\u001b[1;32m    135\u001b[0m \u001b[0;34m\u001b[0m\u001b[0m\n\u001b[1;32m    136\u001b[0m         \u001b[0;32mif\u001b[0m \u001b[0mself\u001b[0m\u001b[0;34m.\u001b[0m\u001b[0mtarget_transform\u001b[0m \u001b[0;32mis\u001b[0m \u001b[0;32mnot\u001b[0m \u001b[0;32mNone\u001b[0m\u001b[0;34m:\u001b[0m\u001b[0;34m\u001b[0m\u001b[0;34m\u001b[0m\u001b[0m\n",
            "\u001b[0;32m/usr/local/lib/python3.7/dist-packages/torchvision/transforms/transforms.py\u001b[0m in \u001b[0;36m__call__\u001b[0;34m(self, img)\u001b[0m\n\u001b[1;32m     58\u001b[0m     \u001b[0;32mdef\u001b[0m \u001b[0m__call__\u001b[0m\u001b[0;34m(\u001b[0m\u001b[0mself\u001b[0m\u001b[0;34m,\u001b[0m \u001b[0mimg\u001b[0m\u001b[0;34m)\u001b[0m\u001b[0;34m:\u001b[0m\u001b[0;34m\u001b[0m\u001b[0;34m\u001b[0m\u001b[0m\n\u001b[1;32m     59\u001b[0m         \u001b[0;32mfor\u001b[0m \u001b[0mt\u001b[0m \u001b[0;32min\u001b[0m \u001b[0mself\u001b[0m\u001b[0;34m.\u001b[0m\u001b[0mtransforms\u001b[0m\u001b[0;34m:\u001b[0m\u001b[0;34m\u001b[0m\u001b[0;34m\u001b[0m\u001b[0m\n\u001b[0;32m---> 60\u001b[0;31m             \u001b[0mimg\u001b[0m \u001b[0;34m=\u001b[0m \u001b[0mt\u001b[0m\u001b[0;34m(\u001b[0m\u001b[0mimg\u001b[0m\u001b[0;34m)\u001b[0m\u001b[0;34m\u001b[0m\u001b[0;34m\u001b[0m\u001b[0m\n\u001b[0m\u001b[1;32m     61\u001b[0m         \u001b[0;32mreturn\u001b[0m \u001b[0mimg\u001b[0m\u001b[0;34m\u001b[0m\u001b[0;34m\u001b[0m\u001b[0m\n\u001b[1;32m     62\u001b[0m \u001b[0;34m\u001b[0m\u001b[0m\n",
            "\u001b[0;32m/usr/local/lib/python3.7/dist-packages/torchvision/transforms/transforms.py\u001b[0m in \u001b[0;36m__call__\u001b[0;34m(self, pic)\u001b[0m\n\u001b[1;32m     95\u001b[0m             \u001b[0mTensor\u001b[0m\u001b[0;34m:\u001b[0m \u001b[0mConverted\u001b[0m \u001b[0mimage\u001b[0m\u001b[0;34m.\u001b[0m\u001b[0;34m\u001b[0m\u001b[0;34m\u001b[0m\u001b[0m\n\u001b[1;32m     96\u001b[0m         \"\"\"\n\u001b[0;32m---> 97\u001b[0;31m         \u001b[0;32mreturn\u001b[0m \u001b[0mF\u001b[0m\u001b[0;34m.\u001b[0m\u001b[0mto_tensor\u001b[0m\u001b[0;34m(\u001b[0m\u001b[0mpic\u001b[0m\u001b[0;34m)\u001b[0m\u001b[0;34m\u001b[0m\u001b[0;34m\u001b[0m\u001b[0m\n\u001b[0m\u001b[1;32m     98\u001b[0m \u001b[0;34m\u001b[0m\u001b[0m\n\u001b[1;32m     99\u001b[0m     \u001b[0;32mdef\u001b[0m \u001b[0m__repr__\u001b[0m\u001b[0;34m(\u001b[0m\u001b[0mself\u001b[0m\u001b[0;34m)\u001b[0m\u001b[0;34m:\u001b[0m\u001b[0;34m\u001b[0m\u001b[0;34m\u001b[0m\u001b[0m\n",
            "\u001b[0;32m/usr/local/lib/python3.7/dist-packages/torchvision/transforms/functional.py\u001b[0m in \u001b[0;36mto_tensor\u001b[0;34m(pic)\u001b[0m\n\u001b[1;32m    136\u001b[0m     \u001b[0mimg\u001b[0m \u001b[0;34m=\u001b[0m \u001b[0mimg\u001b[0m\u001b[0;34m.\u001b[0m\u001b[0mpermute\u001b[0m\u001b[0;34m(\u001b[0m\u001b[0;34m(\u001b[0m\u001b[0;36m2\u001b[0m\u001b[0;34m,\u001b[0m \u001b[0;36m0\u001b[0m\u001b[0;34m,\u001b[0m \u001b[0;36m1\u001b[0m\u001b[0;34m)\u001b[0m\u001b[0;34m)\u001b[0m\u001b[0;34m.\u001b[0m\u001b[0mcontiguous\u001b[0m\u001b[0;34m(\u001b[0m\u001b[0;34m)\u001b[0m\u001b[0;34m\u001b[0m\u001b[0;34m\u001b[0m\u001b[0m\n\u001b[1;32m    137\u001b[0m     \u001b[0;32mif\u001b[0m \u001b[0misinstance\u001b[0m\u001b[0;34m(\u001b[0m\u001b[0mimg\u001b[0m\u001b[0;34m,\u001b[0m \u001b[0mtorch\u001b[0m\u001b[0;34m.\u001b[0m\u001b[0mByteTensor\u001b[0m\u001b[0;34m)\u001b[0m\u001b[0;34m:\u001b[0m\u001b[0;34m\u001b[0m\u001b[0;34m\u001b[0m\u001b[0m\n\u001b[0;32m--> 138\u001b[0;31m         \u001b[0;32mreturn\u001b[0m \u001b[0mimg\u001b[0m\u001b[0;34m.\u001b[0m\u001b[0mto\u001b[0m\u001b[0;34m(\u001b[0m\u001b[0mdtype\u001b[0m\u001b[0;34m=\u001b[0m\u001b[0mdefault_float_dtype\u001b[0m\u001b[0;34m)\u001b[0m\u001b[0;34m.\u001b[0m\u001b[0mdiv\u001b[0m\u001b[0;34m(\u001b[0m\u001b[0;36m255\u001b[0m\u001b[0;34m)\u001b[0m\u001b[0;34m\u001b[0m\u001b[0;34m\u001b[0m\u001b[0m\n\u001b[0m\u001b[1;32m    139\u001b[0m     \u001b[0;32melse\u001b[0m\u001b[0;34m:\u001b[0m\u001b[0;34m\u001b[0m\u001b[0;34m\u001b[0m\u001b[0m\n\u001b[1;32m    140\u001b[0m         \u001b[0;32mreturn\u001b[0m \u001b[0mimg\u001b[0m\u001b[0;34m\u001b[0m\u001b[0;34m\u001b[0m\u001b[0m\n",
            "\u001b[0;31mKeyboardInterrupt\u001b[0m: "
          ]
        }
      ]
    },
    {
      "cell_type": "code",
      "metadata": {
        "id": "dWpQITuH5rch",
        "colab": {
          "base_uri": "https://localhost:8080/",
          "height": 300
        },
        "outputId": "31488fc0-5273-47b0-d5fa-054af7ae2791"
      },
      "source": [
        "images, labels = next(iter(valloader))\n",
        "images = images*data_scaling\n",
        "\n",
        "img = images[0].view(1, 784).to(device)\n",
        "with torch.no_grad():\n",
        "    logps = model(img)\n",
        "\n",
        "ps = torch.exp(logps)\n",
        "probab = list(ps.to(\"cpu\").numpy()[0])\n",
        "print(\"Predicted Digit =\", probab.index(max(probab)))\n",
        "print(type(img.view(1, 28, 28)))\n",
        "plt.imshow(img.view(1, 28, 28).to(\"cpu\").numpy().squeeze(), cmap='gray_r');"
      ],
      "execution_count": null,
      "outputs": [
        {
          "output_type": "stream",
          "text": [
            "Predicted Digit = 3\n",
            "<class 'torch.Tensor'>\n"
          ],
          "name": "stdout"
        },
        {
          "output_type": "display_data",
          "data": {
            "image/png": "[encoded data removed]",
            "text/plain": [
              "<Figure size 432x288 with 1 Axes>"
            ]
          },
          "metadata": {
            "tags": [],
            "needs_background": "light"
          }
        }
      ]
    },
    {
      "cell_type": "code",
      "metadata": {
        "id": "aQ7s_f0w5sem",
        "colab": {
          "base_uri": "https://localhost:8080/"
        },
        "outputId": "5161e4e0-5d25-44a3-df00-0bc2a235b9b4"
      },
      "source": [
        "correct_count, all_count = 0, 0\n",
        "for images,labels in valloader:\n",
        "    images = images*data_scaling\n",
        "    for i in range(len(labels)):\n",
        "        img = images[i].view(1, 784).to(device)\n",
        "        with torch.no_grad():\n",
        "            logps = model(img)\n",
        "            ps = torch.exp(logps)\n",
        "            probab = list(ps.to(\"cpu\").numpy()[0])\n",
        "            pred_label = probab.index(max(probab))\n",
        "            true_label = labels.numpy()[i]\n",
        "            if (true_label == pred_label):\n",
        "                correct_count += 1\n",
        "            all_count += 1\n",
        "\n",
        "print(\"Number Of Images Tested =\", all_count)\n",
        "print(\"\\nModel Accuracy =\", (correct_count/all_count))"
      ],
      "execution_count": null,
      "outputs": [
        {
          "output_type": "stream",
          "text": [
            "Number Of Images Tested = 10000\n",
            "\n",
            "Model Accuracy = 0.8568\n"
          ],
          "name": "stdout"
        }
      ]
    },
    {
      "cell_type": "markdown",
      "metadata": {
        "id": "n8AgFiMTvEmu"
      },
      "source": [
        "#Scaling"
      ]
    },
    {
      "cell_type": "code",
      "metadata": {
        "colab": {
          "base_uri": "https://localhost:8080/"
        },
        "id": "15s4ouP4AApp",
        "outputId": "472fece3-9d7c-4059-8271-94cae0b2c66d"
      },
      "source": [
        "def mymin(a, b):\n",
        "    if (a<b):\n",
        "        return a\n",
        "    else:\n",
        "        return b\n",
        "\n",
        "def mymax(a, b):\n",
        "    if (a<b):\n",
        "        return b\n",
        "    else:\n",
        "        return a\n",
        "\n",
        "def scale(w_arr, b_arr, s_min, s_max):\n",
        "    arr_min = mymin(w_arr.min(), b_arr.min())\n",
        "    arr_max = mymax(w_arr.max(), b_arr.max())\n",
        "    arr_range = arr_max-arr_min\n",
        "    s_range = s_max-s_min\n",
        "    return ((w_arr-arr_min)*s_range/arr_range+s_min).astype(int), ((b_arr-arr_min)*s_range/arr_range+s_min).astype(int)\n",
        "\n",
        "scaling_min = -100\n",
        "scaling_max = 100\n",
        "scaling_range = scaling_max-scaling_min\n",
        "\n",
        "model.to(\"cpu\")\n",
        "model.eval()\n",
        "\n",
        "FC1_w = model.FC1.weight\n",
        "FC1_w.requires_grad=False\n",
        "FC1_w = FC1_w.numpy()\n",
        "FC1_b = model.FC1.bias\n",
        "FC1_b.requires_grad=False\n",
        "FC1_b = FC1_b.numpy()\n",
        "\n",
        "w_min   = FC1_w.min()\n",
        "w_max   = FC1_w.max()\n",
        "b_min   = FC1_b.min()\n",
        "b_max   = FC1_b.max()\n",
        "w_range = w_max-w_min\n",
        "b_range = b_max-b_min\n",
        "print(f\"Weight min:{w_min}, max:{w_max}, range{w_range}\")\n",
        "print(f\"Bias min:{b_min}, max:{b_max}, range{b_range}\")\n",
        "\n",
        "FC1_w_scaled, FC1_b_scaled = scale(FC1_w, FC1_b, scaling_min, scaling_max)\n",
        "\n",
        "print(f\"Scaled Weight:{FC1_w_scaled}\")\n",
        "print(f\"Scaled Bias:{FC1_b_scaled}\")\n"
      ],
      "execution_count": null,
      "outputs": [
        {
          "output_type": "stream",
          "text": [
            "Weight min:-0.06804159283638, max:0.07792917639017105, range0.14597076177597046\n",
            "Bias min:-0.027455303817987442, max:0.025375908240675926, range0.05283121019601822\n",
            "Scaled Weight:[[ 36  -5  33 ...  31 -38 -49]\n",
            " [ -8  42   1 ...  32  23  10]\n",
            " [ 30   0 -12 ...  -7 -39 -17]\n",
            " ...\n",
            " [-10 -42  25 ... -31 -26 -48]\n",
            " [-60  23  27 ...  14 -36  10]\n",
            " [-11  30 -46 ... -43  10 -15]]\n",
            "Scaled Bias:[-44   6 -14 -22  10  21  27   4  -8  23]\n"
          ],
          "name": "stdout"
        }
      ]
    },
    {
      "cell_type": "code",
      "metadata": {
        "colab": {
          "base_uri": "https://localhost:8080/"
        },
        "id": "kV6sv187mpyt",
        "outputId": "5979b264-987f-43b2-f821-ae021713f31e"
      },
      "source": [
        "correct_count, all_count = 0, 0\n",
        "lgs = torch.nn.LogSoftmax(dim=1)\n",
        "x_min = float('inf')\n",
        "x_max = -float('inf')\n",
        "\n",
        "for images, labels in valloader:\n",
        "    images = images.numpy()*data_scaling\n",
        "    labels = labels.numpy()\n",
        "    for i in range(len(labels)):\n",
        "        img = images[i].reshape(1, 784)\n",
        "        #logps = model(img)\n",
        "        x = (np.matmul(img, FC1_w_scaled.transpose())+FC1_b_scaled)\n",
        "        #x = (np.matmul(img, FC1_w.transpose())+FC1_b)\n",
        "        if (x_min > x.min()):\n",
        "            x_min = x.min()\n",
        "        if (x_max < x.max()):\n",
        "            x_max = x.max()\n",
        "        x = x / scaling_range\n",
        "        logps = lgs(torch.tensor(x))\n",
        "        ps = torch.exp(logps)\n",
        "        probab = list(ps.to(\"cpu\").numpy()[0])\n",
        "        pred_label = probab.index(max(probab))\n",
        "        true_label = labels[i]\n",
        "        if (true_label == pred_label):\n",
        "            correct_count += 1\n",
        "        all_count += 1\n",
        "\n",
        "print(\"Number Of Images Tested =\", all_count)\n",
        "print(\"\\nModel Accuracy =\", (correct_count/all_count))\n",
        "print(f\"MatMul Result range = min:{x_min}, max:{x_max}\")"
      ],
      "execution_count": null,
      "outputs": [
        {
          "output_type": "stream",
          "text": [
            "Number Of Images Tested = 10000\n",
            "\n",
            "Model Accuracy = 0.8526\n",
            "MatMul Result range = min:-105757.13859939575, max:398478.86309432983\n"
          ],
          "name": "stdout"
        }
      ]
    },
    {
      "cell_type": "code",
      "metadata": {
        "id": "f8X-5tj5nH2O"
      },
      "source": [
        ""
      ],
      "execution_count": null,
      "outputs": []
    }
  ]
}