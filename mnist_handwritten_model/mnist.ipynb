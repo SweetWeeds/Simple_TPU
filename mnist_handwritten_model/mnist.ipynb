{
  "nbformat": 4,
  "nbformat_minor": 2,
  "metadata": {
    "colab": {
      "name": "Untitled4.ipynb",
      "provenance": [],
      "collapsed_sections": []
    },
    "kernelspec": {
      "name": "python3",
      "display_name": "Python 3"
    },
    "language_info": {
      "name": "python"
    }
  },
  "cells": [
    {
      "cell_type": "code",
      "execution_count": 1,
      "source": [
        "import numpy as np\r\n",
        "import torch\r\n",
        "import torchvision\r\n",
        "import matplotlib.pyplot as plt\r\n",
        "from time import time\r\n",
        "from torchvision import datasets, transforms\r\n",
        "from torch import nn, optim"
      ],
      "outputs": [],
      "metadata": {
        "id": "KM3AZrR0t_iz"
      }
    },
    {
      "cell_type": "code",
      "execution_count": 3,
      "source": [
        "# int8: -128~127\r\n",
        "transform = transforms.Compose([transforms.ToTensor(),\r\n",
        "                              transforms.Normalize((0.5,), (0.5,)),\r\n",
        "                              ])\r\n",
        "#transform = transforms.Compose([transforms.ToTensor(),])"
      ],
      "outputs": [],
      "metadata": {
        "id": "jCpoEmhmuZZj"
      }
    },
    {
      "cell_type": "code",
      "execution_count": 4,
      "source": [
        "trainset = datasets.MNIST('./trainset', download=True, train=True, transform=transform)\r\n",
        "#trainset = datasets.MNIST('./trainset', download=True, train=True)\r\n",
        "\r\n",
        "valset = datasets.MNIST('./testset', download=True, train=False, transform=transform)\r\n",
        "#valset = datasets.MNIST('./testset', download=True, train=False)\r\n",
        "\r\n",
        "trainloader = torch.utils.data.DataLoader(trainset, batch_size=64, shuffle=True)\r\n",
        "\r\n",
        "valloader = torch.utils.data.DataLoader(valset, batch_size=64, shuffle=True)"
      ],
      "outputs": [
        {
          "output_type": "stream",
          "name": "stderr",
          "text": [
            "/usr/local/lib/python3.7/dist-packages/torchvision/datasets/mnist.py:498: UserWarning: The given NumPy array is not writeable, and PyTorch does not support non-writeable tensors. This means you can write to the underlying (supposedly non-writeable) NumPy array using the tensor. You may want to copy the array to protect its data or make it writeable before converting it to a tensor. This type of warning will be suppressed for the rest of this program. (Triggered internally at  /pytorch/torch/csrc/utils/tensor_numpy.cpp:180.)\n",
            "  return torch.from_numpy(parsed.astype(m[2], copy=False)).view(*s)\n"
          ]
        }
      ],
      "metadata": {
        "id": "B-S87iWWvpIQ",
        "colab": {
          "base_uri": "https://localhost:8080/"
        },
        "outputId": "882ff938-8daa-4173-a318-703e10e0f076"
      }
    },
    {
      "cell_type": "code",
      "execution_count": 17,
      "source": [
        "print(trainset)\r\n",
        "dataiter = iter(trainloader)\r\n",
        "images, labels = dataiter.next()\r\n",
        "images = transforms.functional.convert_image_dtype(images, torch.int8)\r\n",
        "#print(type(dataiter))\r\n",
        "#for p in dataiter:\r\n",
        "#    print(p)\r\n",
        "\r\n",
        "print(images.shape)\r\n",
        "print(labels.shape)\r\n"
      ],
      "outputs": [
        {
          "output_type": "stream",
          "name": "stdout",
          "text": [
            "Dataset MNIST\n",
            "    Number of datapoints: 60000\n",
            "    Root location: ./trainset\n",
            "    Split: Train\n",
            "    StandardTransform\n",
            "Transform: Compose(\n",
            "               ToTensor()\n",
            "               Normalize(mean=(0.5,), std=(0.5,))\n",
            "           )\n",
            "torch.Size([64, 1, 28, 28])\n",
            "torch.Size([64])\n"
          ]
        }
      ],
      "metadata": {
        "colab": {
          "base_uri": "https://localhost:8080/"
        },
        "id": "GMdmGja-v5dD",
        "outputId": "682300c0-45eb-46a8-aef0-948a9c758b7c"
      }
    },
    {
      "cell_type": "code",
      "execution_count": 18,
      "source": [
        "plt.imshow(images[0].numpy().squeeze(), cmap='gray_r');\r\n",
        "images[0].numpy()"
      ],
      "outputs": [
        {
          "output_type": "execute_result",
          "data": {
            "text/plain": [
              "array([[[-127, -127, -127, -127, -127, -127, -127, -127, -127, -127,\n",
              "         -127, -127, -127, -127, -127, -127, -127, -127, -127, -127,\n",
              "         -127, -127, -127, -127, -127, -127, -127, -127],\n",
              "        [-127, -127, -127, -127, -127, -127, -127, -127, -127, -127,\n",
              "         -127, -127, -127, -127, -127, -127, -127, -127, -127, -127,\n",
              "         -127, -127, -127, -127, -127, -127, -127, -127],\n",
              "        [-127, -127, -127, -127, -127, -127, -127, -127, -127, -127,\n",
              "         -127, -127, -127, -127, -127, -127, -127, -127, -127, -127,\n",
              "         -127, -127, -127, -127, -127, -127, -127, -127],\n",
              "        [-127, -127, -127, -127, -127, -127, -127, -127, -127, -127,\n",
              "         -127, -127, -127, -127, -127, -127, -127, -127, -127, -127,\n",
              "         -127, -127, -127, -127, -127, -127, -127, -127],\n",
              "        [-127, -127, -127, -127, -127, -127, -127, -127, -127, -127,\n",
              "         -127, -127, -127, -127, -127, -127, -127, -127, -127, -127,\n",
              "         -127, -127, -127, -127, -127, -127, -127, -127],\n",
              "        [-127, -127, -127, -127, -127, -127, -127, -127, -127, -127,\n",
              "         -127, -127, -127, -127, -127, -127, -127, -127, -127, -127,\n",
              "         -127, -127, -127, -127, -127, -127, -127, -127],\n",
              "        [-127, -127, -127, -127, -127, -127, -127, -127, -127, -127,\n",
              "         -127, -127, -127, -127, -127, -127, -127, -127, -127, -127,\n",
              "         -127, -127, -127, -127, -127, -127, -127, -127],\n",
              "        [-127, -127, -127, -127, -127, -127, -127, -127, -127, -127,\n",
              "         -127, -127, -124,  -67,  -25,    4,  117,  108,   71,  -27,\n",
              "         -127, -127, -127, -127, -127, -127, -127, -127],\n",
              "        [-127, -127, -127, -127, -127, -127, -127, -127, -127, -127,\n",
              "         -126,  -41,   85,  126,  126,  126,  126,  126,  126,  106,\n",
              "          -85, -127, -127, -127, -127, -127, -127, -127],\n",
              "        [-127, -127, -127, -127, -127, -127, -127, -127, -127, -117,\n",
              "           41,  126,  126,  126,  124,  114,  114,   42,   52,  121,\n",
              "          -27, -127, -127, -127, -127, -127, -127, -127],\n",
              "        [-127, -127, -127, -127, -127, -127, -127, -127, -100,   35,\n",
              "          126,  124,   97,   12,  -69, -127,  -99,   63,   14,  -55,\n",
              "          -66, -127, -127, -127, -127, -127, -127, -127],\n",
              "        [-127, -127, -127, -127, -127, -127, -127, -114,  109,  126,\n",
              "          108,  -51, -127, -116,  -90,   -5,   96,  126,  126,  -44,\n",
              "         -127, -127, -127, -127, -127, -127, -127, -127],\n",
              "        [-127, -127, -127, -127, -127, -127, -127,  -46,  126,  116,\n",
              "          -73, -115,  -89,   80,  126,  126,  126,  126,  120,  -60,\n",
              "         -127, -127, -127, -127, -127, -127, -127, -127],\n",
              "        [-127, -127, -127, -127, -127, -127, -127,  -26,  126,  121,\n",
              "           69,   95,  126,  126,  121,   36,   36,  126,   54, -127,\n",
              "         -127, -127, -127, -127, -127, -127, -127, -127],\n",
              "        [-127, -127, -127, -127, -127, -127, -127,  -64,  126,  126,\n",
              "          126,  126,  110,   38,  -83, -103,   91,  119,  -88, -127,\n",
              "         -127, -127, -127, -127, -127, -127, -127, -127],\n",
              "        [-127, -127, -127, -127, -127, -127, -127, -118,   60,    5,\n",
              "            5,  -32, -101, -127, -127,  -64,  126,   68, -127, -127,\n",
              "         -127, -127, -127, -127, -127, -127, -127, -127],\n",
              "        [-127, -127, -127, -127, -127, -127, -127, -127, -127, -127,\n",
              "         -127, -127, -127, -127, -104,   93,  118,  -18, -127, -127,\n",
              "         -127, -127, -127, -127, -127, -127, -127, -127],\n",
              "        [-127, -127, -127, -127, -127, -127, -127, -127, -127, -127,\n",
              "         -127, -127, -127, -127,  -65,  126,   72, -127, -127, -127,\n",
              "         -127, -127, -127, -127, -127, -127, -127, -127],\n",
              "        [-127, -127, -127, -127, -127, -127, -127, -127, -127, -127,\n",
              "         -127, -127, -127, -104,   95,  117,  -21, -127, -127, -127,\n",
              "         -127, -127, -127, -127, -127, -127, -127, -127],\n",
              "        [-127, -127, -127, -127, -127, -127, -127, -127, -127, -127,\n",
              "         -127, -127, -127,  -39,  126,   58, -127, -127, -127, -127,\n",
              "         -127, -127, -127, -127, -127, -127, -127, -127],\n",
              "        [-127, -127, -127, -127, -127, -127, -127, -127, -127, -127,\n",
              "         -127, -127, -118,   82,  126,   -6, -127, -127, -127, -127,\n",
              "         -127, -127, -127, -127, -127, -127, -127, -127],\n",
              "        [-127, -127, -127, -127, -127, -127, -127, -127, -127, -127,\n",
              "         -127, -127,  -89,  126,  100, -103, -127, -127, -127, -127,\n",
              "         -127, -127, -127, -127, -127, -127, -127, -127],\n",
              "        [-127, -127, -127, -127, -127, -127, -127, -127, -127, -127,\n",
              "         -127, -127,   36,  126,    9, -127, -127, -127, -127, -127,\n",
              "         -127, -127, -127, -127, -127, -127, -127, -127],\n",
              "        [-127, -127, -127, -127, -127, -127, -127, -127, -127, -127,\n",
              "         -127, -106,  107,   87, -124, -127, -127, -127, -127, -127,\n",
              "         -127, -127, -127, -127, -127, -127, -127, -127],\n",
              "        [-127, -127, -127, -127, -127, -127, -127, -127, -127, -127,\n",
              "         -127,  -68,  126,    5, -127, -127, -127, -127, -127, -127,\n",
              "         -127, -127, -127, -127, -127, -127, -127, -127],\n",
              "        [-127, -127, -127, -127, -127, -127, -127, -127, -127, -127,\n",
              "         -117,   60,  115,  -93, -127, -127, -127, -127, -127, -127,\n",
              "         -127, -127, -127, -127, -127, -127, -127, -127],\n",
              "        [-127, -127, -127, -127, -127, -127, -127, -127, -127, -127,\n",
              "          -97,  126,   89, -127, -127, -127, -127, -127, -127, -127,\n",
              "         -127, -127, -127, -127, -127, -127, -127, -127],\n",
              "        [-127, -127, -127, -127, -127, -127, -127, -127, -127, -127,\n",
              "         -127, -127, -127, -127, -127, -127, -127, -127, -127, -127,\n",
              "         -127, -127, -127, -127, -127, -127, -127, -127]]], dtype=int8)"
            ]
          },
          "metadata": {
            "tags": []
          },
          "execution_count": 18
        },
        {
          "output_type": "display_data",
          "data": {
            "text/plain": [
              "<Figure size 432x288 with 1 Axes>"
            ],
            "image/png": "[encoded data removed]"
          },
          "metadata": {
            "tags": [],
            "needs_background": "light"
          }
        }
      ],
      "metadata": {
        "colab": {
          "base_uri": "https://localhost:8080/",
          "height": 1000
        },
        "id": "OYOwxUEPv7rz",
        "outputId": "bf94a695-93e8-420f-e637-2837ea85381e"
      }
    },
    {
      "cell_type": "code",
      "execution_count": 19,
      "source": [
        "figure = plt.figure()\r\n",
        "num_of_images = 60\r\n",
        "for index in range(1, num_of_images + 1):\r\n",
        "    plt.subplot(6, 10, index)\r\n",
        "    plt.axis('off')\r\n",
        "    plt.imshow(images[index].numpy().squeeze(), cmap='gray_r')"
      ],
      "outputs": [
        {
          "output_type": "display_data",
          "data": {
            "text/plain": [
              "<Figure size 432x288 with 60 Axes>"
            ],
            "image/png": "[encoded data removed]"
          },
          "metadata": {
            "tags": [],
            "needs_background": "light"
          }
        }
      ],
      "metadata": {
        "colab": {
          "base_uri": "https://localhost:8080/",
          "height": 246
        },
        "id": "M6t-y3j4yzdu",
        "outputId": "c3513121-4ebc-4819-b6e9-b20da776ae0a"
      }
    },
    {
      "cell_type": "code",
      "execution_count": 20,
      "source": [
        "import os\r\n",
        "input_size = 784\r\n",
        "hidden_sizes = [128, 64]\r\n",
        "output_size = 10\r\n",
        "\r\n",
        "model = nn.Sequential(nn.Linear(input_size, hidden_sizes[0]),\r\n",
        "                      nn.Linear(hidden_sizes[0], hidden_sizes[1]),\r\n",
        "                      nn.Linear(hidden_sizes[1], output_size),\r\n",
        "                      nn.LogSoftmax(dim=1))\r\n",
        "\r\n",
        "if os.path.isfile(\"./mnist_model.pt\"):\r\n",
        "    model.load_state_dict(torch.load(\"./mnist_model.pt\"))\r\n",
        "    print(\"Load complete\")\r\n",
        "print(model)"
      ],
      "outputs": [
        {
          "output_type": "stream",
          "name": "stdout",
          "text": [
            "Sequential(\n",
            "  (0): Linear(in_features=784, out_features=128, bias=True)\n",
            "  (1): Linear(in_features=128, out_features=64, bias=True)\n",
            "  (2): Linear(in_features=64, out_features=10, bias=True)\n",
            "  (3): LogSoftmax(dim=1)\n",
            ")\n"
          ]
        }
      ],
      "metadata": {
        "colab": {
          "base_uri": "https://localhost:8080/"
        },
        "id": "2-uWLWZvy7Mr",
        "outputId": "c6d0e2aa-7f32-4ec9-ed34-2a7d26e3a7b2"
      }
    },
    {
      "cell_type": "code",
      "execution_count": 21,
      "source": [
        "criterion = nn.NLLLoss()\r\n",
        "images, labels = next(iter(trainloader))\r\n",
        "images = images.view(images.shape[0], -1)\r\n",
        "\r\n",
        "logps = model(images) #log probabilities\r\n",
        "loss = criterion(logps, labels) #calculate the NLL loss"
      ],
      "outputs": [],
      "metadata": {
        "id": "08iwCHBCzfB-"
      }
    },
    {
      "cell_type": "code",
      "execution_count": 22,
      "source": [
        "print('Before backward pass: \\n', model[0].weight.grad)\r\n",
        "loss.backward()\r\n",
        "print('After backward pass: \\n', model[0].weight.grad)"
      ],
      "outputs": [
        {
          "output_type": "stream",
          "name": "stdout",
          "text": [
            "Before backward pass: \n",
            " None\n",
            "After backward pass: \n",
            " tensor([[-0.0037, -0.0037, -0.0037,  ..., -0.0037, -0.0037, -0.0037],\n",
            "        [ 0.0011,  0.0011,  0.0011,  ...,  0.0011,  0.0011,  0.0011],\n",
            "        [-0.0011, -0.0011, -0.0011,  ..., -0.0011, -0.0011, -0.0011],\n",
            "        ...,\n",
            "        [-0.0051, -0.0051, -0.0051,  ..., -0.0051, -0.0051, -0.0051],\n",
            "        [-0.0002, -0.0002, -0.0002,  ..., -0.0002, -0.0002, -0.0002],\n",
            "        [ 0.0003,  0.0003,  0.0003,  ...,  0.0003,  0.0003,  0.0003]])\n"
          ]
        }
      ],
      "metadata": {
        "colab": {
          "base_uri": "https://localhost:8080/"
        },
        "id": "FNuRGWBM0BW9",
        "outputId": "a33b288b-81a4-4d80-d64f-446073a6e438"
      }
    },
    {
      "cell_type": "code",
      "execution_count": 23,
      "source": [
        "optimizer = optim.SGD(model.parameters(), lr=0.003, momentum=0.9)\r\n",
        "time0 = time()\r\n",
        "epochs = 100\r\n",
        "for e in range(epochs):\r\n",
        "    running_loss = 0\r\n",
        "    for images, labels in trainloader:\r\n",
        "        # Flatten MNIST images into a 784 long vector\r\n",
        "        images = images.view(images.shape[0], -1)\r\n",
        "    \r\n",
        "        # Training pass\r\n",
        "        optimizer.zero_grad()\r\n",
        "        \r\n",
        "        output = model(images)\r\n",
        "        loss = criterion(output, labels)\r\n",
        "        \r\n",
        "        #This is where the model learns by backpropagating\r\n",
        "        loss.backward()\r\n",
        "        \r\n",
        "        #And optimizes its weights here\r\n",
        "        optimizer.step()\r\n",
        "        \r\n",
        "        running_loss += loss.item()\r\n",
        "    else:\r\n",
        "        print(\"Epoch {} - Training loss: {}\".format(e, running_loss/len(trainloader)))\r\n",
        "print(\"\\nTraining Time (in minutes) =\",(time()-time0)/60)"
      ],
      "outputs": [
        {
          "output_type": "stream",
          "name": "stdout",
          "text": [
            "Epoch 0 - Training loss: 0.5394782720566559\n",
            "Epoch 1 - Training loss: 0.3237201946853066\n",
            "Epoch 2 - Training loss: 0.30912355892757365\n",
            "Epoch 3 - Training loss: 0.30031956650856845\n",
            "Epoch 4 - Training loss: 0.2932115369943032\n",
            "Epoch 5 - Training loss: 0.2898998785414485\n",
            "Epoch 6 - Training loss: 0.2874450221228828\n",
            "Epoch 7 - Training loss: 0.28377033287146963\n",
            "Epoch 8 - Training loss: 0.2816474545500807\n",
            "Epoch 9 - Training loss: 0.2789551389973555\n",
            "Epoch 10 - Training loss: 0.27659415160573875\n",
            "Epoch 11 - Training loss: 0.2754494907266931\n",
            "Epoch 12 - Training loss: 0.2741854814276385\n",
            "Epoch 13 - Training loss: 0.272938540769316\n",
            "Epoch 14 - Training loss: 0.2733976673851135\n",
            "Epoch 15 - Training loss: 0.27076102663744994\n",
            "Epoch 16 - Training loss: 0.2704350305423299\n",
            "Epoch 17 - Training loss: 0.2699379144049784\n",
            "Epoch 18 - Training loss: 0.2670389622497533\n",
            "Epoch 19 - Training loss: 0.2676048600343245\n",
            "Epoch 20 - Training loss: 0.26741635837137445\n",
            "Epoch 21 - Training loss: 0.2636963489141736\n",
            "Epoch 22 - Training loss: 0.26505662202993946\n",
            "Epoch 23 - Training loss: 0.26431057314231576\n",
            "Epoch 24 - Training loss: 0.2638995914316889\n"
          ]
        },
        {
          "output_type": "error",
          "ename": "KeyboardInterrupt",
          "evalue": "ignored",
          "traceback": [
            "\u001b[0;31m---------------------------------------------------------------------------\u001b[0m",
            "\u001b[0;31mKeyboardInterrupt\u001b[0m                         Traceback (most recent call last)",
            "\u001b[0;32m<ipython-input-23-7b27448cb3fe>\u001b[0m in \u001b[0;36m<module>\u001b[0;34m()\u001b[0m\n\u001b[1;32m      4\u001b[0m \u001b[0;32mfor\u001b[0m \u001b[0me\u001b[0m \u001b[0;32min\u001b[0m \u001b[0mrange\u001b[0m\u001b[0;34m(\u001b[0m\u001b[0mepochs\u001b[0m\u001b[0;34m)\u001b[0m\u001b[0;34m:\u001b[0m\u001b[0;34m\u001b[0m\u001b[0;34m\u001b[0m\u001b[0m\n\u001b[1;32m      5\u001b[0m     \u001b[0mrunning_loss\u001b[0m \u001b[0;34m=\u001b[0m \u001b[0;36m0\u001b[0m\u001b[0;34m\u001b[0m\u001b[0;34m\u001b[0m\u001b[0m\n\u001b[0;32m----> 6\u001b[0;31m     \u001b[0;32mfor\u001b[0m \u001b[0mimages\u001b[0m\u001b[0;34m,\u001b[0m \u001b[0mlabels\u001b[0m \u001b[0;32min\u001b[0m \u001b[0mtrainloader\u001b[0m\u001b[0;34m:\u001b[0m\u001b[0;34m\u001b[0m\u001b[0;34m\u001b[0m\u001b[0m\n\u001b[0m\u001b[1;32m      7\u001b[0m         \u001b[0;31m# Flatten MNIST images into a 784 long vector\u001b[0m\u001b[0;34m\u001b[0m\u001b[0;34m\u001b[0m\u001b[0;34m\u001b[0m\u001b[0m\n\u001b[1;32m      8\u001b[0m         \u001b[0mimages\u001b[0m \u001b[0;34m=\u001b[0m \u001b[0mimages\u001b[0m\u001b[0;34m.\u001b[0m\u001b[0mview\u001b[0m\u001b[0;34m(\u001b[0m\u001b[0mimages\u001b[0m\u001b[0;34m.\u001b[0m\u001b[0mshape\u001b[0m\u001b[0;34m[\u001b[0m\u001b[0;36m0\u001b[0m\u001b[0;34m]\u001b[0m\u001b[0;34m,\u001b[0m \u001b[0;34m-\u001b[0m\u001b[0;36m1\u001b[0m\u001b[0;34m)\u001b[0m\u001b[0;34m\u001b[0m\u001b[0;34m\u001b[0m\u001b[0m\n",
            "\u001b[0;32m/usr/local/lib/python3.7/dist-packages/torch/utils/data/dataloader.py\u001b[0m in \u001b[0;36m__next__\u001b[0;34m(self)\u001b[0m\n\u001b[1;32m    519\u001b[0m             \u001b[0;32mif\u001b[0m \u001b[0mself\u001b[0m\u001b[0;34m.\u001b[0m\u001b[0m_sampler_iter\u001b[0m \u001b[0;32mis\u001b[0m \u001b[0;32mNone\u001b[0m\u001b[0;34m:\u001b[0m\u001b[0;34m\u001b[0m\u001b[0;34m\u001b[0m\u001b[0m\n\u001b[1;32m    520\u001b[0m                 \u001b[0mself\u001b[0m\u001b[0;34m.\u001b[0m\u001b[0m_reset\u001b[0m\u001b[0;34m(\u001b[0m\u001b[0;34m)\u001b[0m\u001b[0;34m\u001b[0m\u001b[0;34m\u001b[0m\u001b[0m\n\u001b[0;32m--> 521\u001b[0;31m             \u001b[0mdata\u001b[0m \u001b[0;34m=\u001b[0m \u001b[0mself\u001b[0m\u001b[0;34m.\u001b[0m\u001b[0m_next_data\u001b[0m\u001b[0;34m(\u001b[0m\u001b[0;34m)\u001b[0m\u001b[0;34m\u001b[0m\u001b[0;34m\u001b[0m\u001b[0m\n\u001b[0m\u001b[1;32m    522\u001b[0m             \u001b[0mself\u001b[0m\u001b[0;34m.\u001b[0m\u001b[0m_num_yielded\u001b[0m \u001b[0;34m+=\u001b[0m \u001b[0;36m1\u001b[0m\u001b[0;34m\u001b[0m\u001b[0;34m\u001b[0m\u001b[0m\n\u001b[1;32m    523\u001b[0m             \u001b[0;32mif\u001b[0m \u001b[0mself\u001b[0m\u001b[0;34m.\u001b[0m\u001b[0m_dataset_kind\u001b[0m \u001b[0;34m==\u001b[0m \u001b[0m_DatasetKind\u001b[0m\u001b[0;34m.\u001b[0m\u001b[0mIterable\u001b[0m \u001b[0;32mand\u001b[0m\u001b[0;31m \u001b[0m\u001b[0;31m\\\u001b[0m\u001b[0;34m\u001b[0m\u001b[0;34m\u001b[0m\u001b[0m\n",
            "\u001b[0;32m/usr/local/lib/python3.7/dist-packages/torch/utils/data/dataloader.py\u001b[0m in \u001b[0;36m_next_data\u001b[0;34m(self)\u001b[0m\n\u001b[1;32m    559\u001b[0m     \u001b[0;32mdef\u001b[0m \u001b[0m_next_data\u001b[0m\u001b[0;34m(\u001b[0m\u001b[0mself\u001b[0m\u001b[0;34m)\u001b[0m\u001b[0;34m:\u001b[0m\u001b[0;34m\u001b[0m\u001b[0;34m\u001b[0m\u001b[0m\n\u001b[1;32m    560\u001b[0m         \u001b[0mindex\u001b[0m \u001b[0;34m=\u001b[0m \u001b[0mself\u001b[0m\u001b[0;34m.\u001b[0m\u001b[0m_next_index\u001b[0m\u001b[0;34m(\u001b[0m\u001b[0;34m)\u001b[0m  \u001b[0;31m# may raise StopIteration\u001b[0m\u001b[0;34m\u001b[0m\u001b[0;34m\u001b[0m\u001b[0m\n\u001b[0;32m--> 561\u001b[0;31m         \u001b[0mdata\u001b[0m \u001b[0;34m=\u001b[0m \u001b[0mself\u001b[0m\u001b[0;34m.\u001b[0m\u001b[0m_dataset_fetcher\u001b[0m\u001b[0;34m.\u001b[0m\u001b[0mfetch\u001b[0m\u001b[0;34m(\u001b[0m\u001b[0mindex\u001b[0m\u001b[0;34m)\u001b[0m  \u001b[0;31m# may raise StopIteration\u001b[0m\u001b[0;34m\u001b[0m\u001b[0;34m\u001b[0m\u001b[0m\n\u001b[0m\u001b[1;32m    562\u001b[0m         \u001b[0;32mif\u001b[0m \u001b[0mself\u001b[0m\u001b[0;34m.\u001b[0m\u001b[0m_pin_memory\u001b[0m\u001b[0;34m:\u001b[0m\u001b[0;34m\u001b[0m\u001b[0;34m\u001b[0m\u001b[0m\n\u001b[1;32m    563\u001b[0m             \u001b[0mdata\u001b[0m \u001b[0;34m=\u001b[0m \u001b[0m_utils\u001b[0m\u001b[0;34m.\u001b[0m\u001b[0mpin_memory\u001b[0m\u001b[0;34m.\u001b[0m\u001b[0mpin_memory\u001b[0m\u001b[0;34m(\u001b[0m\u001b[0mdata\u001b[0m\u001b[0;34m)\u001b[0m\u001b[0;34m\u001b[0m\u001b[0;34m\u001b[0m\u001b[0m\n",
            "\u001b[0;32m/usr/local/lib/python3.7/dist-packages/torch/utils/data/_utils/fetch.py\u001b[0m in \u001b[0;36mfetch\u001b[0;34m(self, possibly_batched_index)\u001b[0m\n\u001b[1;32m     42\u001b[0m     \u001b[0;32mdef\u001b[0m \u001b[0mfetch\u001b[0m\u001b[0;34m(\u001b[0m\u001b[0mself\u001b[0m\u001b[0;34m,\u001b[0m \u001b[0mpossibly_batched_index\u001b[0m\u001b[0;34m)\u001b[0m\u001b[0;34m:\u001b[0m\u001b[0;34m\u001b[0m\u001b[0;34m\u001b[0m\u001b[0m\n\u001b[1;32m     43\u001b[0m         \u001b[0;32mif\u001b[0m \u001b[0mself\u001b[0m\u001b[0;34m.\u001b[0m\u001b[0mauto_collation\u001b[0m\u001b[0;34m:\u001b[0m\u001b[0;34m\u001b[0m\u001b[0;34m\u001b[0m\u001b[0m\n\u001b[0;32m---> 44\u001b[0;31m             \u001b[0mdata\u001b[0m \u001b[0;34m=\u001b[0m \u001b[0;34m[\u001b[0m\u001b[0mself\u001b[0m\u001b[0;34m.\u001b[0m\u001b[0mdataset\u001b[0m\u001b[0;34m[\u001b[0m\u001b[0midx\u001b[0m\u001b[0;34m]\u001b[0m \u001b[0;32mfor\u001b[0m \u001b[0midx\u001b[0m \u001b[0;32min\u001b[0m \u001b[0mpossibly_batched_index\u001b[0m\u001b[0;34m]\u001b[0m\u001b[0;34m\u001b[0m\u001b[0;34m\u001b[0m\u001b[0m\n\u001b[0m\u001b[1;32m     45\u001b[0m         \u001b[0;32melse\u001b[0m\u001b[0;34m:\u001b[0m\u001b[0;34m\u001b[0m\u001b[0;34m\u001b[0m\u001b[0m\n\u001b[1;32m     46\u001b[0m             \u001b[0mdata\u001b[0m \u001b[0;34m=\u001b[0m \u001b[0mself\u001b[0m\u001b[0;34m.\u001b[0m\u001b[0mdataset\u001b[0m\u001b[0;34m[\u001b[0m\u001b[0mpossibly_batched_index\u001b[0m\u001b[0;34m]\u001b[0m\u001b[0;34m\u001b[0m\u001b[0;34m\u001b[0m\u001b[0m\n",
            "\u001b[0;32m/usr/local/lib/python3.7/dist-packages/torch/utils/data/_utils/fetch.py\u001b[0m in \u001b[0;36m<listcomp>\u001b[0;34m(.0)\u001b[0m\n\u001b[1;32m     42\u001b[0m     \u001b[0;32mdef\u001b[0m \u001b[0mfetch\u001b[0m\u001b[0;34m(\u001b[0m\u001b[0mself\u001b[0m\u001b[0;34m,\u001b[0m \u001b[0mpossibly_batched_index\u001b[0m\u001b[0;34m)\u001b[0m\u001b[0;34m:\u001b[0m\u001b[0;34m\u001b[0m\u001b[0;34m\u001b[0m\u001b[0m\n\u001b[1;32m     43\u001b[0m         \u001b[0;32mif\u001b[0m \u001b[0mself\u001b[0m\u001b[0;34m.\u001b[0m\u001b[0mauto_collation\u001b[0m\u001b[0;34m:\u001b[0m\u001b[0;34m\u001b[0m\u001b[0;34m\u001b[0m\u001b[0m\n\u001b[0;32m---> 44\u001b[0;31m             \u001b[0mdata\u001b[0m \u001b[0;34m=\u001b[0m \u001b[0;34m[\u001b[0m\u001b[0mself\u001b[0m\u001b[0;34m.\u001b[0m\u001b[0mdataset\u001b[0m\u001b[0;34m[\u001b[0m\u001b[0midx\u001b[0m\u001b[0;34m]\u001b[0m \u001b[0;32mfor\u001b[0m \u001b[0midx\u001b[0m \u001b[0;32min\u001b[0m \u001b[0mpossibly_batched_index\u001b[0m\u001b[0;34m]\u001b[0m\u001b[0;34m\u001b[0m\u001b[0;34m\u001b[0m\u001b[0m\n\u001b[0m\u001b[1;32m     45\u001b[0m         \u001b[0;32melse\u001b[0m\u001b[0;34m:\u001b[0m\u001b[0;34m\u001b[0m\u001b[0;34m\u001b[0m\u001b[0m\n\u001b[1;32m     46\u001b[0m             \u001b[0mdata\u001b[0m \u001b[0;34m=\u001b[0m \u001b[0mself\u001b[0m\u001b[0;34m.\u001b[0m\u001b[0mdataset\u001b[0m\u001b[0;34m[\u001b[0m\u001b[0mpossibly_batched_index\u001b[0m\u001b[0;34m]\u001b[0m\u001b[0;34m\u001b[0m\u001b[0;34m\u001b[0m\u001b[0m\n",
            "\u001b[0;32m/usr/local/lib/python3.7/dist-packages/torchvision/datasets/mnist.py\u001b[0m in \u001b[0;36m__getitem__\u001b[0;34m(self, index)\u001b[0m\n\u001b[1;32m    129\u001b[0m         \u001b[0;31m# doing this so that it is consistent with all other datasets\u001b[0m\u001b[0;34m\u001b[0m\u001b[0;34m\u001b[0m\u001b[0;34m\u001b[0m\u001b[0m\n\u001b[1;32m    130\u001b[0m         \u001b[0;31m# to return a PIL Image\u001b[0m\u001b[0;34m\u001b[0m\u001b[0;34m\u001b[0m\u001b[0;34m\u001b[0m\u001b[0m\n\u001b[0;32m--> 131\u001b[0;31m         \u001b[0mimg\u001b[0m \u001b[0;34m=\u001b[0m \u001b[0mImage\u001b[0m\u001b[0;34m.\u001b[0m\u001b[0mfromarray\u001b[0m\u001b[0;34m(\u001b[0m\u001b[0mimg\u001b[0m\u001b[0;34m.\u001b[0m\u001b[0mnumpy\u001b[0m\u001b[0;34m(\u001b[0m\u001b[0;34m)\u001b[0m\u001b[0;34m,\u001b[0m \u001b[0mmode\u001b[0m\u001b[0;34m=\u001b[0m\u001b[0;34m'L'\u001b[0m\u001b[0;34m)\u001b[0m\u001b[0;34m\u001b[0m\u001b[0;34m\u001b[0m\u001b[0m\n\u001b[0m\u001b[1;32m    132\u001b[0m \u001b[0;34m\u001b[0m\u001b[0m\n\u001b[1;32m    133\u001b[0m         \u001b[0;32mif\u001b[0m \u001b[0mself\u001b[0m\u001b[0;34m.\u001b[0m\u001b[0mtransform\u001b[0m \u001b[0;32mis\u001b[0m \u001b[0;32mnot\u001b[0m \u001b[0;32mNone\u001b[0m\u001b[0;34m:\u001b[0m\u001b[0;34m\u001b[0m\u001b[0;34m\u001b[0m\u001b[0m\n",
            "\u001b[0;32m/usr/local/lib/python3.7/dist-packages/PIL/Image.py\u001b[0m in \u001b[0;36mfromarray\u001b[0;34m(obj, mode)\u001b[0m\n\u001b[1;32m   2733\u001b[0m             \u001b[0mobj\u001b[0m \u001b[0;34m=\u001b[0m \u001b[0mobj\u001b[0m\u001b[0;34m.\u001b[0m\u001b[0mtostring\u001b[0m\u001b[0;34m(\u001b[0m\u001b[0;34m)\u001b[0m\u001b[0;34m\u001b[0m\u001b[0;34m\u001b[0m\u001b[0m\n\u001b[1;32m   2734\u001b[0m \u001b[0;34m\u001b[0m\u001b[0m\n\u001b[0;32m-> 2735\u001b[0;31m     \u001b[0;32mreturn\u001b[0m \u001b[0mfrombuffer\u001b[0m\u001b[0;34m(\u001b[0m\u001b[0mmode\u001b[0m\u001b[0;34m,\u001b[0m \u001b[0msize\u001b[0m\u001b[0;34m,\u001b[0m \u001b[0mobj\u001b[0m\u001b[0;34m,\u001b[0m \u001b[0;34m\"raw\"\u001b[0m\u001b[0;34m,\u001b[0m \u001b[0mrawmode\u001b[0m\u001b[0;34m,\u001b[0m \u001b[0;36m0\u001b[0m\u001b[0;34m,\u001b[0m \u001b[0;36m1\u001b[0m\u001b[0;34m)\u001b[0m\u001b[0;34m\u001b[0m\u001b[0;34m\u001b[0m\u001b[0m\n\u001b[0m\u001b[1;32m   2736\u001b[0m \u001b[0;34m\u001b[0m\u001b[0m\n\u001b[1;32m   2737\u001b[0m \u001b[0;34m\u001b[0m\u001b[0m\n",
            "\u001b[0;32m/usr/local/lib/python3.7/dist-packages/PIL/Image.py\u001b[0m in \u001b[0;36mfrombuffer\u001b[0;34m(mode, size, data, decoder_name, *args)\u001b[0m\n\u001b[1;32m   2668\u001b[0m             \u001b[0margs\u001b[0m \u001b[0;34m=\u001b[0m \u001b[0mmode\u001b[0m\u001b[0;34m,\u001b[0m \u001b[0;36m0\u001b[0m\u001b[0;34m,\u001b[0m \u001b[0;36m1\u001b[0m\u001b[0;34m\u001b[0m\u001b[0;34m\u001b[0m\u001b[0m\n\u001b[1;32m   2669\u001b[0m         \u001b[0;32mif\u001b[0m \u001b[0margs\u001b[0m\u001b[0;34m[\u001b[0m\u001b[0;36m0\u001b[0m\u001b[0;34m]\u001b[0m \u001b[0;32min\u001b[0m \u001b[0m_MAPMODES\u001b[0m\u001b[0;34m:\u001b[0m\u001b[0;34m\u001b[0m\u001b[0;34m\u001b[0m\u001b[0m\n\u001b[0;32m-> 2670\u001b[0;31m             \u001b[0mim\u001b[0m \u001b[0;34m=\u001b[0m \u001b[0mnew\u001b[0m\u001b[0;34m(\u001b[0m\u001b[0mmode\u001b[0m\u001b[0;34m,\u001b[0m \u001b[0;34m(\u001b[0m\u001b[0;36m1\u001b[0m\u001b[0;34m,\u001b[0m \u001b[0;36m1\u001b[0m\u001b[0;34m)\u001b[0m\u001b[0;34m)\u001b[0m\u001b[0;34m\u001b[0m\u001b[0;34m\u001b[0m\u001b[0m\n\u001b[0m\u001b[1;32m   2671\u001b[0m             \u001b[0mim\u001b[0m \u001b[0;34m=\u001b[0m \u001b[0mim\u001b[0m\u001b[0;34m.\u001b[0m\u001b[0m_new\u001b[0m\u001b[0;34m(\u001b[0m\u001b[0mcore\u001b[0m\u001b[0;34m.\u001b[0m\u001b[0mmap_buffer\u001b[0m\u001b[0;34m(\u001b[0m\u001b[0mdata\u001b[0m\u001b[0;34m,\u001b[0m \u001b[0msize\u001b[0m\u001b[0;34m,\u001b[0m \u001b[0mdecoder_name\u001b[0m\u001b[0;34m,\u001b[0m \u001b[0;36m0\u001b[0m\u001b[0;34m,\u001b[0m \u001b[0margs\u001b[0m\u001b[0;34m)\u001b[0m\u001b[0;34m)\u001b[0m\u001b[0;34m\u001b[0m\u001b[0;34m\u001b[0m\u001b[0m\n\u001b[1;32m   2672\u001b[0m             \u001b[0mim\u001b[0m\u001b[0;34m.\u001b[0m\u001b[0mreadonly\u001b[0m \u001b[0;34m=\u001b[0m \u001b[0;36m1\u001b[0m\u001b[0;34m\u001b[0m\u001b[0;34m\u001b[0m\u001b[0m\n",
            "\u001b[0;32m/usr/local/lib/python3.7/dist-packages/PIL/Image.py\u001b[0m in \u001b[0;36mnew\u001b[0;34m(mode, size, color)\u001b[0m\n\u001b[1;32m   2570\u001b[0m \u001b[0;34m\u001b[0m\u001b[0m\n\u001b[1;32m   2571\u001b[0m     \u001b[0mim\u001b[0m \u001b[0;34m=\u001b[0m \u001b[0mImage\u001b[0m\u001b[0;34m(\u001b[0m\u001b[0;34m)\u001b[0m\u001b[0;34m\u001b[0m\u001b[0;34m\u001b[0m\u001b[0m\n\u001b[0;32m-> 2572\u001b[0;31m     \u001b[0;32mif\u001b[0m \u001b[0mmode\u001b[0m \u001b[0;34m==\u001b[0m \u001b[0;34m\"P\"\u001b[0m \u001b[0;32mand\u001b[0m \u001b[0misinstance\u001b[0m\u001b[0;34m(\u001b[0m\u001b[0mcolor\u001b[0m\u001b[0;34m,\u001b[0m \u001b[0;34m(\u001b[0m\u001b[0mlist\u001b[0m\u001b[0;34m,\u001b[0m \u001b[0mtuple\u001b[0m\u001b[0;34m)\u001b[0m\u001b[0;34m)\u001b[0m \u001b[0;32mand\u001b[0m \u001b[0mlen\u001b[0m\u001b[0;34m(\u001b[0m\u001b[0mcolor\u001b[0m\u001b[0;34m)\u001b[0m \u001b[0;32min\u001b[0m \u001b[0;34m[\u001b[0m\u001b[0;36m3\u001b[0m\u001b[0;34m,\u001b[0m \u001b[0;36m4\u001b[0m\u001b[0;34m]\u001b[0m\u001b[0;34m:\u001b[0m\u001b[0;34m\u001b[0m\u001b[0;34m\u001b[0m\u001b[0m\n\u001b[0m\u001b[1;32m   2573\u001b[0m         \u001b[0;31m# RGB or RGBA value for a P image\u001b[0m\u001b[0;34m\u001b[0m\u001b[0;34m\u001b[0m\u001b[0;34m\u001b[0m\u001b[0m\n\u001b[1;32m   2574\u001b[0m         \u001b[0;32mfrom\u001b[0m \u001b[0;34m.\u001b[0m \u001b[0;32mimport\u001b[0m \u001b[0mImagePalette\u001b[0m\u001b[0;34m\u001b[0m\u001b[0;34m\u001b[0m\u001b[0m\n",
            "\u001b[0;31mKeyboardInterrupt\u001b[0m: "
          ]
        }
      ],
      "metadata": {
        "colab": {
          "base_uri": "https://localhost:8080/",
          "height": 826
        },
        "id": "wB6ypz8A0EgW",
        "outputId": "377bc2ef-2321-4a16-e682-9f15026dd828"
      }
    },
    {
      "cell_type": "code",
      "execution_count": 24,
      "source": [
        "images, labels = next(iter(valloader))\r\n",
        "\r\n",
        "img = images[0].view(1, 784)\r\n",
        "with torch.no_grad():\r\n",
        "    logps = model(img)\r\n",
        "\r\n",
        "ps = torch.exp(logps)\r\n",
        "probab = list(ps.numpy()[0])\r\n",
        "print(\"Predicted Digit =\", probab.index(max(probab)))\r\n",
        "print(type(img.view(1, 28, 28)))\r\n",
        "plt.imshow(img.view(1, 28, 28).numpy().squeeze(), cmap='gray_r');"
      ],
      "outputs": [
        {
          "output_type": "stream",
          "name": "stdout",
          "text": [
            "Predicted Digit = 4\n",
            "<class 'torch.Tensor'>\n"
          ]
        },
        {
          "output_type": "display_data",
          "data": {
            "text/plain": [
              "<Figure size 432x288 with 1 Axes>"
            ],
            "image/png": "[encoded data removed]"
          },
          "metadata": {
            "tags": [],
            "needs_background": "light"
          }
        }
      ],
      "metadata": {
        "id": "dWpQITuH5rch",
        "colab": {
          "base_uri": "https://localhost:8080/",
          "height": 300
        },
        "outputId": "781ce802-3d4d-44de-a7f3-7be26ea1d2b6"
      }
    },
    {
      "cell_type": "code",
      "execution_count": 25,
      "source": [
        "correct_count, all_count = 0, 0\r\n",
        "for images,labels in valloader:\r\n",
        "  for i in range(len(labels)):\r\n",
        "    img = images[i].view(1, 784)\r\n",
        "    with torch.no_grad():\r\n",
        "        logps = model(img)\r\n",
        "\r\n",
        "    \r\n",
        "    ps = torch.exp(logps)\r\n",
        "    probab = list(ps.numpy()[0])\r\n",
        "    pred_label = probab.index(max(probab))\r\n",
        "    true_label = labels.numpy()[i]\r\n",
        "    if(true_label == pred_label):\r\n",
        "      correct_count += 1\r\n",
        "    all_count += 1\r\n",
        "\r\n",
        "print(\"Number Of Images Tested =\", all_count)\r\n",
        "print(\"\\nModel Accuracy =\", (correct_count/all_count))"
      ],
      "outputs": [
        {
          "output_type": "stream",
          "name": "stdout",
          "text": [
            "Number Of Images Tested = 10000\n",
            "\n",
            "Model Accuracy = 0.9211\n"
          ]
        }
      ],
      "metadata": {
        "id": "aQ7s_f0w5sem",
        "colab": {
          "base_uri": "https://localhost:8080/"
        },
        "outputId": "39cf24ca-d2db-4ccf-bc83-c788b7ef4376"
      }
    },
    {
      "cell_type": "code",
      "execution_count": 26,
      "source": [
        "torch.save(model.state_dict(), \"./mnist_model.pt\")"
      ],
      "outputs": [],
      "metadata": {
        "id": "cKXdl6m0_aLd"
      }
    },
    {
      "cell_type": "code",
      "execution_count": 27,
      "source": [
        "# Quantization\r\n",
        "model_int8 = torch.quantization.quantize_dynamic(\r\n",
        "    model,  # the original model\r\n",
        "    {torch.nn.Linear},  # a set of layers to dynamically quantize\r\n",
        "    dtype=torch.qint8)  # the target dtype for quantized weights"
      ],
      "outputs": [],
      "metadata": {
        "id": "38e09GI5wywx"
      }
    },
    {
      "cell_type": "code",
      "execution_count": 28,
      "source": [
        "correct_count, all_count = 0, 0\r\n",
        "for images,labels in valloader:\r\n",
        "  for i in range(len(labels)):\r\n",
        "    img = images[i].view(1, 784)\r\n",
        "    with torch.no_grad():\r\n",
        "        logps = model_int8(img)\r\n",
        "\r\n",
        "    \r\n",
        "    ps = torch.exp(logps)\r\n",
        "    probab = list(ps.numpy()[0])\r\n",
        "    pred_label = probab.index(max(probab))\r\n",
        "    true_label = labels.numpy()[i]\r\n",
        "    if(true_label == pred_label):\r\n",
        "      correct_count += 1\r\n",
        "    all_count += 1\r\n",
        "\r\n",
        "print(\"Number Of Images Tested =\", all_count)\r\n",
        "print(\"\\nModel Accuracy =\", (correct_count/all_count))"
      ],
      "outputs": [
        {
          "output_type": "stream",
          "name": "stdout",
          "text": [
            "Number Of Images Tested = 10000\n",
            "\n",
            "Model Accuracy = 0.9211\n"
          ]
        }
      ],
      "metadata": {
        "id": "sj-VUtFcxTw3",
        "colab": {
          "base_uri": "https://localhost:8080/"
        },
        "outputId": "454a70a0-1ca8-4667-d975-3a8830013dbb"
      }
    },
    {
      "cell_type": "code",
      "execution_count": 29,
      "source": [
        "model_int8\r\n",
        "torch.save(model_int8.state_dict(), \"./mnist_model_int8.pt\")"
      ],
      "outputs": [],
      "metadata": {
        "id": "jCiJGpZTxU1S"
      }
    },
    {
      "cell_type": "code",
      "execution_count": 30,
      "source": [
        "from torchsummary import summary\r\n",
        "\r\n",
        "summary(model, (1, 28*28))"
      ],
      "outputs": [
        {
          "output_type": "stream",
          "name": "stdout",
          "text": [
            "----------------------------------------------------------------\n",
            "        Layer (type)               Output Shape         Param #\n",
            "================================================================\n",
            "            Linear-1               [-1, 1, 128]         100,480\n",
            "            Linear-2                [-1, 1, 64]           8,256\n",
            "            Linear-3                [-1, 1, 10]             650\n",
            "        LogSoftmax-4                [-1, 1, 10]               0\n",
            "================================================================\n",
            "Total params: 109,386\n",
            "Trainable params: 109,386\n",
            "Non-trainable params: 0\n",
            "----------------------------------------------------------------\n",
            "Input size (MB): 0.00\n",
            "Forward/backward pass size (MB): 0.00\n",
            "Params size (MB): 0.42\n",
            "Estimated Total Size (MB): 0.42\n",
            "----------------------------------------------------------------\n"
          ]
        }
      ],
      "metadata": {
        "id": "_yBJG48Exp3w",
        "colab": {
          "base_uri": "https://localhost:8080/"
        },
        "outputId": "ad71aac8-c168-431a-fd0c-cc3c38723db4"
      }
    },
    {
      "cell_type": "markdown",
      "source": [
        "Numpy Test"
      ],
      "metadata": {}
    },
    {
      "cell_type": "code",
      "execution_count": null,
      "source": [
        "import os\r\n",
        "\r\n",
        "weight_dir = os.path(\"./weights\")\r\n"
      ],
      "outputs": [],
      "metadata": {}
    }
  ]
}